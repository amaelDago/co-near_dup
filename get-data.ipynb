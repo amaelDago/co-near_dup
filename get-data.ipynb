{
 "metadata": {
  "language_info": {
   "codemirror_mode": {
    "name": "ipython",
    "version": 3
   },
   "file_extension": ".py",
   "mimetype": "text/x-python",
   "name": "python",
   "nbconvert_exporter": "python",
   "pygments_lexer": "ipython3",
   "version": "3.8.5"
  },
  "orig_nbformat": 2,
  "kernelspec": {
   "name": "python385jvsc74a57bd0fbbb205bcf0e6e6dc058da4caac1dea5690b364b8e6e7e3faad64b2e01ee6bd0",
   "display_name": "Python 3.8.5 64-bit ('base': conda)"
  },
  "metadata": {
   "interpreter": {
    "hash": "fbbb205bcf0e6e6dc058da4caac1dea5690b364b8e6e7e3faad64b2e01ee6bd0"
   }
  }
 },
 "nbformat": 4,
 "nbformat_minor": 2,
 "cells": [
  {
   "cell_type": "code",
   "execution_count": 23,
   "metadata": {},
   "outputs": [
    {
     "output_type": "error",
     "ename": "ImportError",
     "evalue": "cannot import name 'Notice' from 'utils' (/home/dago/Documents/TDM/sprint-5/co-near_dup/utils.py)",
     "traceback": [
      "\u001b[0;31m---------------------------------------------------------------------------\u001b[0m",
      "\u001b[0;31mImportError\u001b[0m                               Traceback (most recent call last)",
      "\u001b[0;32m<ipython-input-23-ece4e0e707d8>\u001b[0m in \u001b[0;36m<module>\u001b[0;34m\u001b[0m\n\u001b[1;32m      2\u001b[0m \u001b[0;32mimport\u001b[0m \u001b[0mpandas\u001b[0m \u001b[0;32mas\u001b[0m \u001b[0mpd\u001b[0m\u001b[0;34m\u001b[0m\u001b[0;34m\u001b[0m\u001b[0m\n\u001b[1;32m      3\u001b[0m \u001b[0;32mimport\u001b[0m \u001b[0mos\u001b[0m\u001b[0;34m\u001b[0m\u001b[0;34m\u001b[0m\u001b[0m\n\u001b[0;32m----> 4\u001b[0;31m \u001b[0;32mfrom\u001b[0m \u001b[0mutils\u001b[0m \u001b[0;32mimport\u001b[0m \u001b[0mNotice\u001b[0m\u001b[0;34m,\u001b[0m \u001b[0mcompare_notice\u001b[0m\u001b[0;34m\u001b[0m\u001b[0;34m\u001b[0m\u001b[0m\n\u001b[0m\u001b[1;32m      5\u001b[0m \u001b[0;32mfrom\u001b[0m \u001b[0msklearn\u001b[0m\u001b[0;34m.\u001b[0m\u001b[0mmetrics\u001b[0m \u001b[0;32mimport\u001b[0m \u001b[0mprecision_score\u001b[0m\u001b[0;34m,\u001b[0m \u001b[0mrecall_score\u001b[0m\u001b[0;34m,\u001b[0m \u001b[0mf1_score\u001b[0m\u001b[0;34m,\u001b[0m \u001b[0mconfusion_matrix\u001b[0m\u001b[0;34m\u001b[0m\u001b[0;34m\u001b[0m\u001b[0m\n\u001b[1;32m      6\u001b[0m \u001b[0;34m\u001b[0m\u001b[0m\n",
      "\u001b[0;31mImportError\u001b[0m: cannot import name 'Notice' from 'utils' (/home/dago/Documents/TDM/sprint-5/co-near_dup/utils.py)"
     ]
    }
   ],
   "source": [
    "import json\n",
    "import pandas as pd\n",
    "import os\n",
    "from utils import Notice, compare_notice\n",
    "from sklearn.metrics import precision_score, recall_score, f1_score, confusion_matrix\n",
    "\n",
    "with open(\"data/database/database.json\", \"r\") as f : \n",
    "    db = json.load(f)\n",
    "\n",
    "df = pd.DataFrame(db.values())\n",
    "\n",
    "def get_notice_from_sourceUid(sourceUid, df = df): \n",
    "    if not isinstance(sourceUid, str) : \n",
    "        sourceUid = str(sourceUid)\n",
    "    n_serie = df[df.sourceUid == sourceUid]\n",
    "    t = n_serie.T.to_json()\n",
    "    t_json = list(json.loads(t).values())[0]\n",
    "    return t_json\n",
    "\n",
    "def vectorize(sourceUid1, sourceUid2, df = df) : \n",
    "    notice1 = get_notice_from_sourceUid(sourceUid1, df)\n",
    "    notice2 = get_notice_from_sourceUid(sourceUid2, df)\n",
    "    d = compare_notice(notice1, notice2)\n",
    "    return d\n",
    "\n",
    "path = \"data/test-data/\"\n",
    "files = os.listdir(path)\n",
    "for file in files : \n",
    "        test = pd.read_csv(path + file, encoding = \"utf8\", sep = \"\\t\")\n",
    "        \n",
    "        arr = []\n",
    "        for x,y in zip(test.sourceUid1, test.sourceUid2) : \n",
    "                arr.append(vectorize(x, y))\n",
    "\n",
    "        assert len(arr) == len(test)\n",
    "        test_df = pd.DataFrame(arr)\n",
    "\n",
    "        y_test = test['validation manuelle']\n",
    "        y_pred = test_df\n",
    "\n",
    "        print(file)\n",
    "        print(precision_score(y_test, y_pred))\n",
    "        print(recall_score(y_test, y_pred))\n",
    "        print(f1_score(y_test, y_pred))\n",
    "        print(confusion_matrix(y_test, y_pred))\n",
    "        print()"
   ]
  },
  {
   "cell_type": "code",
   "execution_count": 9,
   "metadata": {},
   "outputs": [],
   "source": [
    "test = pd.read_csv(path + files[0], encoding = \"utf8\", sep = \"\\t\")\n",
    "arr = []\n",
    "for x,y in zip(test.sourceUid1, test.sourceUid2) : \n",
    "    arr.append(vectorize(x, y))\n"
   ]
  },
  {
   "cell_type": "code",
   "execution_count": 6,
   "metadata": {},
   "outputs": [
    {
     "output_type": "execute_result",
     "data": {
      "text/plain": [
       "{'Article', 'Autre', 'Chapitre', 'Conférence', 'Ouvrage', 'Rapport', 'Thèse'}"
      ]
     },
     "metadata": {},
     "execution_count": 6
    }
   ],
   "source": [
    "set([x for x in df.typeConditor])"
   ]
  },
  {
   "cell_type": "code",
   "execution_count": 5,
   "metadata": {},
   "outputs": [],
   "source": []
  },
  {
   "cell_type": "code",
   "execution_count": 55,
   "metadata": {},
   "outputs": [
    {
     "output_type": "stream",
     "name": "stdout",
     "text": [
      "The Role of Reputation and Competition on the Nature of Lies in Financial Markets\n['COMM']\nNone\n"
     ]
    },
    {
     "output_type": "execute_result",
     "data": {
      "text/plain": [
       "<meeting>\n",
       "<title>EWEBE 2019, European Workshop on Experimental and Behavioral Economics</title>\n",
       "<date type=\"start\">2019-06-17</date>\n",
       "<date type=\"end\">2019-06-18</date>\n",
       "<settlement>Ecully</settlement>\n",
       "<country key=\"FR\">France</country>\n",
       "</meeting>"
      ]
     },
     "metadata": {},
     "execution_count": 55
    }
   ],
   "source": [
    "from utils import getSettlement\n",
    "\n",
    "source1 = \"hal$halshs-02196766\"\n",
    "source2 = \"hal$halshs-02155572\"\n",
    "t = get_notice_from_sourceUid(source2)\n",
    "print(t[\"title\"][\"default\"])\n",
    "print(t[\"documentType\"])\n",
    "print(t[\"doi\"])\n",
    "getSettlement(t[\"teiBlob\"])"
   ]
  },
  {
   "cell_type": "code",
   "execution_count": 1,
   "metadata": {},
   "outputs": [
    {
     "output_type": "error",
     "ename": "KeyError",
     "evalue": "''",
     "traceback": [
      "\u001b[0;31m---------------------------------------------------------------------------\u001b[0m",
      "\u001b[0;31mKeyError\u001b[0m                                  Traceback (most recent call last)",
      "\u001b[0;32m<ipython-input-1-773e55390262>\u001b[0m in \u001b[0;36m<module>\u001b[0;34m\u001b[0m\n\u001b[1;32m     17\u001b[0m \u001b[0;34m\u001b[0m\u001b[0m\n\u001b[1;32m     18\u001b[0m     \u001b[0mcomp\u001b[0m \u001b[0;34m=\u001b[0m \u001b[0mNoticeComparison\u001b[0m\u001b[0;34m(\u001b[0m\u001b[0mtest\u001b[0m\u001b[0;34m.\u001b[0m\u001b[0msourceUid1\u001b[0m\u001b[0;34m,\u001b[0m \u001b[0mtest\u001b[0m\u001b[0;34m.\u001b[0m\u001b[0msourceUid2\u001b[0m\u001b[0;34m,\u001b[0m \u001b[0mdf\u001b[0m\u001b[0;34m,\u001b[0m  \u001b[0mratio\u001b[0m\u001b[0;34m)\u001b[0m\u001b[0;34m\u001b[0m\u001b[0;34m\u001b[0m\u001b[0m\n\u001b[0;32m---> 19\u001b[0;31m     \u001b[0mcomp\u001b[0m\u001b[0;34m.\u001b[0m\u001b[0mcompare_notice\u001b[0m\u001b[0;34m(\u001b[0m\u001b[0;34m)\u001b[0m\u001b[0;34m\u001b[0m\u001b[0;34m\u001b[0m\u001b[0m\n\u001b[0m\u001b[1;32m     20\u001b[0m     \u001b[0my_test\u001b[0m \u001b[0;34m=\u001b[0m \u001b[0mtest\u001b[0m\u001b[0;34m[\u001b[0m\u001b[0;34m'validation manuelle'\u001b[0m\u001b[0;34m]\u001b[0m\u001b[0;34m\u001b[0m\u001b[0;34m\u001b[0m\u001b[0m\n\u001b[1;32m     21\u001b[0m     \u001b[0mstats\u001b[0m \u001b[0;34m=\u001b[0m \u001b[0mcomp\u001b[0m\u001b[0;34m.\u001b[0m\u001b[0mget_stats\u001b[0m\u001b[0;34m(\u001b[0m\u001b[0my_test\u001b[0m\u001b[0;34m)\u001b[0m\u001b[0;34m\u001b[0m\u001b[0;34m\u001b[0m\u001b[0m\n",
      "\u001b[0;32m~/Documents/TDM/sprint-5/co-near_dup/utils.py\u001b[0m in \u001b[0;36mcompare_notice\u001b[0;34m(self)\u001b[0m\n\u001b[1;32m    474\u001b[0m             \u001b[0mtemp1\u001b[0m \u001b[0;34m=\u001b[0m \u001b[0mself\u001b[0m\u001b[0;34m.\u001b[0m\u001b[0mRecord\u001b[0m\u001b[0;34m(\u001b[0m\u001b[0mget_notice_from_sourceUid\u001b[0m\u001b[0;34m(\u001b[0m\u001b[0mx\u001b[0m\u001b[0;34m,\u001b[0m \u001b[0mself\u001b[0m\u001b[0;34m.\u001b[0m\u001b[0mdf\u001b[0m\u001b[0;34m)\u001b[0m\u001b[0;34m)\u001b[0m\u001b[0;34m\u001b[0m\u001b[0;34m\u001b[0m\u001b[0m\n\u001b[1;32m    475\u001b[0m             \u001b[0mtemp2\u001b[0m \u001b[0;34m=\u001b[0m \u001b[0mself\u001b[0m\u001b[0;34m.\u001b[0m\u001b[0mRecord\u001b[0m\u001b[0;34m(\u001b[0m\u001b[0mget_notice_from_sourceUid\u001b[0m\u001b[0;34m(\u001b[0m\u001b[0my\u001b[0m\u001b[0;34m,\u001b[0m \u001b[0mself\u001b[0m\u001b[0;34m.\u001b[0m\u001b[0mdf\u001b[0m\u001b[0;34m)\u001b[0m\u001b[0;34m)\u001b[0m\u001b[0;34m\u001b[0m\u001b[0;34m\u001b[0m\u001b[0m\n\u001b[0;32m--> 476\u001b[0;31m             \u001b[0mdictionary\u001b[0m \u001b[0;34m=\u001b[0m \u001b[0mcompare_notice\u001b[0m\u001b[0;34m(\u001b[0m\u001b[0mtemp1\u001b[0m\u001b[0;34m,\u001b[0m \u001b[0mtemp2\u001b[0m\u001b[0;34m)\u001b[0m\u001b[0;34m\u001b[0m\u001b[0;34m\u001b[0m\u001b[0m\n\u001b[0m\u001b[1;32m    477\u001b[0m             \u001b[0mresult\u001b[0m \u001b[0;34m=\u001b[0m \u001b[0mget_validation\u001b[0m\u001b[0;34m(\u001b[0m\u001b[0mdictionary\u001b[0m\u001b[0;34m,\u001b[0m \u001b[0mself\u001b[0m\u001b[0;34m.\u001b[0m\u001b[0mratio\u001b[0m\u001b[0;34m)\u001b[0m\u001b[0;34m\u001b[0m\u001b[0;34m\u001b[0m\u001b[0m\n\u001b[1;32m    478\u001b[0m             \u001b[0mself\u001b[0m\u001b[0;34m.\u001b[0m\u001b[0mdataframe\u001b[0m\u001b[0;34m.\u001b[0m\u001b[0mappend\u001b[0m\u001b[0;34m(\u001b[0m\u001b[0mresult\u001b[0m\u001b[0;34m)\u001b[0m\u001b[0;34m\u001b[0m\u001b[0;34m\u001b[0m\u001b[0m\n",
      "\u001b[0;32m~/Documents/TDM/sprint-5/co-near_dup/utils.py\u001b[0m in \u001b[0;36mcompare_notice\u001b[0;34m(n1, n2, coef_dict, threshold)\u001b[0m\n\u001b[1;32m    404\u001b[0m \u001b[0;34m\u001b[0m\u001b[0m\n\u001b[1;32m    405\u001b[0m         \u001b[0;31m# volume\u001b[0m\u001b[0;34m\u001b[0m\u001b[0;34m\u001b[0m\u001b[0;34m\u001b[0m\u001b[0m\n\u001b[0;32m--> 406\u001b[0;31m         \u001b[0mdico\u001b[0m\u001b[0;34m[\u001b[0m\u001b[0;34m\"\"\u001b[0m\u001b[0;34m]\u001b[0m\u001b[0;34m\u001b[0m\u001b[0;34m\u001b[0m\u001b[0m\n\u001b[0m\u001b[1;32m    407\u001b[0m \u001b[0;34m\u001b[0m\u001b[0m\n\u001b[1;32m    408\u001b[0m \u001b[0;34m\u001b[0m\u001b[0m\n",
      "\u001b[0;31mKeyError\u001b[0m: ''"
     ]
    }
   ],
   "source": [
    "import os\n",
    "import json\n",
    "import pandas as pd\n",
    "from config import ratio\n",
    "from utils import NoticeComparison, compare_notice\n",
    "\n",
    "with open(\"data/database/database.json\", \"r\") as f : \n",
    "    db = json.load(f)\n",
    "\n",
    "df = pd.DataFrame(db.values())\n",
    "\n",
    "\n",
    "path = \"data/test-data/\"\n",
    "files = os.listdir(path)\n",
    "for file in files : \n",
    "    test = pd.read_csv(path + file, encoding = \"utf8\", sep = \"\\t\")\n",
    "    \n",
    "    comp = NoticeComparison(test.sourceUid1, test.sourceUid2, df,  ratio)\n",
    "    comp.compare_notice()\n",
    "    y_test = test['validation manuelle']\n",
    "    stats = comp.get_stats(y_test)\n",
    "\n",
    "    print(file)\n",
    "    print(stats)\n",
    "    print()"
   ]
  },
  {
   "cell_type": "code",
   "execution_count": 3,
   "metadata": {},
   "outputs": [
    {
     "output_type": "stream",
     "name": "stdout",
     "text": [
      "doublons-incertains-autres.tsv\n"
     ]
    }
   ],
   "source": [
    "i = 0\n",
    "test = pd.read_csv(path + files[i], encoding = \"utf8\", sep = \"\\t\")\n",
    "\n",
    "print(files[i])\n",
    "comp = NoticeComparison(test.sourceUid1, test.sourceUid2, df)\n",
    "comp.compare_notice()"
   ]
  },
  {
   "cell_type": "code",
   "execution_count": 3,
   "metadata": {},
   "outputs": [
    {
     "output_type": "execute_result",
     "data": {
      "text/plain": [
       "(138, 4)"
      ]
     },
     "metadata": {},
     "execution_count": 3
    }
   ],
   "source": [
    "test.shape"
   ]
  },
  {
   "cell_type": "code",
   "execution_count": 4,
   "metadata": {},
   "outputs": [
    {
     "output_type": "stream",
     "name": "stdout",
     "text": [
      "doublons-incertains.tsv\n"
     ]
    }
   ],
   "source": [
    "print(file)\n",
    "test_df = pd.DataFrame(comp.file)\n",
    "test_df.to_csv(\"test.tsv\", sep = \"\\t\")"
   ]
  },
  {
   "cell_type": "code",
   "execution_count": 92,
   "metadata": {},
   "outputs": [],
   "source": [
    "from utils import get_notice_from_sourceUid, getSettlement, Notice\n",
    "s1 = \"pubmed$26880373\"\n",
    "s2 = \"hal$hal-01482499\"\n",
    "\n",
    "t1 = get_notice_from_sourceUid(s1, df)\n",
    "t11 = Notice(t1)\n",
    "\n",
    "t2 = get_notice_from_sourceUid(s2, df)\n",
    "t22 = Notice(t2)\n",
    "#set1 = getSettlement(t[\"teiBlob\"])"
   ]
  },
  {
   "cell_type": "code",
   "execution_count": 9,
   "metadata": {},
   "outputs": [],
   "source": [
    "t1 = get_notice_from_sourceUid(s2, df)\n",
    "set2 = getSettlement(t[\"teiBlob\"])"
   ]
  },
  {
   "cell_type": "code",
   "execution_count": 102,
   "metadata": {},
   "outputs": [
    {
     "output_type": "execute_result",
     "data": {
      "text/plain": [
       "{'default_title': [0.9, 1],\n",
       " 'doi': [0.9, 1],\n",
       " 'eissn': [0.9, 1],\n",
       " 'issn': [0.1, 1],\n",
       " 'meeting': [0.1, 1],\n",
       " 'settlement': [0.1, 1],\n",
       " 'issue': [0.1, 1],\n",
       " 'page_range': [0.1, 1]}"
      ]
     },
     "metadata": {},
     "execution_count": 102
    }
   ],
   "source": [
    "#from utils import compare_settlement\n",
    "\n",
    "compare_notice(t11, t11)"
   ]
  },
  {
   "cell_type": "code",
   "execution_count": 99,
   "metadata": {},
   "outputs": [
    {
     "output_type": "stream",
     "name": "stdout",
     "text": [
      "doi\n10.1186/s13063-016-1211-x\n10.1186/s13063-016-1211-x\n\ndefault_title\nReduction of self-perceived discomforts in critically ill patients in French intensive care units: study protocol for a cluster-randomized controlled trial.\nReduction of self-perceived discomforts in critically ill patients in French intensive care units: study protocol for a cluster-randomized controlled trial.\n\nmeeting\n\n\n\njournal\nTrials\nTrials\n\npubli_date\n2016-02-16\n2016-02-16\n\npage_range\n87\n87\n\nissue\nNone\nNone\n\nsource\npubmed\npubmed\n\ndoc_type\nJournal Article\nJournal Article\n\nissn\n[]\n[]\n\neissn\n['1745-6215']\n['1745-6215']\n\nnnt\nNone\nNone\n\nsettlement\nNone\nNone\n\npii\n10.1186/s13063-016-1211-x\n10.1186/s13063-016-1211-x\n\nvolume\n17\n17\n\ntype_conditor\nArticle\nArticle\n\nsourceUid\npubmed$26880373\npubmed$26880373\n\n"
     ]
    }
   ],
   "source": [
    "keys = t11.__dict__.keys()\n",
    "for key in keys :\n",
    "    #if key != \"teiBlob\":\n",
    "    print(key)\n",
    "    print(getattr(t11, key))\n",
    "    print(getattr(t11, key)) \n",
    "    print()\n"
   ]
  },
  {
   "cell_type": "code",
   "execution_count": 101,
   "metadata": {},
   "outputs": [
    {
     "output_type": "execute_result",
     "data": {
      "text/plain": [
       "[0.9, 1]"
      ]
     },
     "metadata": {},
     "execution_count": 101
    }
   ],
   "source": [
    "from utils import checkPR\n",
    "\n",
    "checkPR(87,87)\n",
    "\n",
    "#print(set1)\n",
    "#print()\n",
    "#print(set2)"
   ]
  },
  {
   "cell_type": "code",
   "execution_count": 27,
   "metadata": {},
   "outputs": [
    {
     "output_type": "execute_result",
     "data": {
      "text/plain": [
       "    Unnamed: 0  Precision    Recall  f1_score         confusion_matrix\n",
       "0            0   0.000000  0.000000  0.000000  [[130   0]\\n [  8   0]]\n",
       "1            1   0.000000  0.000000  0.000000  [[219   0]\\n [ 45   0]]\n",
       "2            2   0.000000  0.000000  0.000000  [[212   0]\\n [ 51   0]]\n",
       "3            3   0.000000  0.000000  0.000000  [[102   0]\\n [ 48   0]]\n",
       "4            4   0.000000  0.000000  0.000000  [[130   0]\\n [  8   0]]\n",
       "5            5   0.000000  0.000000  0.000000  [[219   0]\\n [ 45   0]]\n",
       "6            6   0.000000  0.000000  0.000000  [[212   0]\\n [ 51   0]]\n",
       "7            7   0.000000  0.000000  0.000000  [[102   0]\\n [ 48   0]]\n",
       "8            8   0.000000  0.000000  0.000000  [[130   0]\\n [  8   0]]\n",
       "9            9   0.000000  0.000000  0.000000  [[219   0]\\n [ 45   0]]\n",
       "10          10   0.000000  0.000000  0.000000  [[212   0]\\n [ 51   0]]\n",
       "11          11   0.000000  0.000000  0.000000  [[102   0]\\n [ 48   0]]\n",
       "12          12   0.000000  0.000000  0.000000  [[130   0]\\n [  8   0]]\n",
       "13          13   0.000000  0.000000  0.000000  [[219   0]\\n [ 45   0]]\n",
       "14          14   0.000000  0.000000  0.000000  [[212   0]\\n [ 51   0]]\n",
       "15          15   0.000000  0.000000  0.000000  [[102   0]\\n [ 48   0]]\n",
       "16          16   0.000000  0.000000  0.000000  [[130   0]\\n [  8   0]]\n",
       "17          17   0.000000  0.000000  0.000000  [[219   0]\\n [ 45   0]]\n",
       "18          18   0.000000  0.000000  0.000000  [[212   0]\\n [ 51   0]]\n",
       "19          19   0.000000  0.000000  0.000000  [[102   0]\\n [ 48   0]]\n",
       "20          20   0.000000  0.000000  0.000000  [[130   0]\\n [  8   0]]\n",
       "21          21   1.000000  0.200000  0.333333  [[219   0]\\n [ 36   9]]\n",
       "22          22   1.000000  0.274510  0.430769  [[212   0]\\n [ 37  14]]\n",
       "23          23   1.000000  0.104167  0.188679  [[102   0]\\n [ 43   5]]\n",
       "24          24   0.000000  0.000000  0.000000  [[130   0]\\n [  8   0]]\n",
       "25          25   1.000000  0.200000  0.333333  [[219   0]\\n [ 36   9]]\n",
       "26          26   1.000000  0.274510  0.430769  [[212   0]\\n [ 37  14]]\n",
       "27          27   1.000000  0.104167  0.188679  [[102   0]\\n [ 43   5]]\n",
       "28          28   0.000000  0.000000  0.000000  [[130   0]\\n [  8   0]]\n",
       "29          29   0.944444  0.377778  0.539683  [[218   1]\\n [ 28  17]]\n",
       "30          30   0.823529  0.274510  0.411765  [[209   3]\\n [ 37  14]]\n",
       "31          31   0.923077  0.250000  0.393443  [[101   1]\\n [ 36  12]]\n",
       "32          32   1.000000  0.125000  0.222222  [[130   0]\\n [  7   1]]\n",
       "33          33   0.961538  0.555556  0.704225  [[218   1]\\n [ 20  25]]\n",
       "34          34   0.650000  0.509804  0.571429  [[198  14]\\n [ 25  26]]\n",
       "35          35   0.906250  0.604167  0.725000      [[99  3]\\n [19 29]]\n",
       "36          36   0.500000  0.125000  0.200000  [[129   1]\\n [  7   1]]\n",
       "37          37   0.771429  0.600000  0.675000  [[211   8]\\n [ 18  27]]\n",
       "38          38   0.613636  0.529412  0.568421  [[195  17]\\n [ 24  27]]\n",
       "39          39   0.880952  0.770833  0.822222      [[97  5]\\n [11 37]]\n",
       "40          40   0.057971  1.000000  0.109589  [[  0 130]\\n [  0   8]]\n",
       "41          41   0.771429  0.600000  0.675000  [[211   8]\\n [ 18  27]]\n",
       "42          42   0.256983  0.901961  0.400000  [[ 79 133]\\n [  5  46]]\n",
       "43          43   0.456522  0.875000  0.600000      [[52 50]\\n [ 6 42]]"
      ],
      "text/html": "<div>\n<style scoped>\n    .dataframe tbody tr th:only-of-type {\n        vertical-align: middle;\n    }\n\n    .dataframe tbody tr th {\n        vertical-align: top;\n    }\n\n    .dataframe thead th {\n        text-align: right;\n    }\n</style>\n<table border=\"1\" class=\"dataframe\">\n  <thead>\n    <tr style=\"text-align: right;\">\n      <th></th>\n      <th>Unnamed: 0</th>\n      <th>Precision</th>\n      <th>Recall</th>\n      <th>f1_score</th>\n      <th>confusion_matrix</th>\n    </tr>\n  </thead>\n  <tbody>\n    <tr>\n      <th>0</th>\n      <td>0</td>\n      <td>0.000000</td>\n      <td>0.000000</td>\n      <td>0.000000</td>\n      <td>[[130   0]\\n [  8   0]]</td>\n    </tr>\n    <tr>\n      <th>1</th>\n      <td>1</td>\n      <td>0.000000</td>\n      <td>0.000000</td>\n      <td>0.000000</td>\n      <td>[[219   0]\\n [ 45   0]]</td>\n    </tr>\n    <tr>\n      <th>2</th>\n      <td>2</td>\n      <td>0.000000</td>\n      <td>0.000000</td>\n      <td>0.000000</td>\n      <td>[[212   0]\\n [ 51   0]]</td>\n    </tr>\n    <tr>\n      <th>3</th>\n      <td>3</td>\n      <td>0.000000</td>\n      <td>0.000000</td>\n      <td>0.000000</td>\n      <td>[[102   0]\\n [ 48   0]]</td>\n    </tr>\n    <tr>\n      <th>4</th>\n      <td>4</td>\n      <td>0.000000</td>\n      <td>0.000000</td>\n      <td>0.000000</td>\n      <td>[[130   0]\\n [  8   0]]</td>\n    </tr>\n    <tr>\n      <th>5</th>\n      <td>5</td>\n      <td>0.000000</td>\n      <td>0.000000</td>\n      <td>0.000000</td>\n      <td>[[219   0]\\n [ 45   0]]</td>\n    </tr>\n    <tr>\n      <th>6</th>\n      <td>6</td>\n      <td>0.000000</td>\n      <td>0.000000</td>\n      <td>0.000000</td>\n      <td>[[212   0]\\n [ 51   0]]</td>\n    </tr>\n    <tr>\n      <th>7</th>\n      <td>7</td>\n      <td>0.000000</td>\n      <td>0.000000</td>\n      <td>0.000000</td>\n      <td>[[102   0]\\n [ 48   0]]</td>\n    </tr>\n    <tr>\n      <th>8</th>\n      <td>8</td>\n      <td>0.000000</td>\n      <td>0.000000</td>\n      <td>0.000000</td>\n      <td>[[130   0]\\n [  8   0]]</td>\n    </tr>\n    <tr>\n      <th>9</th>\n      <td>9</td>\n      <td>0.000000</td>\n      <td>0.000000</td>\n      <td>0.000000</td>\n      <td>[[219   0]\\n [ 45   0]]</td>\n    </tr>\n    <tr>\n      <th>10</th>\n      <td>10</td>\n      <td>0.000000</td>\n      <td>0.000000</td>\n      <td>0.000000</td>\n      <td>[[212   0]\\n [ 51   0]]</td>\n    </tr>\n    <tr>\n      <th>11</th>\n      <td>11</td>\n      <td>0.000000</td>\n      <td>0.000000</td>\n      <td>0.000000</td>\n      <td>[[102   0]\\n [ 48   0]]</td>\n    </tr>\n    <tr>\n      <th>12</th>\n      <td>12</td>\n      <td>0.000000</td>\n      <td>0.000000</td>\n      <td>0.000000</td>\n      <td>[[130   0]\\n [  8   0]]</td>\n    </tr>\n    <tr>\n      <th>13</th>\n      <td>13</td>\n      <td>0.000000</td>\n      <td>0.000000</td>\n      <td>0.000000</td>\n      <td>[[219   0]\\n [ 45   0]]</td>\n    </tr>\n    <tr>\n      <th>14</th>\n      <td>14</td>\n      <td>0.000000</td>\n      <td>0.000000</td>\n      <td>0.000000</td>\n      <td>[[212   0]\\n [ 51   0]]</td>\n    </tr>\n    <tr>\n      <th>15</th>\n      <td>15</td>\n      <td>0.000000</td>\n      <td>0.000000</td>\n      <td>0.000000</td>\n      <td>[[102   0]\\n [ 48   0]]</td>\n    </tr>\n    <tr>\n      <th>16</th>\n      <td>16</td>\n      <td>0.000000</td>\n      <td>0.000000</td>\n      <td>0.000000</td>\n      <td>[[130   0]\\n [  8   0]]</td>\n    </tr>\n    <tr>\n      <th>17</th>\n      <td>17</td>\n      <td>0.000000</td>\n      <td>0.000000</td>\n      <td>0.000000</td>\n      <td>[[219   0]\\n [ 45   0]]</td>\n    </tr>\n    <tr>\n      <th>18</th>\n      <td>18</td>\n      <td>0.000000</td>\n      <td>0.000000</td>\n      <td>0.000000</td>\n      <td>[[212   0]\\n [ 51   0]]</td>\n    </tr>\n    <tr>\n      <th>19</th>\n      <td>19</td>\n      <td>0.000000</td>\n      <td>0.000000</td>\n      <td>0.000000</td>\n      <td>[[102   0]\\n [ 48   0]]</td>\n    </tr>\n    <tr>\n      <th>20</th>\n      <td>20</td>\n      <td>0.000000</td>\n      <td>0.000000</td>\n      <td>0.000000</td>\n      <td>[[130   0]\\n [  8   0]]</td>\n    </tr>\n    <tr>\n      <th>21</th>\n      <td>21</td>\n      <td>1.000000</td>\n      <td>0.200000</td>\n      <td>0.333333</td>\n      <td>[[219   0]\\n [ 36   9]]</td>\n    </tr>\n    <tr>\n      <th>22</th>\n      <td>22</td>\n      <td>1.000000</td>\n      <td>0.274510</td>\n      <td>0.430769</td>\n      <td>[[212   0]\\n [ 37  14]]</td>\n    </tr>\n    <tr>\n      <th>23</th>\n      <td>23</td>\n      <td>1.000000</td>\n      <td>0.104167</td>\n      <td>0.188679</td>\n      <td>[[102   0]\\n [ 43   5]]</td>\n    </tr>\n    <tr>\n      <th>24</th>\n      <td>24</td>\n      <td>0.000000</td>\n      <td>0.000000</td>\n      <td>0.000000</td>\n      <td>[[130   0]\\n [  8   0]]</td>\n    </tr>\n    <tr>\n      <th>25</th>\n      <td>25</td>\n      <td>1.000000</td>\n      <td>0.200000</td>\n      <td>0.333333</td>\n      <td>[[219   0]\\n [ 36   9]]</td>\n    </tr>\n    <tr>\n      <th>26</th>\n      <td>26</td>\n      <td>1.000000</td>\n      <td>0.274510</td>\n      <td>0.430769</td>\n      <td>[[212   0]\\n [ 37  14]]</td>\n    </tr>\n    <tr>\n      <th>27</th>\n      <td>27</td>\n      <td>1.000000</td>\n      <td>0.104167</td>\n      <td>0.188679</td>\n      <td>[[102   0]\\n [ 43   5]]</td>\n    </tr>\n    <tr>\n      <th>28</th>\n      <td>28</td>\n      <td>0.000000</td>\n      <td>0.000000</td>\n      <td>0.000000</td>\n      <td>[[130   0]\\n [  8   0]]</td>\n    </tr>\n    <tr>\n      <th>29</th>\n      <td>29</td>\n      <td>0.944444</td>\n      <td>0.377778</td>\n      <td>0.539683</td>\n      <td>[[218   1]\\n [ 28  17]]</td>\n    </tr>\n    <tr>\n      <th>30</th>\n      <td>30</td>\n      <td>0.823529</td>\n      <td>0.274510</td>\n      <td>0.411765</td>\n      <td>[[209   3]\\n [ 37  14]]</td>\n    </tr>\n    <tr>\n      <th>31</th>\n      <td>31</td>\n      <td>0.923077</td>\n      <td>0.250000</td>\n      <td>0.393443</td>\n      <td>[[101   1]\\n [ 36  12]]</td>\n    </tr>\n    <tr>\n      <th>32</th>\n      <td>32</td>\n      <td>1.000000</td>\n      <td>0.125000</td>\n      <td>0.222222</td>\n      <td>[[130   0]\\n [  7   1]]</td>\n    </tr>\n    <tr>\n      <th>33</th>\n      <td>33</td>\n      <td>0.961538</td>\n      <td>0.555556</td>\n      <td>0.704225</td>\n      <td>[[218   1]\\n [ 20  25]]</td>\n    </tr>\n    <tr>\n      <th>34</th>\n      <td>34</td>\n      <td>0.650000</td>\n      <td>0.509804</td>\n      <td>0.571429</td>\n      <td>[[198  14]\\n [ 25  26]]</td>\n    </tr>\n    <tr>\n      <th>35</th>\n      <td>35</td>\n      <td>0.906250</td>\n      <td>0.604167</td>\n      <td>0.725000</td>\n      <td>[[99  3]\\n [19 29]]</td>\n    </tr>\n    <tr>\n      <th>36</th>\n      <td>36</td>\n      <td>0.500000</td>\n      <td>0.125000</td>\n      <td>0.200000</td>\n      <td>[[129   1]\\n [  7   1]]</td>\n    </tr>\n    <tr>\n      <th>37</th>\n      <td>37</td>\n      <td>0.771429</td>\n      <td>0.600000</td>\n      <td>0.675000</td>\n      <td>[[211   8]\\n [ 18  27]]</td>\n    </tr>\n    <tr>\n      <th>38</th>\n      <td>38</td>\n      <td>0.613636</td>\n      <td>0.529412</td>\n      <td>0.568421</td>\n      <td>[[195  17]\\n [ 24  27]]</td>\n    </tr>\n    <tr>\n      <th>39</th>\n      <td>39</td>\n      <td>0.880952</td>\n      <td>0.770833</td>\n      <td>0.822222</td>\n      <td>[[97  5]\\n [11 37]]</td>\n    </tr>\n    <tr>\n      <th>40</th>\n      <td>40</td>\n      <td>0.057971</td>\n      <td>1.000000</td>\n      <td>0.109589</td>\n      <td>[[  0 130]\\n [  0   8]]</td>\n    </tr>\n    <tr>\n      <th>41</th>\n      <td>41</td>\n      <td>0.771429</td>\n      <td>0.600000</td>\n      <td>0.675000</td>\n      <td>[[211   8]\\n [ 18  27]]</td>\n    </tr>\n    <tr>\n      <th>42</th>\n      <td>42</td>\n      <td>0.256983</td>\n      <td>0.901961</td>\n      <td>0.400000</td>\n      <td>[[ 79 133]\\n [  5  46]]</td>\n    </tr>\n    <tr>\n      <th>43</th>\n      <td>43</td>\n      <td>0.456522</td>\n      <td>0.875000</td>\n      <td>0.600000</td>\n      <td>[[52 50]\\n [ 6 42]]</td>\n    </tr>\n  </tbody>\n</table>\n</div>"
     },
     "metadata": {},
     "execution_count": 27
    }
   ],
   "source": [
    "dd = pd.read_csv(\"score.csv\")\n",
    "dd"
   ]
  },
  {
   "cell_type": "code",
   "execution_count": 30,
   "metadata": {},
   "outputs": [],
   "source": [
    "import pandas as pd \n",
    "id0 = dd.loc[list(range(0,43, 4))]\n",
    "id1 = dd.loc[list(range(1,43, 4))]\n",
    "id2 = dd.loc[list(range(2,43, 4))]\n",
    "id3 = dd.loc[list(range(3,43, 4))]"
   ]
  },
  {
   "cell_type": "code",
   "execution_count": 82,
   "metadata": {},
   "outputs": [
    {
     "output_type": "display_data",
     "data": {
      "text/plain": "<Figure size 432x288 with 1 Axes>",
      "image/svg+xml": "<?xml version=\"1.0\" encoding=\"utf-8\" standalone=\"no\"?>\n<!DOCTYPE svg PUBLIC \"-//W3C//DTD SVG 1.1//EN\"\n  \"http://www.w3.org/Graphics/SVG/1.1/DTD/svg11.dtd\">\n<!-- Created with matplotlib (https://matplotlib.org/) -->\n<svg height=\"277.714375pt\" version=\"1.1\" viewBox=\"0 0 385.78125 277.714375\" width=\"385.78125pt\" xmlns=\"http://www.w3.org/2000/svg\" xmlns:xlink=\"http://www.w3.org/1999/xlink\">\n <metadata>\n  <rdf:RDF xmlns:cc=\"http://creativecommons.org/ns#\" xmlns:dc=\"http://purl.org/dc/elements/1.1/\" xmlns:rdf=\"http://www.w3.org/1999/02/22-rdf-syntax-ns#\">\n   <cc:Work>\n    <dc:type rdf:resource=\"http://purl.org/dc/dcmitype/StillImage\"/>\n    <dc:date>2021-05-03T11:32:14.350298</dc:date>\n    <dc:format>image/svg+xml</dc:format>\n    <dc:creator>\n     <cc:Agent>\n      <dc:title>Matplotlib v3.3.2, https://matplotlib.org/</dc:title>\n     </cc:Agent>\n    </dc:creator>\n   </cc:Work>\n  </rdf:RDF>\n </metadata>\n <defs>\n  <style type=\"text/css\">*{stroke-linecap:butt;stroke-linejoin:round;}</style>\n </defs>\n <g id=\"figure_1\">\n  <g id=\"patch_1\">\n   <path d=\"M 0 277.714375 \nL 385.78125 277.714375 \nL 385.78125 0 \nL 0 0 \nz\n\" style=\"fill:none;\"/>\n  </g>\n  <g id=\"axes_1\">\n   <g id=\"patch_2\">\n    <path d=\"M 43.78125 239.758125 \nL 378.58125 239.758125 \nL 378.58125 22.318125 \nL 43.78125 22.318125 \nz\n\" style=\"fill:#ffffff;\"/>\n   </g>\n   <g id=\"matplotlib.axis_1\">\n    <g id=\"xtick_1\">\n     <g id=\"line2d_1\">\n      <defs>\n       <path d=\"M 0 0 \nL 0 3.5 \n\" id=\"m6ac1fa2e16\" style=\"stroke:#000000;stroke-width:0.8;\"/>\n      </defs>\n      <g>\n       <use style=\"stroke:#000000;stroke-width:0.8;\" x=\"58.999432\" xlink:href=\"#m6ac1fa2e16\" y=\"239.758125\"/>\n      </g>\n     </g>\n     <g id=\"text_1\">\n      <!-- 0 -->\n      <g transform=\"translate(55.818182 254.356563)scale(0.1 -0.1)\">\n       <defs>\n        <path d=\"M 31.78125 66.40625 \nQ 24.171875 66.40625 20.328125 58.90625 \nQ 16.5 51.421875 16.5 36.375 \nQ 16.5 21.390625 20.328125 13.890625 \nQ 24.171875 6.390625 31.78125 6.390625 \nQ 39.453125 6.390625 43.28125 13.890625 \nQ 47.125 21.390625 47.125 36.375 \nQ 47.125 51.421875 43.28125 58.90625 \nQ 39.453125 66.40625 31.78125 66.40625 \nz\nM 31.78125 74.21875 \nQ 44.046875 74.21875 50.515625 64.515625 \nQ 56.984375 54.828125 56.984375 36.375 \nQ 56.984375 17.96875 50.515625 8.265625 \nQ 44.046875 -1.421875 31.78125 -1.421875 \nQ 19.53125 -1.421875 13.0625 8.265625 \nQ 6.59375 17.96875 6.59375 36.375 \nQ 6.59375 54.828125 13.0625 64.515625 \nQ 19.53125 74.21875 31.78125 74.21875 \nz\n\" id=\"DejaVuSans-48\"/>\n       </defs>\n       <use xlink:href=\"#DejaVuSans-48\"/>\n      </g>\n     </g>\n    </g>\n    <g id=\"xtick_2\">\n     <g id=\"line2d_2\">\n      <g>\n       <use style=\"stroke:#000000;stroke-width:0.8;\" x=\"126.635795\" xlink:href=\"#m6ac1fa2e16\" y=\"239.758125\"/>\n      </g>\n     </g>\n     <g id=\"text_2\">\n      <!-- 2 -->\n      <g transform=\"translate(123.454545 254.356563)scale(0.1 -0.1)\">\n       <defs>\n        <path d=\"M 19.1875 8.296875 \nL 53.609375 8.296875 \nL 53.609375 0 \nL 7.328125 0 \nL 7.328125 8.296875 \nQ 12.9375 14.109375 22.625 23.890625 \nQ 32.328125 33.6875 34.8125 36.53125 \nQ 39.546875 41.84375 41.421875 45.53125 \nQ 43.3125 49.21875 43.3125 52.78125 \nQ 43.3125 58.59375 39.234375 62.25 \nQ 35.15625 65.921875 28.609375 65.921875 \nQ 23.96875 65.921875 18.8125 64.3125 \nQ 13.671875 62.703125 7.8125 59.421875 \nL 7.8125 69.390625 \nQ 13.765625 71.78125 18.9375 73 \nQ 24.125 74.21875 28.421875 74.21875 \nQ 39.75 74.21875 46.484375 68.546875 \nQ 53.21875 62.890625 53.21875 53.421875 \nQ 53.21875 48.921875 51.53125 44.890625 \nQ 49.859375 40.875 45.40625 35.40625 \nQ 44.1875 33.984375 37.640625 27.21875 \nQ 31.109375 20.453125 19.1875 8.296875 \nz\n\" id=\"DejaVuSans-50\"/>\n       </defs>\n       <use xlink:href=\"#DejaVuSans-50\"/>\n      </g>\n     </g>\n    </g>\n    <g id=\"xtick_3\">\n     <g id=\"line2d_3\">\n      <g>\n       <use style=\"stroke:#000000;stroke-width:0.8;\" x=\"194.272159\" xlink:href=\"#m6ac1fa2e16\" y=\"239.758125\"/>\n      </g>\n     </g>\n     <g id=\"text_3\">\n      <!-- 4 -->\n      <g transform=\"translate(191.090909 254.356563)scale(0.1 -0.1)\">\n       <defs>\n        <path d=\"M 37.796875 64.3125 \nL 12.890625 25.390625 \nL 37.796875 25.390625 \nz\nM 35.203125 72.90625 \nL 47.609375 72.90625 \nL 47.609375 25.390625 \nL 58.015625 25.390625 \nL 58.015625 17.1875 \nL 47.609375 17.1875 \nL 47.609375 0 \nL 37.796875 0 \nL 37.796875 17.1875 \nL 4.890625 17.1875 \nL 4.890625 26.703125 \nz\n\" id=\"DejaVuSans-52\"/>\n       </defs>\n       <use xlink:href=\"#DejaVuSans-52\"/>\n      </g>\n     </g>\n    </g>\n    <g id=\"xtick_4\">\n     <g id=\"line2d_4\">\n      <g>\n       <use style=\"stroke:#000000;stroke-width:0.8;\" x=\"261.908523\" xlink:href=\"#m6ac1fa2e16\" y=\"239.758125\"/>\n      </g>\n     </g>\n     <g id=\"text_4\">\n      <!-- 6 -->\n      <g transform=\"translate(258.727273 254.356563)scale(0.1 -0.1)\">\n       <defs>\n        <path d=\"M 33.015625 40.375 \nQ 26.375 40.375 22.484375 35.828125 \nQ 18.609375 31.296875 18.609375 23.390625 \nQ 18.609375 15.53125 22.484375 10.953125 \nQ 26.375 6.390625 33.015625 6.390625 \nQ 39.65625 6.390625 43.53125 10.953125 \nQ 47.40625 15.53125 47.40625 23.390625 \nQ 47.40625 31.296875 43.53125 35.828125 \nQ 39.65625 40.375 33.015625 40.375 \nz\nM 52.59375 71.296875 \nL 52.59375 62.3125 \nQ 48.875 64.0625 45.09375 64.984375 \nQ 41.3125 65.921875 37.59375 65.921875 \nQ 27.828125 65.921875 22.671875 59.328125 \nQ 17.53125 52.734375 16.796875 39.40625 \nQ 19.671875 43.65625 24.015625 45.921875 \nQ 28.375 48.1875 33.59375 48.1875 \nQ 44.578125 48.1875 50.953125 41.515625 \nQ 57.328125 34.859375 57.328125 23.390625 \nQ 57.328125 12.15625 50.6875 5.359375 \nQ 44.046875 -1.421875 33.015625 -1.421875 \nQ 20.359375 -1.421875 13.671875 8.265625 \nQ 6.984375 17.96875 6.984375 36.375 \nQ 6.984375 53.65625 15.1875 63.9375 \nQ 23.390625 74.21875 37.203125 74.21875 \nQ 40.921875 74.21875 44.703125 73.484375 \nQ 48.484375 72.75 52.59375 71.296875 \nz\n\" id=\"DejaVuSans-54\"/>\n       </defs>\n       <use xlink:href=\"#DejaVuSans-54\"/>\n      </g>\n     </g>\n    </g>\n    <g id=\"xtick_5\">\n     <g id=\"line2d_5\">\n      <g>\n       <use style=\"stroke:#000000;stroke-width:0.8;\" x=\"329.544886\" xlink:href=\"#m6ac1fa2e16\" y=\"239.758125\"/>\n      </g>\n     </g>\n     <g id=\"text_5\">\n      <!-- 8 -->\n      <g transform=\"translate(326.363636 254.356563)scale(0.1 -0.1)\">\n       <defs>\n        <path d=\"M 31.78125 34.625 \nQ 24.75 34.625 20.71875 30.859375 \nQ 16.703125 27.09375 16.703125 20.515625 \nQ 16.703125 13.921875 20.71875 10.15625 \nQ 24.75 6.390625 31.78125 6.390625 \nQ 38.8125 6.390625 42.859375 10.171875 \nQ 46.921875 13.96875 46.921875 20.515625 \nQ 46.921875 27.09375 42.890625 30.859375 \nQ 38.875 34.625 31.78125 34.625 \nz\nM 21.921875 38.8125 \nQ 15.578125 40.375 12.03125 44.71875 \nQ 8.5 49.078125 8.5 55.328125 \nQ 8.5 64.0625 14.71875 69.140625 \nQ 20.953125 74.21875 31.78125 74.21875 \nQ 42.671875 74.21875 48.875 69.140625 \nQ 55.078125 64.0625 55.078125 55.328125 \nQ 55.078125 49.078125 51.53125 44.71875 \nQ 48 40.375 41.703125 38.8125 \nQ 48.828125 37.15625 52.796875 32.3125 \nQ 56.78125 27.484375 56.78125 20.515625 \nQ 56.78125 9.90625 50.3125 4.234375 \nQ 43.84375 -1.421875 31.78125 -1.421875 \nQ 19.734375 -1.421875 13.25 4.234375 \nQ 6.78125 9.90625 6.78125 20.515625 \nQ 6.78125 27.484375 10.78125 32.3125 \nQ 14.796875 37.15625 21.921875 38.8125 \nz\nM 18.3125 54.390625 \nQ 18.3125 48.734375 21.84375 45.5625 \nQ 25.390625 42.390625 31.78125 42.390625 \nQ 38.140625 42.390625 41.71875 45.5625 \nQ 45.3125 48.734375 45.3125 54.390625 \nQ 45.3125 60.0625 41.71875 63.234375 \nQ 38.140625 66.40625 31.78125 66.40625 \nQ 25.390625 66.40625 21.84375 63.234375 \nQ 18.3125 60.0625 18.3125 54.390625 \nz\n\" id=\"DejaVuSans-56\"/>\n       </defs>\n       <use xlink:href=\"#DejaVuSans-56\"/>\n      </g>\n     </g>\n    </g>\n    <g id=\"text_6\">\n     <!-- pourcentage de champs non rensignées toléré -->\n     <g transform=\"translate(94.554688 268.434687)scale(0.1 -0.1)\">\n      <defs>\n       <path d=\"M 18.109375 8.203125 \nL 18.109375 -20.796875 \nL 9.078125 -20.796875 \nL 9.078125 54.6875 \nL 18.109375 54.6875 \nL 18.109375 46.390625 \nQ 20.953125 51.265625 25.265625 53.625 \nQ 29.59375 56 35.59375 56 \nQ 45.5625 56 51.78125 48.09375 \nQ 58.015625 40.1875 58.015625 27.296875 \nQ 58.015625 14.40625 51.78125 6.484375 \nQ 45.5625 -1.421875 35.59375 -1.421875 \nQ 29.59375 -1.421875 25.265625 0.953125 \nQ 20.953125 3.328125 18.109375 8.203125 \nz\nM 48.6875 27.296875 \nQ 48.6875 37.203125 44.609375 42.84375 \nQ 40.53125 48.484375 33.40625 48.484375 \nQ 26.265625 48.484375 22.1875 42.84375 \nQ 18.109375 37.203125 18.109375 27.296875 \nQ 18.109375 17.390625 22.1875 11.75 \nQ 26.265625 6.109375 33.40625 6.109375 \nQ 40.53125 6.109375 44.609375 11.75 \nQ 48.6875 17.390625 48.6875 27.296875 \nz\n\" id=\"DejaVuSans-112\"/>\n       <path d=\"M 30.609375 48.390625 \nQ 23.390625 48.390625 19.1875 42.75 \nQ 14.984375 37.109375 14.984375 27.296875 \nQ 14.984375 17.484375 19.15625 11.84375 \nQ 23.34375 6.203125 30.609375 6.203125 \nQ 37.796875 6.203125 41.984375 11.859375 \nQ 46.1875 17.53125 46.1875 27.296875 \nQ 46.1875 37.015625 41.984375 42.703125 \nQ 37.796875 48.390625 30.609375 48.390625 \nz\nM 30.609375 56 \nQ 42.328125 56 49.015625 48.375 \nQ 55.71875 40.765625 55.71875 27.296875 \nQ 55.71875 13.875 49.015625 6.21875 \nQ 42.328125 -1.421875 30.609375 -1.421875 \nQ 18.84375 -1.421875 12.171875 6.21875 \nQ 5.515625 13.875 5.515625 27.296875 \nQ 5.515625 40.765625 12.171875 48.375 \nQ 18.84375 56 30.609375 56 \nz\n\" id=\"DejaVuSans-111\"/>\n       <path d=\"M 8.5 21.578125 \nL 8.5 54.6875 \nL 17.484375 54.6875 \nL 17.484375 21.921875 \nQ 17.484375 14.15625 20.5 10.265625 \nQ 23.53125 6.390625 29.59375 6.390625 \nQ 36.859375 6.390625 41.078125 11.03125 \nQ 45.3125 15.671875 45.3125 23.6875 \nL 45.3125 54.6875 \nL 54.296875 54.6875 \nL 54.296875 0 \nL 45.3125 0 \nL 45.3125 8.40625 \nQ 42.046875 3.421875 37.71875 1 \nQ 33.40625 -1.421875 27.6875 -1.421875 \nQ 18.265625 -1.421875 13.375 4.4375 \nQ 8.5 10.296875 8.5 21.578125 \nz\nM 31.109375 56 \nz\n\" id=\"DejaVuSans-117\"/>\n       <path d=\"M 41.109375 46.296875 \nQ 39.59375 47.171875 37.8125 47.578125 \nQ 36.03125 48 33.890625 48 \nQ 26.265625 48 22.1875 43.046875 \nQ 18.109375 38.09375 18.109375 28.8125 \nL 18.109375 0 \nL 9.078125 0 \nL 9.078125 54.6875 \nL 18.109375 54.6875 \nL 18.109375 46.1875 \nQ 20.953125 51.171875 25.484375 53.578125 \nQ 30.03125 56 36.53125 56 \nQ 37.453125 56 38.578125 55.875 \nQ 39.703125 55.765625 41.0625 55.515625 \nz\n\" id=\"DejaVuSans-114\"/>\n       <path d=\"M 48.78125 52.59375 \nL 48.78125 44.1875 \nQ 44.96875 46.296875 41.140625 47.34375 \nQ 37.3125 48.390625 33.40625 48.390625 \nQ 24.65625 48.390625 19.8125 42.84375 \nQ 14.984375 37.3125 14.984375 27.296875 \nQ 14.984375 17.28125 19.8125 11.734375 \nQ 24.65625 6.203125 33.40625 6.203125 \nQ 37.3125 6.203125 41.140625 7.25 \nQ 44.96875 8.296875 48.78125 10.40625 \nL 48.78125 2.09375 \nQ 45.015625 0.34375 40.984375 -0.53125 \nQ 36.96875 -1.421875 32.421875 -1.421875 \nQ 20.0625 -1.421875 12.78125 6.34375 \nQ 5.515625 14.109375 5.515625 27.296875 \nQ 5.515625 40.671875 12.859375 48.328125 \nQ 20.21875 56 33.015625 56 \nQ 37.15625 56 41.109375 55.140625 \nQ 45.0625 54.296875 48.78125 52.59375 \nz\n\" id=\"DejaVuSans-99\"/>\n       <path d=\"M 56.203125 29.59375 \nL 56.203125 25.203125 \nL 14.890625 25.203125 \nQ 15.484375 15.921875 20.484375 11.0625 \nQ 25.484375 6.203125 34.421875 6.203125 \nQ 39.59375 6.203125 44.453125 7.46875 \nQ 49.3125 8.734375 54.109375 11.28125 \nL 54.109375 2.78125 \nQ 49.265625 0.734375 44.1875 -0.34375 \nQ 39.109375 -1.421875 33.890625 -1.421875 \nQ 20.796875 -1.421875 13.15625 6.1875 \nQ 5.515625 13.8125 5.515625 26.8125 \nQ 5.515625 40.234375 12.765625 48.109375 \nQ 20.015625 56 32.328125 56 \nQ 43.359375 56 49.78125 48.890625 \nQ 56.203125 41.796875 56.203125 29.59375 \nz\nM 47.21875 32.234375 \nQ 47.125 39.59375 43.09375 43.984375 \nQ 39.0625 48.390625 32.421875 48.390625 \nQ 24.90625 48.390625 20.390625 44.140625 \nQ 15.875 39.890625 15.1875 32.171875 \nz\n\" id=\"DejaVuSans-101\"/>\n       <path d=\"M 54.890625 33.015625 \nL 54.890625 0 \nL 45.90625 0 \nL 45.90625 32.71875 \nQ 45.90625 40.484375 42.875 44.328125 \nQ 39.84375 48.1875 33.796875 48.1875 \nQ 26.515625 48.1875 22.3125 43.546875 \nQ 18.109375 38.921875 18.109375 30.90625 \nL 18.109375 0 \nL 9.078125 0 \nL 9.078125 54.6875 \nL 18.109375 54.6875 \nL 18.109375 46.1875 \nQ 21.34375 51.125 25.703125 53.5625 \nQ 30.078125 56 35.796875 56 \nQ 45.21875 56 50.046875 50.171875 \nQ 54.890625 44.34375 54.890625 33.015625 \nz\n\" id=\"DejaVuSans-110\"/>\n       <path d=\"M 18.3125 70.21875 \nL 18.3125 54.6875 \nL 36.8125 54.6875 \nL 36.8125 47.703125 \nL 18.3125 47.703125 \nL 18.3125 18.015625 \nQ 18.3125 11.328125 20.140625 9.421875 \nQ 21.96875 7.515625 27.59375 7.515625 \nL 36.8125 7.515625 \nL 36.8125 0 \nL 27.59375 0 \nQ 17.1875 0 13.234375 3.875 \nQ 9.28125 7.765625 9.28125 18.015625 \nL 9.28125 47.703125 \nL 2.6875 47.703125 \nL 2.6875 54.6875 \nL 9.28125 54.6875 \nL 9.28125 70.21875 \nz\n\" id=\"DejaVuSans-116\"/>\n       <path d=\"M 34.28125 27.484375 \nQ 23.390625 27.484375 19.1875 25 \nQ 14.984375 22.515625 14.984375 16.5 \nQ 14.984375 11.71875 18.140625 8.90625 \nQ 21.296875 6.109375 26.703125 6.109375 \nQ 34.1875 6.109375 38.703125 11.40625 \nQ 43.21875 16.703125 43.21875 25.484375 \nL 43.21875 27.484375 \nz\nM 52.203125 31.203125 \nL 52.203125 0 \nL 43.21875 0 \nL 43.21875 8.296875 \nQ 40.140625 3.328125 35.546875 0.953125 \nQ 30.953125 -1.421875 24.3125 -1.421875 \nQ 15.921875 -1.421875 10.953125 3.296875 \nQ 6 8.015625 6 15.921875 \nQ 6 25.140625 12.171875 29.828125 \nQ 18.359375 34.515625 30.609375 34.515625 \nL 43.21875 34.515625 \nL 43.21875 35.40625 \nQ 43.21875 41.609375 39.140625 45 \nQ 35.0625 48.390625 27.6875 48.390625 \nQ 23 48.390625 18.546875 47.265625 \nQ 14.109375 46.140625 10.015625 43.890625 \nL 10.015625 52.203125 \nQ 14.9375 54.109375 19.578125 55.046875 \nQ 24.21875 56 28.609375 56 \nQ 40.484375 56 46.34375 49.84375 \nQ 52.203125 43.703125 52.203125 31.203125 \nz\n\" id=\"DejaVuSans-97\"/>\n       <path d=\"M 45.40625 27.984375 \nQ 45.40625 37.75 41.375 43.109375 \nQ 37.359375 48.484375 30.078125 48.484375 \nQ 22.859375 48.484375 18.828125 43.109375 \nQ 14.796875 37.75 14.796875 27.984375 \nQ 14.796875 18.265625 18.828125 12.890625 \nQ 22.859375 7.515625 30.078125 7.515625 \nQ 37.359375 7.515625 41.375 12.890625 \nQ 45.40625 18.265625 45.40625 27.984375 \nz\nM 54.390625 6.78125 \nQ 54.390625 -7.171875 48.1875 -13.984375 \nQ 42 -20.796875 29.203125 -20.796875 \nQ 24.46875 -20.796875 20.265625 -20.09375 \nQ 16.0625 -19.390625 12.109375 -17.921875 \nL 12.109375 -9.1875 \nQ 16.0625 -11.328125 19.921875 -12.34375 \nQ 23.78125 -13.375 27.78125 -13.375 \nQ 36.625 -13.375 41.015625 -8.765625 \nQ 45.40625 -4.15625 45.40625 5.171875 \nL 45.40625 9.625 \nQ 42.625 4.78125 38.28125 2.390625 \nQ 33.9375 0 27.875 0 \nQ 17.828125 0 11.671875 7.65625 \nQ 5.515625 15.328125 5.515625 27.984375 \nQ 5.515625 40.671875 11.671875 48.328125 \nQ 17.828125 56 27.875 56 \nQ 33.9375 56 38.28125 53.609375 \nQ 42.625 51.21875 45.40625 46.390625 \nL 45.40625 54.6875 \nL 54.390625 54.6875 \nz\n\" id=\"DejaVuSans-103\"/>\n       <path id=\"DejaVuSans-32\"/>\n       <path d=\"M 45.40625 46.390625 \nL 45.40625 75.984375 \nL 54.390625 75.984375 \nL 54.390625 0 \nL 45.40625 0 \nL 45.40625 8.203125 \nQ 42.578125 3.328125 38.25 0.953125 \nQ 33.9375 -1.421875 27.875 -1.421875 \nQ 17.96875 -1.421875 11.734375 6.484375 \nQ 5.515625 14.40625 5.515625 27.296875 \nQ 5.515625 40.1875 11.734375 48.09375 \nQ 17.96875 56 27.875 56 \nQ 33.9375 56 38.25 53.625 \nQ 42.578125 51.265625 45.40625 46.390625 \nz\nM 14.796875 27.296875 \nQ 14.796875 17.390625 18.875 11.75 \nQ 22.953125 6.109375 30.078125 6.109375 \nQ 37.203125 6.109375 41.296875 11.75 \nQ 45.40625 17.390625 45.40625 27.296875 \nQ 45.40625 37.203125 41.296875 42.84375 \nQ 37.203125 48.484375 30.078125 48.484375 \nQ 22.953125 48.484375 18.875 42.84375 \nQ 14.796875 37.203125 14.796875 27.296875 \nz\n\" id=\"DejaVuSans-100\"/>\n       <path d=\"M 54.890625 33.015625 \nL 54.890625 0 \nL 45.90625 0 \nL 45.90625 32.71875 \nQ 45.90625 40.484375 42.875 44.328125 \nQ 39.84375 48.1875 33.796875 48.1875 \nQ 26.515625 48.1875 22.3125 43.546875 \nQ 18.109375 38.921875 18.109375 30.90625 \nL 18.109375 0 \nL 9.078125 0 \nL 9.078125 75.984375 \nL 18.109375 75.984375 \nL 18.109375 46.1875 \nQ 21.34375 51.125 25.703125 53.5625 \nQ 30.078125 56 35.796875 56 \nQ 45.21875 56 50.046875 50.171875 \nQ 54.890625 44.34375 54.890625 33.015625 \nz\n\" id=\"DejaVuSans-104\"/>\n       <path d=\"M 52 44.1875 \nQ 55.375 50.25 60.0625 53.125 \nQ 64.75 56 71.09375 56 \nQ 79.640625 56 84.28125 50.015625 \nQ 88.921875 44.046875 88.921875 33.015625 \nL 88.921875 0 \nL 79.890625 0 \nL 79.890625 32.71875 \nQ 79.890625 40.578125 77.09375 44.375 \nQ 74.3125 48.1875 68.609375 48.1875 \nQ 61.625 48.1875 57.5625 43.546875 \nQ 53.515625 38.921875 53.515625 30.90625 \nL 53.515625 0 \nL 44.484375 0 \nL 44.484375 32.71875 \nQ 44.484375 40.625 41.703125 44.40625 \nQ 38.921875 48.1875 33.109375 48.1875 \nQ 26.21875 48.1875 22.15625 43.53125 \nQ 18.109375 38.875 18.109375 30.90625 \nL 18.109375 0 \nL 9.078125 0 \nL 9.078125 54.6875 \nL 18.109375 54.6875 \nL 18.109375 46.1875 \nQ 21.1875 51.21875 25.484375 53.609375 \nQ 29.78125 56 35.6875 56 \nQ 41.65625 56 45.828125 52.96875 \nQ 50 49.953125 52 44.1875 \nz\n\" id=\"DejaVuSans-109\"/>\n       <path d=\"M 44.28125 53.078125 \nL 44.28125 44.578125 \nQ 40.484375 46.53125 36.375 47.5 \nQ 32.28125 48.484375 27.875 48.484375 \nQ 21.1875 48.484375 17.84375 46.4375 \nQ 14.5 44.390625 14.5 40.28125 \nQ 14.5 37.15625 16.890625 35.375 \nQ 19.28125 33.59375 26.515625 31.984375 \nL 29.59375 31.296875 \nQ 39.15625 29.25 43.1875 25.515625 \nQ 47.21875 21.78125 47.21875 15.09375 \nQ 47.21875 7.46875 41.1875 3.015625 \nQ 35.15625 -1.421875 24.609375 -1.421875 \nQ 20.21875 -1.421875 15.453125 -0.5625 \nQ 10.6875 0.296875 5.421875 2 \nL 5.421875 11.28125 \nQ 10.40625 8.6875 15.234375 7.390625 \nQ 20.0625 6.109375 24.8125 6.109375 \nQ 31.15625 6.109375 34.5625 8.28125 \nQ 37.984375 10.453125 37.984375 14.40625 \nQ 37.984375 18.0625 35.515625 20.015625 \nQ 33.0625 21.96875 24.703125 23.78125 \nL 21.578125 24.515625 \nQ 13.234375 26.265625 9.515625 29.90625 \nQ 5.8125 33.546875 5.8125 39.890625 \nQ 5.8125 47.609375 11.28125 51.796875 \nQ 16.75 56 26.8125 56 \nQ 31.78125 56 36.171875 55.265625 \nQ 40.578125 54.546875 44.28125 53.078125 \nz\n\" id=\"DejaVuSans-115\"/>\n       <path d=\"M 9.421875 54.6875 \nL 18.40625 54.6875 \nL 18.40625 0 \nL 9.421875 0 \nz\nM 9.421875 75.984375 \nL 18.40625 75.984375 \nL 18.40625 64.59375 \nL 9.421875 64.59375 \nz\n\" id=\"DejaVuSans-105\"/>\n       <path d=\"M 56.203125 29.59375 \nL 56.203125 25.203125 \nL 14.890625 25.203125 \nQ 15.484375 15.921875 20.484375 11.0625 \nQ 25.484375 6.203125 34.421875 6.203125 \nQ 39.59375 6.203125 44.453125 7.46875 \nQ 49.3125 8.734375 54.109375 11.28125 \nL 54.109375 2.78125 \nQ 49.265625 0.734375 44.1875 -0.34375 \nQ 39.109375 -1.421875 33.890625 -1.421875 \nQ 20.796875 -1.421875 13.15625 6.1875 \nQ 5.515625 13.8125 5.515625 26.8125 \nQ 5.515625 40.234375 12.765625 48.109375 \nQ 20.015625 56 32.328125 56 \nQ 43.359375 56 49.78125 48.890625 \nQ 56.203125 41.796875 56.203125 29.59375 \nz\nM 47.21875 32.234375 \nQ 47.125 39.59375 43.09375 43.984375 \nQ 39.0625 48.390625 32.421875 48.390625 \nQ 24.90625 48.390625 20.390625 44.140625 \nQ 15.875 39.890625 15.1875 32.171875 \nz\nM 38.578125 79.984375 \nL 48.296875 79.984375 \nL 32.375 61.625 \nL 24.90625 61.625 \nz\n\" id=\"DejaVuSans-233\"/>\n       <path d=\"M 9.421875 75.984375 \nL 18.40625 75.984375 \nL 18.40625 0 \nL 9.421875 0 \nz\n\" id=\"DejaVuSans-108\"/>\n      </defs>\n      <use xlink:href=\"#DejaVuSans-112\"/>\n      <use x=\"63.476562\" xlink:href=\"#DejaVuSans-111\"/>\n      <use x=\"124.658203\" xlink:href=\"#DejaVuSans-117\"/>\n      <use x=\"188.037109\" xlink:href=\"#DejaVuSans-114\"/>\n      <use x=\"226.900391\" xlink:href=\"#DejaVuSans-99\"/>\n      <use x=\"281.880859\" xlink:href=\"#DejaVuSans-101\"/>\n      <use x=\"343.404297\" xlink:href=\"#DejaVuSans-110\"/>\n      <use x=\"406.783203\" xlink:href=\"#DejaVuSans-116\"/>\n      <use x=\"445.992188\" xlink:href=\"#DejaVuSans-97\"/>\n      <use x=\"507.271484\" xlink:href=\"#DejaVuSans-103\"/>\n      <use x=\"570.748047\" xlink:href=\"#DejaVuSans-101\"/>\n      <use x=\"632.271484\" xlink:href=\"#DejaVuSans-32\"/>\n      <use x=\"664.058594\" xlink:href=\"#DejaVuSans-100\"/>\n      <use x=\"727.535156\" xlink:href=\"#DejaVuSans-101\"/>\n      <use x=\"789.058594\" xlink:href=\"#DejaVuSans-32\"/>\n      <use x=\"820.845703\" xlink:href=\"#DejaVuSans-99\"/>\n      <use x=\"875.826172\" xlink:href=\"#DejaVuSans-104\"/>\n      <use x=\"939.205078\" xlink:href=\"#DejaVuSans-97\"/>\n      <use x=\"1000.484375\" xlink:href=\"#DejaVuSans-109\"/>\n      <use x=\"1097.896484\" xlink:href=\"#DejaVuSans-112\"/>\n      <use x=\"1161.373047\" xlink:href=\"#DejaVuSans-115\"/>\n      <use x=\"1213.472656\" xlink:href=\"#DejaVuSans-32\"/>\n      <use x=\"1245.259766\" xlink:href=\"#DejaVuSans-110\"/>\n      <use x=\"1308.638672\" xlink:href=\"#DejaVuSans-111\"/>\n      <use x=\"1369.820312\" xlink:href=\"#DejaVuSans-110\"/>\n      <use x=\"1433.199219\" xlink:href=\"#DejaVuSans-32\"/>\n      <use x=\"1464.986328\" xlink:href=\"#DejaVuSans-114\"/>\n      <use x=\"1503.849609\" xlink:href=\"#DejaVuSans-101\"/>\n      <use x=\"1565.373047\" xlink:href=\"#DejaVuSans-110\"/>\n      <use x=\"1628.751953\" xlink:href=\"#DejaVuSans-115\"/>\n      <use x=\"1680.851562\" xlink:href=\"#DejaVuSans-105\"/>\n      <use x=\"1708.634766\" xlink:href=\"#DejaVuSans-103\"/>\n      <use x=\"1772.111328\" xlink:href=\"#DejaVuSans-110\"/>\n      <use x=\"1835.490234\" xlink:href=\"#DejaVuSans-233\"/>\n      <use x=\"1897.013672\" xlink:href=\"#DejaVuSans-101\"/>\n      <use x=\"1958.537109\" xlink:href=\"#DejaVuSans-115\"/>\n      <use x=\"2010.636719\" xlink:href=\"#DejaVuSans-32\"/>\n      <use x=\"2042.423828\" xlink:href=\"#DejaVuSans-116\"/>\n      <use x=\"2081.632812\" xlink:href=\"#DejaVuSans-111\"/>\n      <use x=\"2142.814453\" xlink:href=\"#DejaVuSans-108\"/>\n      <use x=\"2170.597656\" xlink:href=\"#DejaVuSans-233\"/>\n      <use x=\"2232.121094\" xlink:href=\"#DejaVuSans-114\"/>\n      <use x=\"2270.984375\" xlink:href=\"#DejaVuSans-233\"/>\n     </g>\n    </g>\n   </g>\n   <g id=\"matplotlib.axis_2\">\n    <g id=\"ytick_1\">\n     <g id=\"line2d_6\">\n      <defs>\n       <path d=\"M 0 0 \nL -3.5 0 \n\" id=\"m16da9df5a2\" style=\"stroke:#000000;stroke-width:0.8;\"/>\n      </defs>\n      <g>\n       <use style=\"stroke:#000000;stroke-width:0.8;\" x=\"43.78125\" xlink:href=\"#m16da9df5a2\" y=\"229.874489\"/>\n      </g>\n     </g>\n     <g id=\"text_7\">\n      <!-- 0.0 -->\n      <g transform=\"translate(20.878125 233.673707)scale(0.1 -0.1)\">\n       <defs>\n        <path d=\"M 10.6875 12.40625 \nL 21 12.40625 \nL 21 0 \nL 10.6875 0 \nz\n\" id=\"DejaVuSans-46\"/>\n       </defs>\n       <use xlink:href=\"#DejaVuSans-48\"/>\n       <use x=\"63.623047\" xlink:href=\"#DejaVuSans-46\"/>\n       <use x=\"95.410156\" xlink:href=\"#DejaVuSans-48\"/>\n      </g>\n     </g>\n    </g>\n    <g id=\"ytick_2\">\n     <g id=\"line2d_7\">\n      <g>\n       <use style=\"stroke:#000000;stroke-width:0.8;\" x=\"43.78125\" xlink:href=\"#m16da9df5a2\" y=\"190.339943\"/>\n      </g>\n     </g>\n     <g id=\"text_8\">\n      <!-- 0.2 -->\n      <g transform=\"translate(20.878125 194.139162)scale(0.1 -0.1)\">\n       <use xlink:href=\"#DejaVuSans-48\"/>\n       <use x=\"63.623047\" xlink:href=\"#DejaVuSans-46\"/>\n       <use x=\"95.410156\" xlink:href=\"#DejaVuSans-50\"/>\n      </g>\n     </g>\n    </g>\n    <g id=\"ytick_3\">\n     <g id=\"line2d_8\">\n      <g>\n       <use style=\"stroke:#000000;stroke-width:0.8;\" x=\"43.78125\" xlink:href=\"#m16da9df5a2\" y=\"150.805398\"/>\n      </g>\n     </g>\n     <g id=\"text_9\">\n      <!-- 0.4 -->\n      <g transform=\"translate(20.878125 154.604616)scale(0.1 -0.1)\">\n       <use xlink:href=\"#DejaVuSans-48\"/>\n       <use x=\"63.623047\" xlink:href=\"#DejaVuSans-46\"/>\n       <use x=\"95.410156\" xlink:href=\"#DejaVuSans-52\"/>\n      </g>\n     </g>\n    </g>\n    <g id=\"ytick_4\">\n     <g id=\"line2d_9\">\n      <g>\n       <use style=\"stroke:#000000;stroke-width:0.8;\" x=\"43.78125\" xlink:href=\"#m16da9df5a2\" y=\"111.270852\"/>\n      </g>\n     </g>\n     <g id=\"text_10\">\n      <!-- 0.6 -->\n      <g transform=\"translate(20.878125 115.070071)scale(0.1 -0.1)\">\n       <use xlink:href=\"#DejaVuSans-48\"/>\n       <use x=\"63.623047\" xlink:href=\"#DejaVuSans-46\"/>\n       <use x=\"95.410156\" xlink:href=\"#DejaVuSans-54\"/>\n      </g>\n     </g>\n    </g>\n    <g id=\"ytick_5\">\n     <g id=\"line2d_10\">\n      <g>\n       <use style=\"stroke:#000000;stroke-width:0.8;\" x=\"43.78125\" xlink:href=\"#m16da9df5a2\" y=\"71.736307\"/>\n      </g>\n     </g>\n     <g id=\"text_11\">\n      <!-- 0.8 -->\n      <g transform=\"translate(20.878125 75.535526)scale(0.1 -0.1)\">\n       <use xlink:href=\"#DejaVuSans-48\"/>\n       <use x=\"63.623047\" xlink:href=\"#DejaVuSans-46\"/>\n       <use x=\"95.410156\" xlink:href=\"#DejaVuSans-56\"/>\n      </g>\n     </g>\n    </g>\n    <g id=\"ytick_6\">\n     <g id=\"line2d_11\">\n      <g>\n       <use style=\"stroke:#000000;stroke-width:0.8;\" x=\"43.78125\" xlink:href=\"#m16da9df5a2\" y=\"32.201761\"/>\n      </g>\n     </g>\n     <g id=\"text_12\">\n      <!-- 1.0 -->\n      <g transform=\"translate(20.878125 36.00098)scale(0.1 -0.1)\">\n       <defs>\n        <path d=\"M 12.40625 8.296875 \nL 28.515625 8.296875 \nL 28.515625 63.921875 \nL 10.984375 60.40625 \nL 10.984375 69.390625 \nL 28.421875 72.90625 \nL 38.28125 72.90625 \nL 38.28125 8.296875 \nL 54.390625 8.296875 \nL 54.390625 0 \nL 12.40625 0 \nz\n\" id=\"DejaVuSans-49\"/>\n       </defs>\n       <use xlink:href=\"#DejaVuSans-49\"/>\n       <use x=\"63.623047\" xlink:href=\"#DejaVuSans-46\"/>\n       <use x=\"95.410156\" xlink:href=\"#DejaVuSans-48\"/>\n      </g>\n     </g>\n    </g>\n    <g id=\"text_13\">\n     <!-- score -->\n     <g transform=\"translate(14.798438 144.470938)rotate(-90)scale(0.1 -0.1)\">\n      <use xlink:href=\"#DejaVuSans-115\"/>\n      <use x=\"52.099609\" xlink:href=\"#DejaVuSans-99\"/>\n      <use x=\"107.080078\" xlink:href=\"#DejaVuSans-111\"/>\n      <use x=\"168.261719\" xlink:href=\"#DejaVuSans-114\"/>\n      <use x=\"207.125\" xlink:href=\"#DejaVuSans-101\"/>\n     </g>\n    </g>\n   </g>\n   <g id=\"line2d_12\">\n    <path clip-path=\"url(#p728042f192)\" d=\"M 58.999432 229.874489 \nL 92.817614 229.874489 \nL 126.635795 229.874489 \nL 160.453977 229.874489 \nL 194.272159 229.874489 \nL 228.090341 32.201761 \nL 261.908523 32.201761 \nL 295.726705 47.407356 \nL 329.544886 50.73358 \nL 363.363068 55.734229 \n\" style=\"fill:none;stroke:#1f77b4;stroke-linecap:square;stroke-width:1.5;\"/>\n   </g>\n   <g id=\"line2d_13\">\n    <path clip-path=\"url(#p728042f192)\" d=\"M 58.999432 229.874489 \nL 92.817614 229.874489 \nL 126.635795 229.874489 \nL 160.453977 229.874489 \nL 194.272159 229.874489 \nL 228.090341 209.28358 \nL 261.908523 209.28358 \nL 295.726705 180.456307 \nL 329.544886 110.447216 \nL 363.363068 77.501761 \n\" style=\"fill:none;stroke:#ff7f0e;stroke-linecap:square;stroke-width:1.5;\"/>\n   </g>\n   <g id=\"line2d_14\">\n    <path clip-path=\"url(#p728042f192)\" d=\"M 58.999432 229.874489 \nL 92.817614 229.874489 \nL 126.635795 229.874489 \nL 160.453977 229.874489 \nL 194.272159 229.874489 \nL 228.090341 192.577748 \nL 261.908523 192.577748 \nL 295.726705 152.101612 \nL 329.544886 86.561761 \nL 363.363068 67.34358 \n\" style=\"fill:none;stroke:#2ca02c;stroke-linecap:square;stroke-width:1.5;\"/>\n   </g>\n   <g id=\"patch_3\">\n    <path d=\"M 43.78125 239.758125 \nL 43.78125 22.318125 \n\" style=\"fill:none;stroke:#000000;stroke-linecap:square;stroke-linejoin:miter;stroke-width:0.8;\"/>\n   </g>\n   <g id=\"patch_4\">\n    <path d=\"M 378.58125 239.758125 \nL 378.58125 22.318125 \n\" style=\"fill:none;stroke:#000000;stroke-linecap:square;stroke-linejoin:miter;stroke-width:0.8;\"/>\n   </g>\n   <g id=\"patch_5\">\n    <path d=\"M 43.78125 239.758125 \nL 378.58125 239.758125 \n\" style=\"fill:none;stroke:#000000;stroke-linecap:square;stroke-linejoin:miter;stroke-width:0.8;\"/>\n   </g>\n   <g id=\"patch_6\">\n    <path d=\"M 43.78125 22.318125 \nL 378.58125 22.318125 \n\" style=\"fill:none;stroke:#000000;stroke-linecap:square;stroke-linejoin:miter;stroke-width:0.8;\"/>\n   </g>\n   <g id=\"text_14\">\n    <!-- evolution du score -->\n    <g transform=\"translate(155.76 16.318125)scale(0.12 -0.12)\">\n     <defs>\n      <path d=\"M 2.984375 54.6875 \nL 12.5 54.6875 \nL 29.59375 8.796875 \nL 46.6875 54.6875 \nL 56.203125 54.6875 \nL 35.6875 0 \nL 23.484375 0 \nz\n\" id=\"DejaVuSans-118\"/>\n     </defs>\n     <use xlink:href=\"#DejaVuSans-101\"/>\n     <use x=\"61.523438\" xlink:href=\"#DejaVuSans-118\"/>\n     <use x=\"120.703125\" xlink:href=\"#DejaVuSans-111\"/>\n     <use x=\"181.884766\" xlink:href=\"#DejaVuSans-108\"/>\n     <use x=\"209.667969\" xlink:href=\"#DejaVuSans-117\"/>\n     <use x=\"273.046875\" xlink:href=\"#DejaVuSans-116\"/>\n     <use x=\"312.255859\" xlink:href=\"#DejaVuSans-105\"/>\n     <use x=\"340.039062\" xlink:href=\"#DejaVuSans-111\"/>\n     <use x=\"401.220703\" xlink:href=\"#DejaVuSans-110\"/>\n     <use x=\"464.599609\" xlink:href=\"#DejaVuSans-32\"/>\n     <use x=\"496.386719\" xlink:href=\"#DejaVuSans-100\"/>\n     <use x=\"559.863281\" xlink:href=\"#DejaVuSans-117\"/>\n     <use x=\"623.242188\" xlink:href=\"#DejaVuSans-32\"/>\n     <use x=\"655.029297\" xlink:href=\"#DejaVuSans-115\"/>\n     <use x=\"707.128906\" xlink:href=\"#DejaVuSans-99\"/>\n     <use x=\"762.109375\" xlink:href=\"#DejaVuSans-111\"/>\n     <use x=\"823.291016\" xlink:href=\"#DejaVuSans-114\"/>\n     <use x=\"862.154297\" xlink:href=\"#DejaVuSans-101\"/>\n    </g>\n   </g>\n   <g id=\"legend_1\">\n    <g id=\"patch_7\">\n     <path d=\"M 50.78125 74.630625 \nL 127.889062 74.630625 \nQ 129.889062 74.630625 129.889062 72.630625 \nL 129.889062 29.318125 \nQ 129.889062 27.318125 127.889062 27.318125 \nL 50.78125 27.318125 \nQ 48.78125 27.318125 48.78125 29.318125 \nL 48.78125 72.630625 \nQ 48.78125 74.630625 50.78125 74.630625 \nz\n\" style=\"fill:#ffffff;opacity:0.8;stroke:#cccccc;stroke-linejoin:miter;\"/>\n    </g>\n    <g id=\"line2d_15\">\n     <path d=\"M 52.78125 35.416562 \nL 72.78125 35.416562 \n\" style=\"fill:none;stroke:#1f77b4;stroke-linecap:square;stroke-width:1.5;\"/>\n    </g>\n    <g id=\"line2d_16\"/>\n    <g id=\"text_15\">\n     <!-- precision -->\n     <g transform=\"translate(80.78125 38.916562)scale(0.1 -0.1)\">\n      <use xlink:href=\"#DejaVuSans-112\"/>\n      <use x=\"63.476562\" xlink:href=\"#DejaVuSans-114\"/>\n      <use x=\"102.339844\" xlink:href=\"#DejaVuSans-101\"/>\n      <use x=\"163.863281\" xlink:href=\"#DejaVuSans-99\"/>\n      <use x=\"218.84375\" xlink:href=\"#DejaVuSans-105\"/>\n      <use x=\"246.626953\" xlink:href=\"#DejaVuSans-115\"/>\n      <use x=\"298.726562\" xlink:href=\"#DejaVuSans-105\"/>\n      <use x=\"326.509766\" xlink:href=\"#DejaVuSans-111\"/>\n      <use x=\"387.691406\" xlink:href=\"#DejaVuSans-110\"/>\n     </g>\n    </g>\n    <g id=\"line2d_17\">\n     <path d=\"M 52.78125 50.094687 \nL 72.78125 50.094687 \n\" style=\"fill:none;stroke:#ff7f0e;stroke-linecap:square;stroke-width:1.5;\"/>\n    </g>\n    <g id=\"line2d_18\"/>\n    <g id=\"text_16\">\n     <!-- recall -->\n     <g transform=\"translate(80.78125 53.594687)scale(0.1 -0.1)\">\n      <use xlink:href=\"#DejaVuSans-114\"/>\n      <use x=\"38.863281\" xlink:href=\"#DejaVuSans-101\"/>\n      <use x=\"100.386719\" xlink:href=\"#DejaVuSans-99\"/>\n      <use x=\"155.367188\" xlink:href=\"#DejaVuSans-97\"/>\n      <use x=\"216.646484\" xlink:href=\"#DejaVuSans-108\"/>\n      <use x=\"244.429688\" xlink:href=\"#DejaVuSans-108\"/>\n     </g>\n    </g>\n    <g id=\"line2d_19\">\n     <path d=\"M 52.78125 64.772812 \nL 72.78125 64.772812 \n\" style=\"fill:none;stroke:#2ca02c;stroke-linecap:square;stroke-width:1.5;\"/>\n    </g>\n    <g id=\"line2d_20\"/>\n    <g id=\"text_17\">\n     <!-- f1_score -->\n     <g transform=\"translate(80.78125 68.272812)scale(0.1 -0.1)\">\n      <defs>\n       <path d=\"M 37.109375 75.984375 \nL 37.109375 68.5 \nL 28.515625 68.5 \nQ 23.6875 68.5 21.796875 66.546875 \nQ 19.921875 64.59375 19.921875 59.515625 \nL 19.921875 54.6875 \nL 34.71875 54.6875 \nL 34.71875 47.703125 \nL 19.921875 47.703125 \nL 19.921875 0 \nL 10.890625 0 \nL 10.890625 47.703125 \nL 2.296875 47.703125 \nL 2.296875 54.6875 \nL 10.890625 54.6875 \nL 10.890625 58.5 \nQ 10.890625 67.625 15.140625 71.796875 \nQ 19.390625 75.984375 28.609375 75.984375 \nz\n\" id=\"DejaVuSans-102\"/>\n       <path d=\"M 50.984375 -16.609375 \nL 50.984375 -23.578125 \nL -0.984375 -23.578125 \nL -0.984375 -16.609375 \nz\n\" id=\"DejaVuSans-95\"/>\n      </defs>\n      <use xlink:href=\"#DejaVuSans-102\"/>\n      <use x=\"35.205078\" xlink:href=\"#DejaVuSans-49\"/>\n      <use x=\"98.828125\" xlink:href=\"#DejaVuSans-95\"/>\n      <use x=\"148.828125\" xlink:href=\"#DejaVuSans-115\"/>\n      <use x=\"200.927734\" xlink:href=\"#DejaVuSans-99\"/>\n      <use x=\"255.908203\" xlink:href=\"#DejaVuSans-111\"/>\n      <use x=\"317.089844\" xlink:href=\"#DejaVuSans-114\"/>\n      <use x=\"355.953125\" xlink:href=\"#DejaVuSans-101\"/>\n     </g>\n    </g>\n   </g>\n  </g>\n </g>\n <defs>\n  <clipPath id=\"p728042f192\">\n   <rect height=\"217.44\" width=\"334.8\" x=\"43.78125\" y=\"22.318125\"/>\n  </clipPath>\n </defs>\n</svg>\n",
      "image/png": "[encoded data removed]"
     },
     "metadata": {
      "needs_background": "light"
     }
    }
   ],
   "source": [
    "import matplotlib.pyplot as plt\n",
    "\n",
    "plt.plot(list(id3.Precision))\n",
    "plt.plot(list(id3.Recall))\n",
    "plt.plot(list(id3.f1_score))\n",
    "plt.legend(['precision', \"recall\", \"f1_score\"])\n",
    "#plt.plot(id2.f1_score)\n",
    "#plt.xlim([0,1])\n",
    "plt.title(\"evolution du score\")\n",
    "plt.xlabel(\"pourcentage de champs non rensignées toléré\")\n",
    "plt.ylabel(\"score\")\n",
    "plt.show()"
   ]
  },
  {
   "cell_type": "code",
   "execution_count": 61,
   "metadata": {},
   "outputs": [
    {
     "output_type": "execute_result",
     "data": {
      "text/plain": [
       "10"
      ]
     },
     "metadata": {},
     "execution_count": 61
    }
   ],
   "source": [
    "len(id3)"
   ]
  },
  {
   "cell_type": "code",
   "execution_count": 21,
   "metadata": {},
   "outputs": [
    {
     "output_type": "execute_result",
     "data": {
      "text/plain": [
       "{'hasDoi': False,\n",
       " 'sourceId': 'hal-00987753',\n",
       " 'documentType': ['UNDEFINED'],\n",
       " 'researcherId': [],\n",
       " 'teiBlob': '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',\n",
       " 'isbn': [],\n",
       " 'orcId': [],\n",
       " 'source': 'hal',\n",
       " 'title': {'default': 'Remarks on existence and uniqueness of Cournot-Nash equilibria in the non-potential case',\n",
       "  'monography': '',\n",
       "  'journal': '',\n",
       "  'en': 'Remarks on existence and uniqueness of Cournot-Nash equilibria in the non-potential case',\n",
       "  'fr': '',\n",
       "  'meeting': ''},\n",
       " 'idHal': None,\n",
       " 'hasFulltext': True,\n",
       " 'isni': [],\n",
       " 'idChain': 'hal:gv7AmoEKwIyuJYlXkSaUWvXuH!',\n",
       " 'halAuthorId': ['739328', '1015288'],\n",
       " 'isDuplicate': False,\n",
       " 'publicationDate': '2014-05-02',\n",
       " 'duplicates': [],\n",
       " 'first3AuthorNamesWithInitials': 'Blanchet A Carlier G',\n",
       " 'sessionName': 'HAL_2020-01-28_2014_IK20200128',\n",
       " 'typeConditor': 'Autre',\n",
       " 'halId': 'hal-00987753',\n",
       " 'isNearDuplicate': True,\n",
       " 'eissn': [],\n",
       " 'isDeduplicable': True,\n",
       " 'creationDate': '2020-01-28 09:04:20',\n",
       " 'rnsr': ['201321083P', '196718247G'],\n",
       " 'viaf': [],\n",
       " 'idConditor': 'gv7AmoEKwIyuJYlXkSaUWvXuH',\n",
       " 'nearDuplicates': [{'similarityRate': 0.991,\n",
       "   'source': 'hal',\n",
       "   'type': 'Autre',\n",
       "   'idConditor': 'CL1unJFCg30ilC8U_jMJSLUoF'}],\n",
       " 'xissn': [],\n",
       " 'sourceUid': 'hal$hal-00987753',\n",
       " 'issn': [],\n",
       " 'first3AuthorNames': 'Blanchet Adrien Carlier Guillaume',\n",
       " 'authorNames': 'Blanchet Adrien Carlier Guillaume',\n",
       " 'nearDuplicatesDetectedBySimilarity': [{'similarityRate': 0.991,\n",
       "   'source': 'hal',\n",
       "   'type': 'Autre',\n",
       "   'idConditor': 'CL1unJFCg30ilC8U_jMJSLUoF'}],\n",
       " 'xPublicationDate': ['2014-05-02'],\n",
       " '_score': 2.283673,\n",
       " '_sort': [27371],\n",
       " 'pageRange': None,\n",
       " 'volume': None,\n",
       " 'abstract': 'This article is devoted to various methods (optimal transport, fixed-point, ordinary differential equations) to obtain existence and/or uniqueness of Cournot-Nash equilibria for games with a continuum of players with both attractive and repulsive effects. We mainly address separable situations but for which the game does not have a potential. We also present several numerical simulations which illustrate the applicability of our approach to compute Cournot-Nash equilibria.',\n",
       " 'doi': None,\n",
       " 'fulltextPath': 'https://hal.archives-ouvertes.fr/hal-00987753/file/abgc-2014-02-05.pdf',\n",
       " 'reportNumber': None,\n",
       " 'localRef': None,\n",
       " 'issue': None,\n",
       " 'arxiv': '1405.1354',\n",
       " 'electronicPublicationDate': None,\n",
       " 'inspire': None,\n",
       " 'hasTransDuplicate': None,\n",
       " 'duplicateRules': None,\n",
       " 'nnt': None,\n",
       " 'ensam': None,\n",
       " 'ird': None,\n",
       " 'sciencespo': None,\n",
       " 'patentNumber': None,\n",
       " 'bibCode': None,\n",
       " 'irstea': None,\n",
       " 'oatao': None,\n",
       " 'pii': None,\n",
       " 'specialIssue': None,\n",
       " 'pmId': None,\n",
       " 'pmc': None,\n",
       " 'okina': None,\n",
       " 'supplement': None,\n",
       " 'part': None,\n",
       " 'ppn': None,\n",
       " 'ineris': None,\n",
       " 'cern': None}"
      ]
     },
     "metadata": {},
     "execution_count": 21
    }
   ],
   "source": [
    "t1"
   ]
  },
  {
   "cell_type": "code",
   "execution_count": 24,
   "metadata": {},
   "outputs": [],
   "source": [
    "import base64\n",
    "from bs4 import BeautifulSoup\n",
    "\n",
    "def decode_b64(teiblob) : \n",
    "    tb_decoded = base64.b64decode(teiblob).decode('utf8')\n",
    "    soup = BeautifulSoup(tb_decoded, \"lxml\")\n",
    "    return soup"
   ]
  },
  {
   "cell_type": "code",
   "execution_count": 27,
   "metadata": {},
   "outputs": [
    {
     "output_type": "execute_result",
     "data": {
      "text/plain": [
       "<?xml version=\"1.0\"?><html><body><tei xmlns=\"http://www.tei-c.org/ns/1.0\" xmlns:xsi=\"http://www.w3.org/2001/XMLSchema-instance\">\n",
       "<text>\n",
       "<listbibl>\n",
       "<biblfull>\n",
       "<titlestmt>\n",
       "<title xml:lang=\"en\">Remarks on existence and uniqueness of Cournot-Nash equilibria in the non-potential case</title>\n",
       "</titlestmt>\n",
       "<editionstmt>\n",
       "<edition n=\"v1.0.0\">\n",
       "<date type=\"whenDownloaded\">2020-01-09T15:37:28+01:00</date>\n",
       "<date type=\"whenCreated\">2020-01-23T13:33:08+01:00</date>\n",
       "</edition>\n",
       "<respstmt>\n",
       "<resp>Generated by TEI-Conditor XSLT (https://github.com/conditor/tei-conditor), from original HAL document hal-00987753 (version \"v1\", type \"current\")</resp>\n",
       "<name>Conditor</name>\n",
       "</respstmt>\n",
       "</editionstmt>\n",
       "<publicationstmt>\n",
       "<distributor>Conditor</distributor>\n",
       "</publicationstmt>\n",
       "<sourcedesc>\n",
       "<biblstruct>\n",
       "<analytic>\n",
       "<title xml:lang=\"en\">Remarks on existence and uniqueness of Cournot-Nash equilibria in the non-potential case</title>\n",
       "<author role=\"aut\">\n",
       "<persname>\n",
       "<forename>Adrien</forename>\n",
       "<surname>Blanchet</surname>\n",
       "</persname>\n",
       "<email type=\"md5\">417955c263a0fa4aaed59714b2b6465d</email>\n",
       "<email type=\"domain\">univ-tlse1.fr</email>\n",
       "<affiliation n=\"struct-744\">Université Toulouse 1 Capitole UT1, UMR, Institut National de la Recherche Agronomique INRA, École des hautes études en sciences sociales EHESS, UMR5604, Centre National de la Recherche Scientifique CNRS, Groupe de recherche en économie mathématique et quantitative GREMAQ, manufacture des tabacs - bat. F 21 Allée de Brienne 31000 TOULOUSE, FR<org status=\"VALID\" type=\"laboratory\"><orgname>Groupe de recherche en économie mathématique et quantitative</orgname><orgname type=\"acronym\">GREMAQ</orgname><name type=\"code\">UMR</name><name type=\"code\">UMR5604</name><desc><address><addrline>manufacture des tabacs - bat. F 21 Allée de Brienne 31000 TOULOUSE</addrline><country key=\"FR\"></country></address></desc><idno type=\"halStructureId\">struct-744</idno><org status=\"VALID\" type=\"institution\"><orgname>Université Toulouse 1 Capitole</orgname><orgname type=\"acronym\">UT1</orgname><idno type=\"halStructureId\">struct-81148</idno><idno type=\"idRef\">026404354</idno><date type=\"start\">1970</date></org><org status=\"VALID\" type=\"institution\"><orgname>Institut National de la Recherche Agronomique</orgname><orgname type=\"acronym\">INRA</orgname><idno type=\"halStructureId\">struct-92114</idno></org><org status=\"VALID\" type=\"institution\"><orgname>École des hautes études en sciences sociales</orgname><orgname type=\"acronym\">EHESS</orgname><idno type=\"halStructureId\">struct-99539</idno></org><org status=\"VALID\" type=\"institution\"><orgname>Centre National de la Recherche Scientifique</orgname><orgname type=\"acronym\">CNRS</orgname><idno type=\"halStructureId\">struct-441569</idno><idno type=\"idRef\">02636817X</idno><idno type=\"isni\">0000000122597504</idno><date type=\"start\">1939-10-19</date></org></org></affiliation>\n",
       "<idno type=\"halAuthorId\">739328</idno>\n",
       "</author>\n",
       "<author role=\"aut\">\n",
       "<persname>\n",
       "<forename>Guillaume</forename>\n",
       "<surname>Carlier</surname>\n",
       "</persname>\n",
       "<email type=\"md5\">8fb722704b35f2097615a7e01433e967</email>\n",
       "<email type=\"domain\">ceremade.dauphine.fr</email>\n",
       "<affiliation n=\"struct-203053\">Inria Paris-Rocquencourt, Méthodes numériques pour le problème de Monge-Kantorovich et Applications en sciences sociales MOKAPLAN, FR<org status=\"OLD\" type=\"researchteam\"><orgname>Méthodes numériques pour le problème de Monge-Kantorovich et Applications en sciences sociales</orgname><orgname type=\"acronym\">MOKAPLAN</orgname><desc><address><country key=\"FR\"></country></address></desc><idno type=\"halStructureId\">struct-203053</idno><idno type=\"rnsr\">201321083P</idno><org status=\"VALID\" type=\"laboratory\"><orgname>Inria Paris-Rocquencourt</orgname><idno type=\"halStructureId\">struct-86790</idno><idno type=\"rnsr\">196718247G</idno></org><org status=\"VALID\" type=\"institution\"><orgname>Institut National de Recherche en Informatique et en Automatique</orgname><orgname type=\"acronym\">Inria</orgname><idno type=\"halStructureId\">struct-300009</idno></org></org></affiliation>\n",
       "<affiliation n=\"struct-60\">Université Paris-Dauphine, UMR7534, Centre National de la Recherche Scientifique CNRS, CEntre de REcherches en MAthématiques de la DEcision CEREMADE, Place du Maréchal de Lattre de Tassigny 75775 - Paris Cedex 16, FR<org status=\"VALID\" type=\"laboratory\"><orgname>CEntre de REcherches en MAthématiques de la DEcision</orgname><orgname type=\"acronym\">CEREMADE</orgname><name type=\"code\">UMR7534</name><desc><address><addrline>Place du Maréchal de Lattre de Tassigny 75775 - Paris Cedex 16</addrline><country key=\"FR\"></country></address></desc><idno type=\"halStructureId\">struct-60</idno><org status=\"VALID\" type=\"institution\"><orgname>Université Paris-Dauphine</orgname><idno type=\"halStructureId\">struct-300302</idno></org><org status=\"VALID\" type=\"institution\"><orgname>Centre National de la Recherche Scientifique</orgname><orgname type=\"acronym\">CNRS</orgname><idno type=\"halStructureId\">struct-441569</idno><idno type=\"idRef\">02636817X</idno><idno type=\"isni\">0000000122597504</idno><date type=\"start\">1939-10-19</date></org></org></affiliation>\n",
       "<idno type=\"halAuthorId\">1015288</idno>\n",
       "</author>\n",
       "</analytic>\n",
       "<monogr>\n",
       "<title xml:lang=\"en\">Remarks on existence and uniqueness of Cournot-Nash equilibria in the non-potential case</title>\n",
       "<imprint>\n",
       "<date type=\"datePub\">2014-05-02</date>\n",
       "</imprint>\n",
       "</monogr>\n",
       "<idno type=\"halId\">hal-00987753</idno>\n",
       "<idno type=\"arxiv\">1405.1354</idno>\n",
       "<ref target=\"https://hal.archives-ouvertes.fr/hal-00987753/document\" type=\"file\"></ref>\n",
       "<ref n=\"1\" subtype=\"author\" target=\"https://hal.archives-ouvertes.fr/hal-00987753/file/abgc-2014-02-05.pdf\" type=\"file\"></ref>\n",
       "<ref target=\"http://arxiv.org/pdf/1405.1354\" type=\"externalLink\"></ref>\n",
       "</biblstruct>\n",
       "</sourcedesc>\n",
       "<profiledesc>\n",
       "<langusage>\n",
       "<language ident=\"en\">English</language>\n",
       "</langusage>\n",
       "<textclass>\n",
       "<keywords scheme=\"author\">\n",
       "<term xml:lang=\"en\">congestion</term>\n",
       "<term xml:lang=\"en\">Continuum of players</term>\n",
       "<term xml:lang=\"en\">optimal transport</term>\n",
       "<term xml:lang=\"en\">non-symmetric interactions</term>\n",
       "<term xml:lang=\"en\">Cournot-Nash equilibria</term>\n",
       "<term xml:lang=\"en\">best-reply iteration</term>\n",
       "</keywords>\n",
       "<classcode n=\"math.math-oc\" scheme=\"halDomain\">Mathematics [math]/Optimization and Control [math.OC]</classcode>\n",
       "<classcode n=\"UNDEFINED\" scheme=\"typology\">UNDEFINED</classcode>\n",
       "</textclass>\n",
       "<abstract xml:lang=\"en\">This article is devoted to various methods (optimal transport, fixed-point, ordinary differential equations) to obtain existence and/or uniqueness of Cournot-Nash equilibria for games with a continuum of players with both attractive and repulsive effects. We mainly address separable situations but for which the game does not have a potential. We also present several numerical simulations which illustrate the applicability of our approach to compute Cournot-Nash equilibria.</abstract>\n",
       "</profiledesc>\n",
       "</biblfull>\n",
       "</listbibl>\n",
       "</text>\n",
       "</tei>\n",
       "</body></html>"
      ]
     },
     "metadata": {},
     "execution_count": 27
    }
   ],
   "source": [
    "decode_b64(t[\"teiBlob\"])"
   ]
  },
  {
   "cell_type": "code",
   "execution_count": null,
   "metadata": {},
   "outputs": [],
   "source": []
  }
 ]
}