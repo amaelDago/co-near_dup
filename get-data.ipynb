{
 "metadata": {
  "language_info": {
   "codemirror_mode": {
    "name": "ipython",
    "version": 3
   },
   "file_extension": ".py",
   "mimetype": "text/x-python",
   "name": "python",
   "nbconvert_exporter": "python",
   "pygments_lexer": "ipython3",
   "version": "3.8.5"
  },
  "orig_nbformat": 2,
  "kernelspec": {
   "name": "python385jvsc74a57bd0fbbb205bcf0e6e6dc058da4caac1dea5690b364b8e6e7e3faad64b2e01ee6bd0",
   "display_name": "Python 3.8.5 64-bit ('base': conda)"
  },
  "metadata": {
   "interpreter": {
    "hash": "fbbb205bcf0e6e6dc058da4caac1dea5690b364b8e6e7e3faad64b2e01ee6bd0"
   }
  }
 },
 "nbformat": 4,
 "nbformat_minor": 2,
 "cells": [
  {
   "cell_type": "code",
   "execution_count": 1,
   "metadata": {},
   "outputs": [
    {
     "output_type": "stream",
     "name": "stderr",
     "text": [
      "100%|██████████| 312661/312661 [00:00<00:00, 476684.33it/s]779356\n",
      "CPU times: user 7.59 s, sys: 2.17 s, total: 9.77 s\n",
      "Wall time: 8.72 s\n",
      "\n"
     ]
    }
   ],
   "source": [
    "%%time\n",
    "import pandas as pd\n",
    "import json\n",
    "from tqdm import tqdm\n",
    "import asyncio\n",
    "from utils import NoticeComparison\n",
    "\n",
    "with open(\"../../data/conditor.json\", \"r\") as f : \n",
    "    db = json.load(f)\n",
    "\n",
    "\n",
    "indexor = {}\n",
    "d = []\n",
    "for notice in tqdm(db) : \n",
    "    sourceUid = notice[\"sourceUid\"]\n",
    "    indexor[sourceUid] = notice\n",
    "    nearDuplicate = notice[\"nearDuplicates\"]\n",
    "\n",
    "    l = list(map(lambda y : y[\"sourceUid\"], nearDuplicate))\n",
    "    for x in l : \n",
    "        d.append((sourceUid, x))\n",
    "print(len(d))\n",
    "    #d.extend((list(map(lambda x,y : (x, y[\"sourceUid\"]), [sourceUid]*len(nearDuplicate), nearDuplicate))))"
   ]
  },
  {
   "cell_type": "code",
   "execution_count": 2,
   "metadata": {},
   "outputs": [
    {
     "output_type": "stream",
     "name": "stdout",
     "text": [
      "7.987022399902344e-05\nhal$halshs-01617075\n{'nearDuplicates': [{'sourceUid': 'hal$halshs-01626607', 'similarityRate': 0.879, 'source': 'hal', 'type': 'Chapitre', 'idConditor': '19LWuwBf6X20fSweU7XqsyJdb'}], 'pageRange': '208-209', 'sourceUid': 'hal$halshs-01617075', 'issn': [], 'documentType': ['COUV'], 'isbn': ['ISBN: 978-2-271-11907-0'], 'typeConditor': 'Chapitre', 'eissn': [], 'title': {'default': 'Urbanization and the Ocean', 'monography': 'The Ocean revealed', 'journal': '', 'en': 'Urbanization and the Ocean', 'fr': '', 'meeting': ''}, 'publicationDate': '2017-09-28', '_score': 1.8790301, '_sort': [5620017]}\n"
     ]
    }
   ],
   "source": [
    "from time import time\n",
    "# Class for compute comparison\n",
    "def getNoticeFromSourceUid(sourceUid, indexor = indexor): \n",
    "    if not isinstance(sourceUid, str) : \n",
    "        sourceUid = str(sourceUid)\n",
    "    try : \n",
    "        return indexor[sourceUid]\n",
    "    except : \n",
    "        return None\n",
    "x = \"hal$halshs-01617075\"\n",
    "a = time()\n",
    "t = getNoticeFromSourceUid(x, indexor)\n",
    "print(time() - a)\n",
    "print(x)\n",
    "print(t)"
   ]
  },
  {
   "cell_type": "code",
   "execution_count": 3,
   "metadata": {},
   "outputs": [
    {
     "output_type": "stream",
     "name": "stdout",
     "text": [
      "0.07207322120666504\n7.700920104980469e-05\n"
     ]
    }
   ],
   "source": [
    "from time import time\n",
    "def function(json_object, x):\n",
    "    return [obj for obj in json_object if obj['sourceUid']==x]\n",
    "a = time()\n",
    "t1 = function(db, x)\n",
    "print(time() -a )\n",
    "\n",
    "\n",
    "def function2(x, dico) : \n",
    "    try :\n",
    "        return dico[x] \n",
    "    except :\n",
    "        return None\n",
    "\n",
    "a = time()\n",
    "t2 = function2(x, indexor)\n",
    "print(time() -a )\n",
    "        "
   ]
  },
  {
   "cell_type": "code",
   "execution_count": 46,
   "metadata": {},
   "outputs": [
    {
     "output_type": "execute_result",
     "data": {
      "text/plain": [
       "{'volume': '9',\n",
       " 'nearDuplicates': [{'sourceUid': 'pubmed$30013886',\n",
       "   'similarityRate': 0.8901,\n",
       "   'source': 'pubmed',\n",
       "   'type': 'Article',\n",
       "   'idConditor': 'kTjmL7XMbKVWBYIKST7p5eLDM'}],\n",
       " 'pageRange': '1926 - 1939',\n",
       " 'sourceUid': 'hal$hal-01921179',\n",
       " 'issn': ['2190-4286'],\n",
       " 'documentType': ['ART'],\n",
       " 'isbn': [],\n",
       " 'typeConditor': 'Article',\n",
       " 'eissn': [],\n",
       " 'title': {'default': 'A differential Hall effect measurement method with sub-nanometre resolution for active dopant concentration profiling in ultrathin doped Si 1− x Ge x and Si layers',\n",
       "  'monography': '',\n",
       "  'journal': 'Beilstein Journal of Nanotechnology',\n",
       "  'en': 'A differential Hall effect measurement method with sub-nanometre resolution for active dopant concentration profiling in ultrathin doped Si 1− x Ge x and Si layers',\n",
       "  'fr': '',\n",
       "  'meeting': ''},\n",
       " 'publicationDate': '2018-07',\n",
       " 'doi': '10.3762/bjnano.9.184',\n",
       " '_score': 1.8785663,\n",
       " '_sort': [1164867]}"
      ]
     },
     "metadata": {},
     "execution_count": 46
    }
   ],
   "source": [
    "indexor['hal$hal-01921179']"
   ]
  },
  {
   "cell_type": "code",
   "execution_count": 5,
   "metadata": {},
   "outputs": [
    {
     "output_type": "stream",
     "name": "stdout",
     "text": [
      "CPU times: user 7.25 s, sys: 3.06 ms, total: 7.25 s\nWall time: 7.27 s\n"
     ]
    }
   ],
   "source": [
    "%%time\n",
    "t = []\n",
    "for i in range(100) : \n",
    "    t.append(get_validation(d[i][0], d[i][1]))"
   ]
  },
  {
   "cell_type": "code",
   "execution_count": 17,
   "metadata": {},
   "outputs": [
    {
     "output_type": "stream",
     "name": "stdout",
     "text": [
      "(312661, 81)\n"
     ]
    }
   ],
   "source": [
    "import pandas as pd\n",
    "filename = \"../../data/conditor.json\"\n",
    "df = pd.read_json(filename)\n",
    "print(df.shape)"
   ]
  },
  {
   "cell_type": "code",
   "execution_count": 13,
   "metadata": {},
   "outputs": [
    {
     "output_type": "stream",
     "name": "stdout",
     "text": [
      "(779356, 5)\n"
     ]
    }
   ],
   "source": [
    "import pandas as pd\n",
    "data = pd.read_csv(\"resultats.tsv\", sep = \"\\t\")\n",
    "print(data.shape)"
   ]
  },
  {
   "cell_type": "code",
   "execution_count": 15,
   "metadata": {},
   "outputs": [
    {
     "output_type": "execute_result",
     "data": {
      "text/plain": [
       "             comment\n",
       "validation          \n",
       "-1          0.466892\n",
       " 0          0.204393\n",
       " 1          0.048702\n",
       " 99         0.280013"
      ],
      "text/html": "<div>\n<style scoped>\n    .dataframe tbody tr th:only-of-type {\n        vertical-align: middle;\n    }\n\n    .dataframe tbody tr th {\n        vertical-align: top;\n    }\n\n    .dataframe thead th {\n        text-align: right;\n    }\n</style>\n<table border=\"1\" class=\"dataframe\">\n  <thead>\n    <tr style=\"text-align: right;\">\n      <th></th>\n      <th>comment</th>\n    </tr>\n    <tr>\n      <th>validation</th>\n      <th></th>\n    </tr>\n  </thead>\n  <tbody>\n    <tr>\n      <th>-1</th>\n      <td>0.466892</td>\n    </tr>\n    <tr>\n      <th>0</th>\n      <td>0.204393</td>\n    </tr>\n    <tr>\n      <th>1</th>\n      <td>0.048702</td>\n    </tr>\n    <tr>\n      <th>99</th>\n      <td>0.280013</td>\n    </tr>\n  </tbody>\n</table>\n</div>"
     },
     "metadata": {},
     "execution_count": 15
    }
   ],
   "source": [
    "data[['validation', 'comment']].groupby([\"validation\"]).count()/len(data)"
   ]
  },
  {
   "cell_type": "code",
   "execution_count": 4,
   "metadata": {},
   "outputs": [
    {
     "output_type": "execute_result",
     "data": {
      "text/plain": [
       "{'pageRange': '16-31',\n",
       " 'issue': '1',\n",
       " 'documentType': ['ART'],\n",
       " 'isbn': [],\n",
       " 'typeConditor': 'Article',\n",
       " 'eissn': [],\n",
       " 'title': {'default': 'Hybolites Revisited',\n",
       "  'monography': '',\n",
       "  'journal': 'recent patents on anti-infective drug discovery',\n",
       "  'en': 'Hybolites Revisited',\n",
       "  'fr': '',\n",
       "  'meeting': ''},\n",
       " 'volume': '11',\n",
       " 'nearDuplicates': [{'sourceUid': 'hal$hal-02352531',\n",
       "   'similarityRate': 0.986,\n",
       "   'source': 'hal',\n",
       "   'type': 'Article',\n",
       "   'idConditor': 'r9R5Dny8CRkISi9gvn4UEvyYs'}],\n",
       " 'sourceUid': 'hal$hal-02349902',\n",
       " 'issn': [],\n",
       " 'publicationDate': '2016-05-11',\n",
       " 'doi': '10.2174/1574891X11666160406121706',\n",
       " '_score': 1.8782449,\n",
       " '_sort': [7445443]}"
      ]
     },
     "metadata": {},
     "execution_count": 4
    }
   ],
   "source": [
    "from utils import checkPageRange, getNoticeFromSourceUid\n",
    "\n",
    "checkPageRange(\"16-31\", '16   - 31')\n",
    "print(getNoticeFromSourceUid(\"hal$hal-02352531\", indexor))\n",
    "getNoticeFromSourceUid(\"hal$hal-02349902\", indexor)\n",
    "#16 - 30\".split(\"-\")"
   ]
  },
  {
   "cell_type": "code",
   "execution_count": 10,
   "metadata": {},
   "outputs": [],
   "source": [
    "filename = \"../../data/conditor.json\"\n",
    "with open(filename, \"r\", encoding = \"utf8\") as f : \n",
    "    db = json.load(f)"
   ]
  },
  {
   "cell_type": "code",
   "execution_count": 44,
   "metadata": {},
   "outputs": [
    {
     "output_type": "stream",
     "name": "stdout",
     "text": [
      "              sourceUid  quality\n0      hal$hal-01905838    0.500\n1  hal$medihal-01285684    0.286\n2      hal$hal-01551223    0.357\n3      hal$hal-01913189    0.500\n4      hal$hal-02328920    0.357\n(1447, 2)\n"
     ]
    }
   ],
   "source": [
    "import json\n",
    "import pandas as pd\n",
    "\n",
    "with open(\"result.csv\", 'r', encoding = \"utf8\") as f : \n",
    "    d = []\n",
    "    for line in f: \n",
    "        line = json.loads(line)\n",
    "        d.append(line)\n",
    "\n",
    "df = pd.DataFrame(d)\n",
    "print(df.head())\n",
    "print(df.shape)"
   ]
  },
  {
   "cell_type": "code",
   "execution_count": 45,
   "metadata": {},
   "outputs": [
    {
     "output_type": "display_data",
     "data": {
      "text/plain": "<Figure size 432x288 with 1 Axes>",
      "image/svg+xml": "<?xml version=\"1.0\" encoding=\"utf-8\" standalone=\"no\"?>\n<!DOCTYPE svg PUBLIC \"-//W3C//DTD SVG 1.1//EN\"\n  \"http://www.w3.org/Graphics/SVG/1.1/DTD/svg11.dtd\">\n<!-- Created with matplotlib (https://matplotlib.org/) -->\n<svg height=\"248.518125pt\" version=\"1.1\" viewBox=\"0 0 375.2875 248.518125\" width=\"375.2875pt\" xmlns=\"http://www.w3.org/2000/svg\" xmlns:xlink=\"http://www.w3.org/1999/xlink\">\n <metadata>\n  <rdf:RDF xmlns:cc=\"http://creativecommons.org/ns#\" xmlns:dc=\"http://purl.org/dc/elements/1.1/\" xmlns:rdf=\"http://www.w3.org/1999/02/22-rdf-syntax-ns#\">\n   <cc:Work>\n    <dc:type rdf:resource=\"http://purl.org/dc/dcmitype/StillImage\"/>\n    <dc:date>2021-05-26T16:49:41.652645</dc:date>\n    <dc:format>image/svg+xml</dc:format>\n    <dc:creator>\n     <cc:Agent>\n      <dc:title>Matplotlib v3.3.2, https://matplotlib.org/</dc:title>\n     </cc:Agent>\n    </dc:creator>\n   </cc:Work>\n  </rdf:RDF>\n </metadata>\n <defs>\n  <style type=\"text/css\">*{stroke-linecap:butt;stroke-linejoin:round;}</style>\n </defs>\n <g id=\"figure_1\">\n  <g id=\"patch_1\">\n   <path d=\"M 0 248.518125 \nL 375.2875 248.518125 \nL 375.2875 0 \nL 0 0 \nz\n\" style=\"fill:none;\"/>\n  </g>\n  <g id=\"axes_1\">\n   <g id=\"patch_2\">\n    <path d=\"M 33.2875 224.64 \nL 368.0875 224.64 \nL 368.0875 7.2 \nL 33.2875 7.2 \nz\n\" style=\"fill:#ffffff;\"/>\n   </g>\n   <g id=\"patch_3\">\n    <path clip-path=\"url(#pab8fdadeaa)\" d=\"M 48.505682 224.64 \nL 78.942045 224.64 \nL 78.942045 101.216914 \nL 48.505682 101.216914 \nz\n\" style=\"fill:#1f77b4;\"/>\n   </g>\n   <g id=\"patch_4\">\n    <path clip-path=\"url(#pab8fdadeaa)\" d=\"M 78.942045 224.64 \nL 109.378409 224.64 \nL 109.378409 173.282743 \nL 78.942045 173.282743 \nz\n\" style=\"fill:#1f77b4;\"/>\n   </g>\n   <g id=\"patch_5\">\n    <path clip-path=\"url(#pab8fdadeaa)\" d=\"M 109.378409 224.64 \nL 139.814773 224.64 \nL 139.814773 17.554286 \nL 109.378409 17.554286 \nz\n\" style=\"fill:#1f77b4;\"/>\n   </g>\n   <g id=\"patch_6\">\n    <path clip-path=\"url(#pab8fdadeaa)\" d=\"M 139.814773 224.64 \nL 170.251136 224.64 \nL 170.251136 113.642057 \nL 139.814773 113.642057 \nz\n\" style=\"fill:#1f77b4;\"/>\n   </g>\n   <g id=\"patch_7\">\n    <path clip-path=\"url(#pab8fdadeaa)\" d=\"M 170.251136 224.64 \nL 200.6875 224.64 \nL 200.6875 124.410514 \nL 170.251136 124.410514 \nz\n\" style=\"fill:#1f77b4;\"/>\n   </g>\n   <g id=\"patch_8\">\n    <path clip-path=\"url(#pab8fdadeaa)\" d=\"M 200.6875 224.64 \nL 231.123864 224.64 \nL 231.123864 56.4864 \nL 200.6875 56.4864 \nz\n\" style=\"fill:#1f77b4;\"/>\n   </g>\n   <g id=\"patch_9\">\n    <path clip-path=\"url(#pab8fdadeaa)\" d=\"M 231.123864 224.64 \nL 261.560227 224.64 \nL 261.560227 157.544229 \nL 231.123864 157.544229 \nz\n\" style=\"fill:#1f77b4;\"/>\n   </g>\n   <g id=\"patch_10\">\n    <path clip-path=\"url(#pab8fdadeaa)\" d=\"M 261.560227 224.64 \nL 291.996591 224.64 \nL 291.996591 112.813714 \nL 261.560227 112.813714 \nz\n\" style=\"fill:#1f77b4;\"/>\n   </g>\n   <g id=\"patch_11\">\n    <path clip-path=\"url(#pab8fdadeaa)\" d=\"M 291.996591 224.64 \nL 322.432955 224.64 \nL 322.432955 68.0832 \nL 291.996591 68.0832 \nz\n\" style=\"fill:#1f77b4;\"/>\n   </g>\n   <g id=\"patch_12\">\n    <path clip-path=\"url(#pab8fdadeaa)\" d=\"M 322.432955 224.64 \nL 352.869318 224.64 \nL 352.869318 122.753829 \nL 322.432955 122.753829 \nz\n\" style=\"fill:#1f77b4;\"/>\n   </g>\n   <g id=\"matplotlib.axis_1\">\n    <g id=\"xtick_1\">\n     <g id=\"line2d_1\">\n      <defs>\n       <path d=\"M 0 0 \nL 0 3.5 \n\" id=\"m872b6f96ee\" style=\"stroke:#000000;stroke-width:0.8;\"/>\n      </defs>\n      <g>\n       <use style=\"stroke:#000000;stroke-width:0.8;\" x=\"43.53358\" xlink:href=\"#m872b6f96ee\" y=\"224.64\"/>\n      </g>\n     </g>\n     <g id=\"text_1\">\n      <!-- 0.2 -->\n      <g transform=\"translate(35.582018 239.238437)scale(0.1 -0.1)\">\n       <defs>\n        <path d=\"M 31.78125 66.40625 \nQ 24.171875 66.40625 20.328125 58.90625 \nQ 16.5 51.421875 16.5 36.375 \nQ 16.5 21.390625 20.328125 13.890625 \nQ 24.171875 6.390625 31.78125 6.390625 \nQ 39.453125 6.390625 43.28125 13.890625 \nQ 47.125 21.390625 47.125 36.375 \nQ 47.125 51.421875 43.28125 58.90625 \nQ 39.453125 66.40625 31.78125 66.40625 \nz\nM 31.78125 74.21875 \nQ 44.046875 74.21875 50.515625 64.515625 \nQ 56.984375 54.828125 56.984375 36.375 \nQ 56.984375 17.96875 50.515625 8.265625 \nQ 44.046875 -1.421875 31.78125 -1.421875 \nQ 19.53125 -1.421875 13.0625 8.265625 \nQ 6.59375 17.96875 6.59375 36.375 \nQ 6.59375 54.828125 13.0625 64.515625 \nQ 19.53125 74.21875 31.78125 74.21875 \nz\n\" id=\"DejaVuSans-48\"/>\n        <path d=\"M 10.6875 12.40625 \nL 21 12.40625 \nL 21 0 \nL 10.6875 0 \nz\n\" id=\"DejaVuSans-46\"/>\n        <path d=\"M 19.1875 8.296875 \nL 53.609375 8.296875 \nL 53.609375 0 \nL 7.328125 0 \nL 7.328125 8.296875 \nQ 12.9375 14.109375 22.625 23.890625 \nQ 32.328125 33.6875 34.8125 36.53125 \nQ 39.546875 41.84375 41.421875 45.53125 \nQ 43.3125 49.21875 43.3125 52.78125 \nQ 43.3125 58.59375 39.234375 62.25 \nQ 35.15625 65.921875 28.609375 65.921875 \nQ 23.96875 65.921875 18.8125 64.3125 \nQ 13.671875 62.703125 7.8125 59.421875 \nL 7.8125 69.390625 \nQ 13.765625 71.78125 18.9375 73 \nQ 24.125 74.21875 28.421875 74.21875 \nQ 39.75 74.21875 46.484375 68.546875 \nQ 53.21875 62.890625 53.21875 53.421875 \nQ 53.21875 48.921875 51.53125 44.890625 \nQ 49.859375 40.875 45.40625 35.40625 \nQ 44.1875 33.984375 37.640625 27.21875 \nQ 31.109375 20.453125 19.1875 8.296875 \nz\n\" id=\"DejaVuSans-50\"/>\n       </defs>\n       <use xlink:href=\"#DejaVuSans-48\"/>\n       <use x=\"63.623047\" xlink:href=\"#DejaVuSans-46\"/>\n       <use x=\"95.410156\" xlink:href=\"#DejaVuSans-50\"/>\n      </g>\n     </g>\n    </g>\n    <g id=\"xtick_2\">\n     <g id=\"line2d_2\">\n      <g>\n       <use style=\"stroke:#000000;stroke-width:0.8;\" x=\"114.563601\" xlink:href=\"#m872b6f96ee\" y=\"224.64\"/>\n      </g>\n     </g>\n     <g id=\"text_2\">\n      <!-- 0.4 -->\n      <g transform=\"translate(106.612038 239.238437)scale(0.1 -0.1)\">\n       <defs>\n        <path d=\"M 37.796875 64.3125 \nL 12.890625 25.390625 \nL 37.796875 25.390625 \nz\nM 35.203125 72.90625 \nL 47.609375 72.90625 \nL 47.609375 25.390625 \nL 58.015625 25.390625 \nL 58.015625 17.1875 \nL 47.609375 17.1875 \nL 47.609375 0 \nL 37.796875 0 \nL 37.796875 17.1875 \nL 4.890625 17.1875 \nL 4.890625 26.703125 \nz\n\" id=\"DejaVuSans-52\"/>\n       </defs>\n       <use xlink:href=\"#DejaVuSans-48\"/>\n       <use x=\"63.623047\" xlink:href=\"#DejaVuSans-46\"/>\n       <use x=\"95.410156\" xlink:href=\"#DejaVuSans-52\"/>\n      </g>\n     </g>\n    </g>\n    <g id=\"xtick_3\">\n     <g id=\"line2d_3\">\n      <g>\n       <use style=\"stroke:#000000;stroke-width:0.8;\" x=\"185.593621\" xlink:href=\"#m872b6f96ee\" y=\"224.64\"/>\n      </g>\n     </g>\n     <g id=\"text_3\">\n      <!-- 0.6 -->\n      <g transform=\"translate(177.642058 239.238437)scale(0.1 -0.1)\">\n       <defs>\n        <path d=\"M 33.015625 40.375 \nQ 26.375 40.375 22.484375 35.828125 \nQ 18.609375 31.296875 18.609375 23.390625 \nQ 18.609375 15.53125 22.484375 10.953125 \nQ 26.375 6.390625 33.015625 6.390625 \nQ 39.65625 6.390625 43.53125 10.953125 \nQ 47.40625 15.53125 47.40625 23.390625 \nQ 47.40625 31.296875 43.53125 35.828125 \nQ 39.65625 40.375 33.015625 40.375 \nz\nM 52.59375 71.296875 \nL 52.59375 62.3125 \nQ 48.875 64.0625 45.09375 64.984375 \nQ 41.3125 65.921875 37.59375 65.921875 \nQ 27.828125 65.921875 22.671875 59.328125 \nQ 17.53125 52.734375 16.796875 39.40625 \nQ 19.671875 43.65625 24.015625 45.921875 \nQ 28.375 48.1875 33.59375 48.1875 \nQ 44.578125 48.1875 50.953125 41.515625 \nQ 57.328125 34.859375 57.328125 23.390625 \nQ 57.328125 12.15625 50.6875 5.359375 \nQ 44.046875 -1.421875 33.015625 -1.421875 \nQ 20.359375 -1.421875 13.671875 8.265625 \nQ 6.984375 17.96875 6.984375 36.375 \nQ 6.984375 53.65625 15.1875 63.9375 \nQ 23.390625 74.21875 37.203125 74.21875 \nQ 40.921875 74.21875 44.703125 73.484375 \nQ 48.484375 72.75 52.59375 71.296875 \nz\n\" id=\"DejaVuSans-54\"/>\n       </defs>\n       <use xlink:href=\"#DejaVuSans-48\"/>\n       <use x=\"63.623047\" xlink:href=\"#DejaVuSans-46\"/>\n       <use x=\"95.410156\" xlink:href=\"#DejaVuSans-54\"/>\n      </g>\n     </g>\n    </g>\n    <g id=\"xtick_4\">\n     <g id=\"line2d_4\">\n      <g>\n       <use style=\"stroke:#000000;stroke-width:0.8;\" x=\"256.623641\" xlink:href=\"#m872b6f96ee\" y=\"224.64\"/>\n      </g>\n     </g>\n     <g id=\"text_4\">\n      <!-- 0.8 -->\n      <g transform=\"translate(248.672078 239.238437)scale(0.1 -0.1)\">\n       <defs>\n        <path d=\"M 31.78125 34.625 \nQ 24.75 34.625 20.71875 30.859375 \nQ 16.703125 27.09375 16.703125 20.515625 \nQ 16.703125 13.921875 20.71875 10.15625 \nQ 24.75 6.390625 31.78125 6.390625 \nQ 38.8125 6.390625 42.859375 10.171875 \nQ 46.921875 13.96875 46.921875 20.515625 \nQ 46.921875 27.09375 42.890625 30.859375 \nQ 38.875 34.625 31.78125 34.625 \nz\nM 21.921875 38.8125 \nQ 15.578125 40.375 12.03125 44.71875 \nQ 8.5 49.078125 8.5 55.328125 \nQ 8.5 64.0625 14.71875 69.140625 \nQ 20.953125 74.21875 31.78125 74.21875 \nQ 42.671875 74.21875 48.875 69.140625 \nQ 55.078125 64.0625 55.078125 55.328125 \nQ 55.078125 49.078125 51.53125 44.71875 \nQ 48 40.375 41.703125 38.8125 \nQ 48.828125 37.15625 52.796875 32.3125 \nQ 56.78125 27.484375 56.78125 20.515625 \nQ 56.78125 9.90625 50.3125 4.234375 \nQ 43.84375 -1.421875 31.78125 -1.421875 \nQ 19.734375 -1.421875 13.25 4.234375 \nQ 6.78125 9.90625 6.78125 20.515625 \nQ 6.78125 27.484375 10.78125 32.3125 \nQ 14.796875 37.15625 21.921875 38.8125 \nz\nM 18.3125 54.390625 \nQ 18.3125 48.734375 21.84375 45.5625 \nQ 25.390625 42.390625 31.78125 42.390625 \nQ 38.140625 42.390625 41.71875 45.5625 \nQ 45.3125 48.734375 45.3125 54.390625 \nQ 45.3125 60.0625 41.71875 63.234375 \nQ 38.140625 66.40625 31.78125 66.40625 \nQ 25.390625 66.40625 21.84375 63.234375 \nQ 18.3125 60.0625 18.3125 54.390625 \nz\n\" id=\"DejaVuSans-56\"/>\n       </defs>\n       <use xlink:href=\"#DejaVuSans-48\"/>\n       <use x=\"63.623047\" xlink:href=\"#DejaVuSans-46\"/>\n       <use x=\"95.410156\" xlink:href=\"#DejaVuSans-56\"/>\n      </g>\n     </g>\n    </g>\n    <g id=\"xtick_5\">\n     <g id=\"line2d_5\">\n      <g>\n       <use style=\"stroke:#000000;stroke-width:0.8;\" x=\"327.653661\" xlink:href=\"#m872b6f96ee\" y=\"224.64\"/>\n      </g>\n     </g>\n     <g id=\"text_5\">\n      <!-- 1.0 -->\n      <g transform=\"translate(319.702099 239.238437)scale(0.1 -0.1)\">\n       <defs>\n        <path d=\"M 12.40625 8.296875 \nL 28.515625 8.296875 \nL 28.515625 63.921875 \nL 10.984375 60.40625 \nL 10.984375 69.390625 \nL 28.421875 72.90625 \nL 38.28125 72.90625 \nL 38.28125 8.296875 \nL 54.390625 8.296875 \nL 54.390625 0 \nL 12.40625 0 \nz\n\" id=\"DejaVuSans-49\"/>\n       </defs>\n       <use xlink:href=\"#DejaVuSans-49\"/>\n       <use x=\"63.623047\" xlink:href=\"#DejaVuSans-46\"/>\n       <use x=\"95.410156\" xlink:href=\"#DejaVuSans-48\"/>\n      </g>\n     </g>\n    </g>\n   </g>\n   <g id=\"matplotlib.axis_2\">\n    <g id=\"ytick_1\">\n     <g id=\"line2d_6\">\n      <defs>\n       <path d=\"M 0 0 \nL -3.5 0 \n\" id=\"md97595c669\" style=\"stroke:#000000;stroke-width:0.8;\"/>\n      </defs>\n      <g>\n       <use style=\"stroke:#000000;stroke-width:0.8;\" x=\"33.2875\" xlink:href=\"#md97595c669\" y=\"224.64\"/>\n      </g>\n     </g>\n     <g id=\"text_6\">\n      <!-- 0 -->\n      <g transform=\"translate(19.925 228.439219)scale(0.1 -0.1)\">\n       <use xlink:href=\"#DejaVuSans-48\"/>\n      </g>\n     </g>\n    </g>\n    <g id=\"ytick_2\">\n     <g id=\"line2d_7\">\n      <g>\n       <use style=\"stroke:#000000;stroke-width:0.8;\" x=\"33.2875\" xlink:href=\"#md97595c669\" y=\"183.222857\"/>\n      </g>\n     </g>\n     <g id=\"text_7\">\n      <!-- 50 -->\n      <g transform=\"translate(13.5625 187.022076)scale(0.1 -0.1)\">\n       <defs>\n        <path d=\"M 10.796875 72.90625 \nL 49.515625 72.90625 \nL 49.515625 64.59375 \nL 19.828125 64.59375 \nL 19.828125 46.734375 \nQ 21.96875 47.46875 24.109375 47.828125 \nQ 26.265625 48.1875 28.421875 48.1875 \nQ 40.625 48.1875 47.75 41.5 \nQ 54.890625 34.8125 54.890625 23.390625 \nQ 54.890625 11.625 47.5625 5.09375 \nQ 40.234375 -1.421875 26.90625 -1.421875 \nQ 22.3125 -1.421875 17.546875 -0.640625 \nQ 12.796875 0.140625 7.71875 1.703125 \nL 7.71875 11.625 \nQ 12.109375 9.234375 16.796875 8.0625 \nQ 21.484375 6.890625 26.703125 6.890625 \nQ 35.15625 6.890625 40.078125 11.328125 \nQ 45.015625 15.765625 45.015625 23.390625 \nQ 45.015625 31 40.078125 35.4375 \nQ 35.15625 39.890625 26.703125 39.890625 \nQ 22.75 39.890625 18.8125 39.015625 \nQ 14.890625 38.140625 10.796875 36.28125 \nz\n\" id=\"DejaVuSans-53\"/>\n       </defs>\n       <use xlink:href=\"#DejaVuSans-53\"/>\n       <use x=\"63.623047\" xlink:href=\"#DejaVuSans-48\"/>\n      </g>\n     </g>\n    </g>\n    <g id=\"ytick_3\">\n     <g id=\"line2d_8\">\n      <g>\n       <use style=\"stroke:#000000;stroke-width:0.8;\" x=\"33.2875\" xlink:href=\"#md97595c669\" y=\"141.805714\"/>\n      </g>\n     </g>\n     <g id=\"text_8\">\n      <!-- 100 -->\n      <g transform=\"translate(7.2 145.604933)scale(0.1 -0.1)\">\n       <use xlink:href=\"#DejaVuSans-49\"/>\n       <use x=\"63.623047\" xlink:href=\"#DejaVuSans-48\"/>\n       <use x=\"127.246094\" xlink:href=\"#DejaVuSans-48\"/>\n      </g>\n     </g>\n    </g>\n    <g id=\"ytick_4\">\n     <g id=\"line2d_9\">\n      <g>\n       <use style=\"stroke:#000000;stroke-width:0.8;\" x=\"33.2875\" xlink:href=\"#md97595c669\" y=\"100.388571\"/>\n      </g>\n     </g>\n     <g id=\"text_9\">\n      <!-- 150 -->\n      <g transform=\"translate(7.2 104.18779)scale(0.1 -0.1)\">\n       <use xlink:href=\"#DejaVuSans-49\"/>\n       <use x=\"63.623047\" xlink:href=\"#DejaVuSans-53\"/>\n       <use x=\"127.246094\" xlink:href=\"#DejaVuSans-48\"/>\n      </g>\n     </g>\n    </g>\n    <g id=\"ytick_5\">\n     <g id=\"line2d_10\">\n      <g>\n       <use style=\"stroke:#000000;stroke-width:0.8;\" x=\"33.2875\" xlink:href=\"#md97595c669\" y=\"58.971429\"/>\n      </g>\n     </g>\n     <g id=\"text_10\">\n      <!-- 200 -->\n      <g transform=\"translate(7.2 62.770647)scale(0.1 -0.1)\">\n       <use xlink:href=\"#DejaVuSans-50\"/>\n       <use x=\"63.623047\" xlink:href=\"#DejaVuSans-48\"/>\n       <use x=\"127.246094\" xlink:href=\"#DejaVuSans-48\"/>\n      </g>\n     </g>\n    </g>\n    <g id=\"ytick_6\">\n     <g id=\"line2d_11\">\n      <g>\n       <use style=\"stroke:#000000;stroke-width:0.8;\" x=\"33.2875\" xlink:href=\"#md97595c669\" y=\"17.554286\"/>\n      </g>\n     </g>\n     <g id=\"text_11\">\n      <!-- 250 -->\n      <g transform=\"translate(7.2 21.353504)scale(0.1 -0.1)\">\n       <use xlink:href=\"#DejaVuSans-50\"/>\n       <use x=\"63.623047\" xlink:href=\"#DejaVuSans-53\"/>\n       <use x=\"127.246094\" xlink:href=\"#DejaVuSans-48\"/>\n      </g>\n     </g>\n    </g>\n   </g>\n   <g id=\"patch_13\">\n    <path d=\"M 33.2875 224.64 \nL 33.2875 7.2 \n\" style=\"fill:none;stroke:#000000;stroke-linecap:square;stroke-linejoin:miter;stroke-width:0.8;\"/>\n   </g>\n   <g id=\"patch_14\">\n    <path d=\"M 368.0875 224.64 \nL 368.0875 7.2 \n\" style=\"fill:none;stroke:#000000;stroke-linecap:square;stroke-linejoin:miter;stroke-width:0.8;\"/>\n   </g>\n   <g id=\"patch_15\">\n    <path d=\"M 33.2875 224.64 \nL 368.0875 224.64 \n\" style=\"fill:none;stroke:#000000;stroke-linecap:square;stroke-linejoin:miter;stroke-width:0.8;\"/>\n   </g>\n   <g id=\"patch_16\">\n    <path d=\"M 33.2875 7.2 \nL 368.0875 7.2 \n\" style=\"fill:none;stroke:#000000;stroke-linecap:square;stroke-linejoin:miter;stroke-width:0.8;\"/>\n   </g>\n  </g>\n </g>\n <defs>\n  <clipPath id=\"pab8fdadeaa\">\n   <rect height=\"217.44\" width=\"334.8\" x=\"33.2875\" y=\"7.2\"/>\n  </clipPath>\n </defs>\n</svg>\n",
      "image/png": "[encoded data removed]"
     },
     "metadata": {
      "needs_background": "light"
     }
    }
   ],
   "source": [
    "import matplotlib.pyplot as plt\n",
    "\n",
    "plt.hist(df.quality)\n",
    "plt.show()"
   ]
  },
  {
   "cell_type": "code",
   "execution_count": 39,
   "metadata": {},
   "outputs": [],
   "source": [
    "goodData = df[df.quality >0.799]"
   ]
  },
  {
   "cell_type": "code",
   "execution_count": 3,
   "metadata": {},
   "outputs": [
    {
     "output_type": "execute_result",
     "data": {
      "text/plain": [
       "{'id': 0, 'page': 1, 'vol': -1, 'source': 1, 'title': -1}"
      ]
     },
     "metadata": {},
     "execution_count": 3
    }
   ],
   "source": [
    "from utils import checkPageRange, NoticeComparison\n",
    "\n",
    "checkPageRange(\"16-31\", \"16 - 31\")\n",
    "s1 = \"hal$hal-02352531\"\n",
    "s2 = \"hal$hal-02349902\"\n",
    "n1 = getNoticeFromSourceUid(s1, indexor)\n",
    "n2 = getNoticeFromSourceUid(s2, indexor)\n",
    "comp = NoticeComparison(n1, n2)\n",
    "comp.run()\n",
    "comp.validation_dict"
   ]
  },
  {
   "cell_type": "code",
   "execution_count": 53,
   "metadata": {},
   "outputs": [],
   "source": [
    "from utils import normalized\n",
    "import re\n",
    "\n",
    "#nlp = spacy.load(\"en_core_web_sm\")\n",
    "words = []\n",
    "freq = {}\n",
    "n = {}\n",
    "for notice in db : \n",
    "    default = notice['title']['default']\n",
    "    nearDuplicatesLength = len(notice[\"nearDuplicates\"])\n",
    "    default = re.sub(r\"[^\\w\\s]\", \" \", default)\n",
    "    if len(default.split())<2 :\n",
    "        titleSplit =  default.split()\n",
    "        for word in titleSplit : \n",
    "            n_word = normalized(word)\n",
    "            n[word] = n_word\n",
    "            if n_word in freq : \n",
    "                freq[n_word].append(len(words))\n",
    "            else : \n",
    "                freq[n_word] = [len(words)]\n",
    "        words.extend([n_word])"
   ]
  },
  {
   "cell_type": "code",
   "execution_count": 64,
   "metadata": {},
   "outputs": [
    {
     "output_type": "display_data",
     "data": {
      "text/plain": "<Figure size 432x288 with 1 Axes>",
      "image/svg+xml": "<?xml version=\"1.0\" encoding=\"utf-8\" standalone=\"no\"?>\n<!DOCTYPE svg PUBLIC \"-//W3C//DTD SVG 1.1//EN\"\n  \"http://www.w3.org/Graphics/SVG/1.1/DTD/svg11.dtd\">\n<!-- Created with matplotlib (https://matplotlib.org/) -->\n<svg height=\"248.627109pt\" version=\"1.1\" viewBox=\"0 0 386.595099 248.627109\" width=\"386.595099pt\" xmlns=\"http://www.w3.org/2000/svg\" xmlns:xlink=\"http://www.w3.org/1999/xlink\">\n <metadata>\n  <rdf:RDF xmlns:cc=\"http://creativecommons.org/ns#\" xmlns:dc=\"http://purl.org/dc/elements/1.1/\" xmlns:rdf=\"http://www.w3.org/1999/02/22-rdf-syntax-ns#\">\n   <cc:Work>\n    <dc:type rdf:resource=\"http://purl.org/dc/dcmitype/StillImage\"/>\n    <dc:date>2021-05-27T15:58:09.924867</dc:date>\n    <dc:format>image/svg+xml</dc:format>\n    <dc:creator>\n     <cc:Agent>\n      <dc:title>Matplotlib v3.3.2, https://matplotlib.org/</dc:title>\n     </cc:Agent>\n    </dc:creator>\n   </cc:Work>\n  </rdf:RDF>\n </metadata>\n <defs>\n  <style type=\"text/css\">*{stroke-linecap:butt;stroke-linejoin:round;}</style>\n </defs>\n <g id=\"figure_1\">\n  <g id=\"patch_1\">\n   <path d=\"M -0 248.627109 \nL 386.595099 248.627109 \nL 386.595099 0 \nL -0 0 \nz\n\" style=\"fill:none;\"/>\n  </g>\n  <g id=\"axes_1\">\n   <g id=\"patch_2\">\n    <path d=\"M 39.65 224.748984 \nL 374.45 224.748984 \nL 374.45 7.308984 \nL 39.65 7.308984 \nz\n\" style=\"fill:#ffffff;\"/>\n   </g>\n   <g id=\"matplotlib.axis_1\">\n    <g id=\"xtick_1\">\n     <g id=\"line2d_1\">\n      <defs>\n       <path d=\"M 0 0 \nL 0 3.5 \n\" id=\"m9511e8af38\" style=\"stroke:#000000;stroke-width:0.8;\"/>\n      </defs>\n      <g>\n       <use style=\"stroke:#000000;stroke-width:0.8;\" x=\"54.868182\" xlink:href=\"#m9511e8af38\" y=\"224.748984\"/>\n      </g>\n     </g>\n     <g id=\"text_1\">\n      <!-- introduction -->\n      <g transform=\"translate(24.678338 239.347421)scale(0.1 -0.1)\">\n       <defs>\n        <path d=\"M 9.421875 54.6875 \nL 18.40625 54.6875 \nL 18.40625 0 \nL 9.421875 0 \nz\nM 9.421875 75.984375 \nL 18.40625 75.984375 \nL 18.40625 64.59375 \nL 9.421875 64.59375 \nz\n\" id=\"DejaVuSans-105\"/>\n        <path d=\"M 54.890625 33.015625 \nL 54.890625 0 \nL 45.90625 0 \nL 45.90625 32.71875 \nQ 45.90625 40.484375 42.875 44.328125 \nQ 39.84375 48.1875 33.796875 48.1875 \nQ 26.515625 48.1875 22.3125 43.546875 \nQ 18.109375 38.921875 18.109375 30.90625 \nL 18.109375 0 \nL 9.078125 0 \nL 9.078125 54.6875 \nL 18.109375 54.6875 \nL 18.109375 46.1875 \nQ 21.34375 51.125 25.703125 53.5625 \nQ 30.078125 56 35.796875 56 \nQ 45.21875 56 50.046875 50.171875 \nQ 54.890625 44.34375 54.890625 33.015625 \nz\n\" id=\"DejaVuSans-110\"/>\n        <path d=\"M 18.3125 70.21875 \nL 18.3125 54.6875 \nL 36.8125 54.6875 \nL 36.8125 47.703125 \nL 18.3125 47.703125 \nL 18.3125 18.015625 \nQ 18.3125 11.328125 20.140625 9.421875 \nQ 21.96875 7.515625 27.59375 7.515625 \nL 36.8125 7.515625 \nL 36.8125 0 \nL 27.59375 0 \nQ 17.1875 0 13.234375 3.875 \nQ 9.28125 7.765625 9.28125 18.015625 \nL 9.28125 47.703125 \nL 2.6875 47.703125 \nL 2.6875 54.6875 \nL 9.28125 54.6875 \nL 9.28125 70.21875 \nz\n\" id=\"DejaVuSans-116\"/>\n        <path d=\"M 41.109375 46.296875 \nQ 39.59375 47.171875 37.8125 47.578125 \nQ 36.03125 48 33.890625 48 \nQ 26.265625 48 22.1875 43.046875 \nQ 18.109375 38.09375 18.109375 28.8125 \nL 18.109375 0 \nL 9.078125 0 \nL 9.078125 54.6875 \nL 18.109375 54.6875 \nL 18.109375 46.1875 \nQ 20.953125 51.171875 25.484375 53.578125 \nQ 30.03125 56 36.53125 56 \nQ 37.453125 56 38.578125 55.875 \nQ 39.703125 55.765625 41.0625 55.515625 \nz\n\" id=\"DejaVuSans-114\"/>\n        <path d=\"M 30.609375 48.390625 \nQ 23.390625 48.390625 19.1875 42.75 \nQ 14.984375 37.109375 14.984375 27.296875 \nQ 14.984375 17.484375 19.15625 11.84375 \nQ 23.34375 6.203125 30.609375 6.203125 \nQ 37.796875 6.203125 41.984375 11.859375 \nQ 46.1875 17.53125 46.1875 27.296875 \nQ 46.1875 37.015625 41.984375 42.703125 \nQ 37.796875 48.390625 30.609375 48.390625 \nz\nM 30.609375 56 \nQ 42.328125 56 49.015625 48.375 \nQ 55.71875 40.765625 55.71875 27.296875 \nQ 55.71875 13.875 49.015625 6.21875 \nQ 42.328125 -1.421875 30.609375 -1.421875 \nQ 18.84375 -1.421875 12.171875 6.21875 \nQ 5.515625 13.875 5.515625 27.296875 \nQ 5.515625 40.765625 12.171875 48.375 \nQ 18.84375 56 30.609375 56 \nz\n\" id=\"DejaVuSans-111\"/>\n        <path d=\"M 45.40625 46.390625 \nL 45.40625 75.984375 \nL 54.390625 75.984375 \nL 54.390625 0 \nL 45.40625 0 \nL 45.40625 8.203125 \nQ 42.578125 3.328125 38.25 0.953125 \nQ 33.9375 -1.421875 27.875 -1.421875 \nQ 17.96875 -1.421875 11.734375 6.484375 \nQ 5.515625 14.40625 5.515625 27.296875 \nQ 5.515625 40.1875 11.734375 48.09375 \nQ 17.96875 56 27.875 56 \nQ 33.9375 56 38.25 53.625 \nQ 42.578125 51.265625 45.40625 46.390625 \nz\nM 14.796875 27.296875 \nQ 14.796875 17.390625 18.875 11.75 \nQ 22.953125 6.109375 30.078125 6.109375 \nQ 37.203125 6.109375 41.296875 11.75 \nQ 45.40625 17.390625 45.40625 27.296875 \nQ 45.40625 37.203125 41.296875 42.84375 \nQ 37.203125 48.484375 30.078125 48.484375 \nQ 22.953125 48.484375 18.875 42.84375 \nQ 14.796875 37.203125 14.796875 27.296875 \nz\n\" id=\"DejaVuSans-100\"/>\n        <path d=\"M 8.5 21.578125 \nL 8.5 54.6875 \nL 17.484375 54.6875 \nL 17.484375 21.921875 \nQ 17.484375 14.15625 20.5 10.265625 \nQ 23.53125 6.390625 29.59375 6.390625 \nQ 36.859375 6.390625 41.078125 11.03125 \nQ 45.3125 15.671875 45.3125 23.6875 \nL 45.3125 54.6875 \nL 54.296875 54.6875 \nL 54.296875 0 \nL 45.3125 0 \nL 45.3125 8.40625 \nQ 42.046875 3.421875 37.71875 1 \nQ 33.40625 -1.421875 27.6875 -1.421875 \nQ 18.265625 -1.421875 13.375 4.4375 \nQ 8.5 10.296875 8.5 21.578125 \nz\nM 31.109375 56 \nz\n\" id=\"DejaVuSans-117\"/>\n        <path d=\"M 48.78125 52.59375 \nL 48.78125 44.1875 \nQ 44.96875 46.296875 41.140625 47.34375 \nQ 37.3125 48.390625 33.40625 48.390625 \nQ 24.65625 48.390625 19.8125 42.84375 \nQ 14.984375 37.3125 14.984375 27.296875 \nQ 14.984375 17.28125 19.8125 11.734375 \nQ 24.65625 6.203125 33.40625 6.203125 \nQ 37.3125 6.203125 41.140625 7.25 \nQ 44.96875 8.296875 48.78125 10.40625 \nL 48.78125 2.09375 \nQ 45.015625 0.34375 40.984375 -0.53125 \nQ 36.96875 -1.421875 32.421875 -1.421875 \nQ 20.0625 -1.421875 12.78125 6.34375 \nQ 5.515625 14.109375 5.515625 27.296875 \nQ 5.515625 40.671875 12.859375 48.328125 \nQ 20.21875 56 33.015625 56 \nQ 37.15625 56 41.109375 55.140625 \nQ 45.0625 54.296875 48.78125 52.59375 \nz\n\" id=\"DejaVuSans-99\"/>\n       </defs>\n       <use xlink:href=\"#DejaVuSans-105\"/>\n       <use x=\"27.783203\" xlink:href=\"#DejaVuSans-110\"/>\n       <use x=\"91.162109\" xlink:href=\"#DejaVuSans-116\"/>\n       <use x=\"130.371094\" xlink:href=\"#DejaVuSans-114\"/>\n       <use x=\"169.234375\" xlink:href=\"#DejaVuSans-111\"/>\n       <use x=\"230.416016\" xlink:href=\"#DejaVuSans-100\"/>\n       <use x=\"293.892578\" xlink:href=\"#DejaVuSans-117\"/>\n       <use x=\"357.271484\" xlink:href=\"#DejaVuSans-99\"/>\n       <use x=\"412.251953\" xlink:href=\"#DejaVuSans-116\"/>\n       <use x=\"451.460938\" xlink:href=\"#DejaVuSans-105\"/>\n       <use x=\"479.244141\" xlink:href=\"#DejaVuSans-111\"/>\n       <use x=\"540.425781\" xlink:href=\"#DejaVuSans-110\"/>\n      </g>\n     </g>\n    </g>\n    <g id=\"xtick_2\">\n     <g id=\"line2d_2\">\n      <g>\n       <use style=\"stroke:#000000;stroke-width:0.8;\" x=\"70.887321\" xlink:href=\"#m9511e8af38\" y=\"224.748984\"/>\n      </g>\n     </g>\n     <g id=\"text_2\">\n      <!-- editorial -->\n      <g transform=\"translate(50.330289 239.347421)scale(0.1 -0.1)\">\n       <defs>\n        <path d=\"M 56.203125 29.59375 \nL 56.203125 25.203125 \nL 14.890625 25.203125 \nQ 15.484375 15.921875 20.484375 11.0625 \nQ 25.484375 6.203125 34.421875 6.203125 \nQ 39.59375 6.203125 44.453125 7.46875 \nQ 49.3125 8.734375 54.109375 11.28125 \nL 54.109375 2.78125 \nQ 49.265625 0.734375 44.1875 -0.34375 \nQ 39.109375 -1.421875 33.890625 -1.421875 \nQ 20.796875 -1.421875 13.15625 6.1875 \nQ 5.515625 13.8125 5.515625 26.8125 \nQ 5.515625 40.234375 12.765625 48.109375 \nQ 20.015625 56 32.328125 56 \nQ 43.359375 56 49.78125 48.890625 \nQ 56.203125 41.796875 56.203125 29.59375 \nz\nM 47.21875 32.234375 \nQ 47.125 39.59375 43.09375 43.984375 \nQ 39.0625 48.390625 32.421875 48.390625 \nQ 24.90625 48.390625 20.390625 44.140625 \nQ 15.875 39.890625 15.1875 32.171875 \nz\n\" id=\"DejaVuSans-101\"/>\n        <path d=\"M 34.28125 27.484375 \nQ 23.390625 27.484375 19.1875 25 \nQ 14.984375 22.515625 14.984375 16.5 \nQ 14.984375 11.71875 18.140625 8.90625 \nQ 21.296875 6.109375 26.703125 6.109375 \nQ 34.1875 6.109375 38.703125 11.40625 \nQ 43.21875 16.703125 43.21875 25.484375 \nL 43.21875 27.484375 \nz\nM 52.203125 31.203125 \nL 52.203125 0 \nL 43.21875 0 \nL 43.21875 8.296875 \nQ 40.140625 3.328125 35.546875 0.953125 \nQ 30.953125 -1.421875 24.3125 -1.421875 \nQ 15.921875 -1.421875 10.953125 3.296875 \nQ 6 8.015625 6 15.921875 \nQ 6 25.140625 12.171875 29.828125 \nQ 18.359375 34.515625 30.609375 34.515625 \nL 43.21875 34.515625 \nL 43.21875 35.40625 \nQ 43.21875 41.609375 39.140625 45 \nQ 35.0625 48.390625 27.6875 48.390625 \nQ 23 48.390625 18.546875 47.265625 \nQ 14.109375 46.140625 10.015625 43.890625 \nL 10.015625 52.203125 \nQ 14.9375 54.109375 19.578125 55.046875 \nQ 24.21875 56 28.609375 56 \nQ 40.484375 56 46.34375 49.84375 \nQ 52.203125 43.703125 52.203125 31.203125 \nz\n\" id=\"DejaVuSans-97\"/>\n        <path d=\"M 9.421875 75.984375 \nL 18.40625 75.984375 \nL 18.40625 0 \nL 9.421875 0 \nz\n\" id=\"DejaVuSans-108\"/>\n       </defs>\n       <use xlink:href=\"#DejaVuSans-101\"/>\n       <use x=\"61.523438\" xlink:href=\"#DejaVuSans-100\"/>\n       <use x=\"125\" xlink:href=\"#DejaVuSans-105\"/>\n       <use x=\"152.783203\" xlink:href=\"#DejaVuSans-116\"/>\n       <use x=\"191.992188\" xlink:href=\"#DejaVuSans-111\"/>\n       <use x=\"253.173828\" xlink:href=\"#DejaVuSans-114\"/>\n       <use x=\"294.287109\" xlink:href=\"#DejaVuSans-105\"/>\n       <use x=\"322.070312\" xlink:href=\"#DejaVuSans-97\"/>\n       <use x=\"383.349609\" xlink:href=\"#DejaVuSans-108\"/>\n      </g>\n     </g>\n    </g>\n    <g id=\"xtick_3\">\n     <g id=\"line2d_3\">\n      <g>\n       <use style=\"stroke:#000000;stroke-width:0.8;\" x=\"86.906459\" xlink:href=\"#m9511e8af38\" y=\"224.748984\"/>\n      </g>\n     </g>\n     <g id=\"text_3\">\n      <!-- preface -->\n      <g transform=\"translate(68.062709 239.347421)scale(0.1 -0.1)\">\n       <defs>\n        <path d=\"M 18.109375 8.203125 \nL 18.109375 -20.796875 \nL 9.078125 -20.796875 \nL 9.078125 54.6875 \nL 18.109375 54.6875 \nL 18.109375 46.390625 \nQ 20.953125 51.265625 25.265625 53.625 \nQ 29.59375 56 35.59375 56 \nQ 45.5625 56 51.78125 48.09375 \nQ 58.015625 40.1875 58.015625 27.296875 \nQ 58.015625 14.40625 51.78125 6.484375 \nQ 45.5625 -1.421875 35.59375 -1.421875 \nQ 29.59375 -1.421875 25.265625 0.953125 \nQ 20.953125 3.328125 18.109375 8.203125 \nz\nM 48.6875 27.296875 \nQ 48.6875 37.203125 44.609375 42.84375 \nQ 40.53125 48.484375 33.40625 48.484375 \nQ 26.265625 48.484375 22.1875 42.84375 \nQ 18.109375 37.203125 18.109375 27.296875 \nQ 18.109375 17.390625 22.1875 11.75 \nQ 26.265625 6.109375 33.40625 6.109375 \nQ 40.53125 6.109375 44.609375 11.75 \nQ 48.6875 17.390625 48.6875 27.296875 \nz\n\" id=\"DejaVuSans-112\"/>\n        <path d=\"M 37.109375 75.984375 \nL 37.109375 68.5 \nL 28.515625 68.5 \nQ 23.6875 68.5 21.796875 66.546875 \nQ 19.921875 64.59375 19.921875 59.515625 \nL 19.921875 54.6875 \nL 34.71875 54.6875 \nL 34.71875 47.703125 \nL 19.921875 47.703125 \nL 19.921875 0 \nL 10.890625 0 \nL 10.890625 47.703125 \nL 2.296875 47.703125 \nL 2.296875 54.6875 \nL 10.890625 54.6875 \nL 10.890625 58.5 \nQ 10.890625 67.625 15.140625 71.796875 \nQ 19.390625 75.984375 28.609375 75.984375 \nz\n\" id=\"DejaVuSans-102\"/>\n       </defs>\n       <use xlink:href=\"#DejaVuSans-112\"/>\n       <use x=\"63.476562\" xlink:href=\"#DejaVuSans-114\"/>\n       <use x=\"102.339844\" xlink:href=\"#DejaVuSans-101\"/>\n       <use x=\"163.863281\" xlink:href=\"#DejaVuSans-102\"/>\n       <use x=\"199.068359\" xlink:href=\"#DejaVuSans-97\"/>\n       <use x=\"260.347656\" xlink:href=\"#DejaVuSans-99\"/>\n       <use x=\"315.328125\" xlink:href=\"#DejaVuSans-101\"/>\n      </g>\n     </g>\n    </g>\n    <g id=\"xtick_4\">\n     <g id=\"line2d_4\">\n      <g>\n       <use style=\"stroke:#000000;stroke-width:0.8;\" x=\"102.925598\" xlink:href=\"#m9511e8af38\" y=\"224.748984\"/>\n      </g>\n     </g>\n     <g id=\"text_4\">\n      <!-- conclusion -->\n      <g transform=\"translate(76.419348 239.347421)scale(0.1 -0.1)\">\n       <defs>\n        <path d=\"M 44.28125 53.078125 \nL 44.28125 44.578125 \nQ 40.484375 46.53125 36.375 47.5 \nQ 32.28125 48.484375 27.875 48.484375 \nQ 21.1875 48.484375 17.84375 46.4375 \nQ 14.5 44.390625 14.5 40.28125 \nQ 14.5 37.15625 16.890625 35.375 \nQ 19.28125 33.59375 26.515625 31.984375 \nL 29.59375 31.296875 \nQ 39.15625 29.25 43.1875 25.515625 \nQ 47.21875 21.78125 47.21875 15.09375 \nQ 47.21875 7.46875 41.1875 3.015625 \nQ 35.15625 -1.421875 24.609375 -1.421875 \nQ 20.21875 -1.421875 15.453125 -0.5625 \nQ 10.6875 0.296875 5.421875 2 \nL 5.421875 11.28125 \nQ 10.40625 8.6875 15.234375 7.390625 \nQ 20.0625 6.109375 24.8125 6.109375 \nQ 31.15625 6.109375 34.5625 8.28125 \nQ 37.984375 10.453125 37.984375 14.40625 \nQ 37.984375 18.0625 35.515625 20.015625 \nQ 33.0625 21.96875 24.703125 23.78125 \nL 21.578125 24.515625 \nQ 13.234375 26.265625 9.515625 29.90625 \nQ 5.8125 33.546875 5.8125 39.890625 \nQ 5.8125 47.609375 11.28125 51.796875 \nQ 16.75 56 26.8125 56 \nQ 31.78125 56 36.171875 55.265625 \nQ 40.578125 54.546875 44.28125 53.078125 \nz\n\" id=\"DejaVuSans-115\"/>\n       </defs>\n       <use xlink:href=\"#DejaVuSans-99\"/>\n       <use x=\"54.980469\" xlink:href=\"#DejaVuSans-111\"/>\n       <use x=\"116.162109\" xlink:href=\"#DejaVuSans-110\"/>\n       <use x=\"179.541016\" xlink:href=\"#DejaVuSans-99\"/>\n       <use x=\"234.521484\" xlink:href=\"#DejaVuSans-108\"/>\n       <use x=\"262.304688\" xlink:href=\"#DejaVuSans-117\"/>\n       <use x=\"325.683594\" xlink:href=\"#DejaVuSans-115\"/>\n       <use x=\"377.783203\" xlink:href=\"#DejaVuSans-105\"/>\n       <use x=\"405.566406\" xlink:href=\"#DejaVuSans-111\"/>\n       <use x=\"466.748047\" xlink:href=\"#DejaVuSans-110\"/>\n      </g>\n     </g>\n    </g>\n    <g id=\"xtick_5\">\n     <g id=\"line2d_5\">\n      <g>\n       <use style=\"stroke:#000000;stroke-width:0.8;\" x=\"118.944737\" xlink:href=\"#m9511e8af38\" y=\"224.748984\"/>\n      </g>\n     </g>\n     <g id=\"text_5\">\n      <!-- presentation -->\n      <g transform=\"translate(87.299424 239.347421)scale(0.1 -0.1)\">\n       <use xlink:href=\"#DejaVuSans-112\"/>\n       <use x=\"63.476562\" xlink:href=\"#DejaVuSans-114\"/>\n       <use x=\"102.339844\" xlink:href=\"#DejaVuSans-101\"/>\n       <use x=\"163.863281\" xlink:href=\"#DejaVuSans-115\"/>\n       <use x=\"215.962891\" xlink:href=\"#DejaVuSans-101\"/>\n       <use x=\"277.486328\" xlink:href=\"#DejaVuSans-110\"/>\n       <use x=\"340.865234\" xlink:href=\"#DejaVuSans-116\"/>\n       <use x=\"380.074219\" xlink:href=\"#DejaVuSans-97\"/>\n       <use x=\"441.353516\" xlink:href=\"#DejaVuSans-116\"/>\n       <use x=\"480.5625\" xlink:href=\"#DejaVuSans-105\"/>\n       <use x=\"508.345703\" xlink:href=\"#DejaVuSans-111\"/>\n       <use x=\"569.527344\" xlink:href=\"#DejaVuSans-110\"/>\n      </g>\n     </g>\n    </g>\n    <g id=\"xtick_6\">\n     <g id=\"line2d_6\">\n      <g>\n       <use style=\"stroke:#000000;stroke-width:0.8;\" x=\"134.963876\" xlink:href=\"#m9511e8af38\" y=\"224.748984\"/>\n      </g>\n     </g>\n     <g id=\"text_6\">\n      <!-- reply -->\n      <g transform=\"translate(122.421688 239.347421)scale(0.1 -0.1)\">\n       <defs>\n        <path d=\"M 32.171875 -5.078125 \nQ 28.375 -14.84375 24.75 -17.8125 \nQ 21.140625 -20.796875 15.09375 -20.796875 \nL 7.90625 -20.796875 \nL 7.90625 -13.28125 \nL 13.1875 -13.28125 \nQ 16.890625 -13.28125 18.9375 -11.515625 \nQ 21 -9.765625 23.484375 -3.21875 \nL 25.09375 0.875 \nL 2.984375 54.6875 \nL 12.5 54.6875 \nL 29.59375 11.921875 \nL 46.6875 54.6875 \nL 56.203125 54.6875 \nz\n\" id=\"DejaVuSans-121\"/>\n       </defs>\n       <use xlink:href=\"#DejaVuSans-114\"/>\n       <use x=\"38.863281\" xlink:href=\"#DejaVuSans-101\"/>\n       <use x=\"100.386719\" xlink:href=\"#DejaVuSans-112\"/>\n       <use x=\"163.863281\" xlink:href=\"#DejaVuSans-108\"/>\n       <use x=\"191.646484\" xlink:href=\"#DejaVuSans-121\"/>\n      </g>\n     </g>\n    </g>\n    <g id=\"xtick_7\">\n     <g id=\"line2d_7\">\n      <g>\n       <use style=\"stroke:#000000;stroke-width:0.8;\" x=\"150.983014\" xlink:href=\"#m9511e8af38\" y=\"224.748984\"/>\n      </g>\n     </g>\n     <g id=\"text_7\">\n      <!-- foreword -->\n      <g transform=\"translate(128.853327 239.347421)scale(0.1 -0.1)\">\n       <defs>\n        <path d=\"M 4.203125 54.6875 \nL 13.1875 54.6875 \nL 24.421875 12.015625 \nL 35.59375 54.6875 \nL 46.1875 54.6875 \nL 57.421875 12.015625 \nL 68.609375 54.6875 \nL 77.59375 54.6875 \nL 63.28125 0 \nL 52.6875 0 \nL 40.921875 44.828125 \nL 29.109375 0 \nL 18.5 0 \nz\n\" id=\"DejaVuSans-119\"/>\n       </defs>\n       <use xlink:href=\"#DejaVuSans-102\"/>\n       <use x=\"35.205078\" xlink:href=\"#DejaVuSans-111\"/>\n       <use x=\"96.386719\" xlink:href=\"#DejaVuSans-114\"/>\n       <use x=\"135.25\" xlink:href=\"#DejaVuSans-101\"/>\n       <use x=\"196.773438\" xlink:href=\"#DejaVuSans-119\"/>\n       <use x=\"278.560547\" xlink:href=\"#DejaVuSans-111\"/>\n       <use x=\"339.742188\" xlink:href=\"#DejaVuSans-114\"/>\n       <use x=\"379.105469\" xlink:href=\"#DejaVuSans-100\"/>\n      </g>\n     </g>\n    </g>\n    <g id=\"xtick_8\">\n     <g id=\"line2d_8\">\n      <g>\n       <use style=\"stroke:#000000;stroke-width:0.8;\" x=\"167.002153\" xlink:href=\"#m9511e8af38\" y=\"224.748984\"/>\n      </g>\n     </g>\n     <g id=\"text_8\">\n      <!-- bibliographie -->\n      <g transform=\"translate(134.324809 239.347421)scale(0.1 -0.1)\">\n       <defs>\n        <path d=\"M 48.6875 27.296875 \nQ 48.6875 37.203125 44.609375 42.84375 \nQ 40.53125 48.484375 33.40625 48.484375 \nQ 26.265625 48.484375 22.1875 42.84375 \nQ 18.109375 37.203125 18.109375 27.296875 \nQ 18.109375 17.390625 22.1875 11.75 \nQ 26.265625 6.109375 33.40625 6.109375 \nQ 40.53125 6.109375 44.609375 11.75 \nQ 48.6875 17.390625 48.6875 27.296875 \nz\nM 18.109375 46.390625 \nQ 20.953125 51.265625 25.265625 53.625 \nQ 29.59375 56 35.59375 56 \nQ 45.5625 56 51.78125 48.09375 \nQ 58.015625 40.1875 58.015625 27.296875 \nQ 58.015625 14.40625 51.78125 6.484375 \nQ 45.5625 -1.421875 35.59375 -1.421875 \nQ 29.59375 -1.421875 25.265625 0.953125 \nQ 20.953125 3.328125 18.109375 8.203125 \nL 18.109375 0 \nL 9.078125 0 \nL 9.078125 75.984375 \nL 18.109375 75.984375 \nz\n\" id=\"DejaVuSans-98\"/>\n        <path d=\"M 45.40625 27.984375 \nQ 45.40625 37.75 41.375 43.109375 \nQ 37.359375 48.484375 30.078125 48.484375 \nQ 22.859375 48.484375 18.828125 43.109375 \nQ 14.796875 37.75 14.796875 27.984375 \nQ 14.796875 18.265625 18.828125 12.890625 \nQ 22.859375 7.515625 30.078125 7.515625 \nQ 37.359375 7.515625 41.375 12.890625 \nQ 45.40625 18.265625 45.40625 27.984375 \nz\nM 54.390625 6.78125 \nQ 54.390625 -7.171875 48.1875 -13.984375 \nQ 42 -20.796875 29.203125 -20.796875 \nQ 24.46875 -20.796875 20.265625 -20.09375 \nQ 16.0625 -19.390625 12.109375 -17.921875 \nL 12.109375 -9.1875 \nQ 16.0625 -11.328125 19.921875 -12.34375 \nQ 23.78125 -13.375 27.78125 -13.375 \nQ 36.625 -13.375 41.015625 -8.765625 \nQ 45.40625 -4.15625 45.40625 5.171875 \nL 45.40625 9.625 \nQ 42.625 4.78125 38.28125 2.390625 \nQ 33.9375 0 27.875 0 \nQ 17.828125 0 11.671875 7.65625 \nQ 5.515625 15.328125 5.515625 27.984375 \nQ 5.515625 40.671875 11.671875 48.328125 \nQ 17.828125 56 27.875 56 \nQ 33.9375 56 38.28125 53.609375 \nQ 42.625 51.21875 45.40625 46.390625 \nL 45.40625 54.6875 \nL 54.390625 54.6875 \nz\n\" id=\"DejaVuSans-103\"/>\n        <path d=\"M 54.890625 33.015625 \nL 54.890625 0 \nL 45.90625 0 \nL 45.90625 32.71875 \nQ 45.90625 40.484375 42.875 44.328125 \nQ 39.84375 48.1875 33.796875 48.1875 \nQ 26.515625 48.1875 22.3125 43.546875 \nQ 18.109375 38.921875 18.109375 30.90625 \nL 18.109375 0 \nL 9.078125 0 \nL 9.078125 75.984375 \nL 18.109375 75.984375 \nL 18.109375 46.1875 \nQ 21.34375 51.125 25.703125 53.5625 \nQ 30.078125 56 35.796875 56 \nQ 45.21875 56 50.046875 50.171875 \nQ 54.890625 44.34375 54.890625 33.015625 \nz\n\" id=\"DejaVuSans-104\"/>\n       </defs>\n       <use xlink:href=\"#DejaVuSans-98\"/>\n       <use x=\"63.476562\" xlink:href=\"#DejaVuSans-105\"/>\n       <use x=\"91.259766\" xlink:href=\"#DejaVuSans-98\"/>\n       <use x=\"154.736328\" xlink:href=\"#DejaVuSans-108\"/>\n       <use x=\"182.519531\" xlink:href=\"#DejaVuSans-105\"/>\n       <use x=\"210.302734\" xlink:href=\"#DejaVuSans-111\"/>\n       <use x=\"271.484375\" xlink:href=\"#DejaVuSans-103\"/>\n       <use x=\"334.960938\" xlink:href=\"#DejaVuSans-114\"/>\n       <use x=\"376.074219\" xlink:href=\"#DejaVuSans-97\"/>\n       <use x=\"437.353516\" xlink:href=\"#DejaVuSans-112\"/>\n       <use x=\"500.830078\" xlink:href=\"#DejaVuSans-104\"/>\n       <use x=\"564.208984\" xlink:href=\"#DejaVuSans-105\"/>\n       <use x=\"591.992188\" xlink:href=\"#DejaVuSans-101\"/>\n      </g>\n     </g>\n    </g>\n    <g id=\"xtick_9\">\n     <g id=\"line2d_9\">\n      <g>\n       <use style=\"stroke:#000000;stroke-width:0.8;\" x=\"183.021292\" xlink:href=\"#m9511e8af38\" y=\"224.748984\"/>\n      </g>\n     </g>\n     <g id=\"text_9\">\n      <!-- remerciements -->\n      <g transform=\"translate(145.216604 239.347421)scale(0.1 -0.1)\">\n       <defs>\n        <path d=\"M 52 44.1875 \nQ 55.375 50.25 60.0625 53.125 \nQ 64.75 56 71.09375 56 \nQ 79.640625 56 84.28125 50.015625 \nQ 88.921875 44.046875 88.921875 33.015625 \nL 88.921875 0 \nL 79.890625 0 \nL 79.890625 32.71875 \nQ 79.890625 40.578125 77.09375 44.375 \nQ 74.3125 48.1875 68.609375 48.1875 \nQ 61.625 48.1875 57.5625 43.546875 \nQ 53.515625 38.921875 53.515625 30.90625 \nL 53.515625 0 \nL 44.484375 0 \nL 44.484375 32.71875 \nQ 44.484375 40.625 41.703125 44.40625 \nQ 38.921875 48.1875 33.109375 48.1875 \nQ 26.21875 48.1875 22.15625 43.53125 \nQ 18.109375 38.875 18.109375 30.90625 \nL 18.109375 0 \nL 9.078125 0 \nL 9.078125 54.6875 \nL 18.109375 54.6875 \nL 18.109375 46.1875 \nQ 21.1875 51.21875 25.484375 53.609375 \nQ 29.78125 56 35.6875 56 \nQ 41.65625 56 45.828125 52.96875 \nQ 50 49.953125 52 44.1875 \nz\n\" id=\"DejaVuSans-109\"/>\n       </defs>\n       <use xlink:href=\"#DejaVuSans-114\"/>\n       <use x=\"38.863281\" xlink:href=\"#DejaVuSans-101\"/>\n       <use x=\"100.386719\" xlink:href=\"#DejaVuSans-109\"/>\n       <use x=\"197.798828\" xlink:href=\"#DejaVuSans-101\"/>\n       <use x=\"259.322266\" xlink:href=\"#DejaVuSans-114\"/>\n       <use x=\"298.185547\" xlink:href=\"#DejaVuSans-99\"/>\n       <use x=\"353.166016\" xlink:href=\"#DejaVuSans-105\"/>\n       <use x=\"380.949219\" xlink:href=\"#DejaVuSans-101\"/>\n       <use x=\"442.472656\" xlink:href=\"#DejaVuSans-109\"/>\n       <use x=\"539.884766\" xlink:href=\"#DejaVuSans-101\"/>\n       <use x=\"601.408203\" xlink:href=\"#DejaVuSans-110\"/>\n       <use x=\"664.787109\" xlink:href=\"#DejaVuSans-116\"/>\n       <use x=\"703.996094\" xlink:href=\"#DejaVuSans-115\"/>\n      </g>\n     </g>\n    </g>\n    <g id=\"xtick_10\">\n     <g id=\"line2d_10\">\n      <g>\n       <use style=\"stroke:#000000;stroke-width:0.8;\" x=\"199.040431\" xlink:href=\"#m9511e8af38\" y=\"224.748984\"/>\n      </g>\n     </g>\n     <g id=\"text_10\">\n      <!-- conclusions -->\n      <g transform=\"translate(169.929493 239.347421)scale(0.1 -0.1)\">\n       <use xlink:href=\"#DejaVuSans-99\"/>\n       <use x=\"54.980469\" xlink:href=\"#DejaVuSans-111\"/>\n       <use x=\"116.162109\" xlink:href=\"#DejaVuSans-110\"/>\n       <use x=\"179.541016\" xlink:href=\"#DejaVuSans-99\"/>\n       <use x=\"234.521484\" xlink:href=\"#DejaVuSans-108\"/>\n       <use x=\"262.304688\" xlink:href=\"#DejaVuSans-117\"/>\n       <use x=\"325.683594\" xlink:href=\"#DejaVuSans-115\"/>\n       <use x=\"377.783203\" xlink:href=\"#DejaVuSans-105\"/>\n       <use x=\"405.566406\" xlink:href=\"#DejaVuSans-111\"/>\n       <use x=\"466.748047\" xlink:href=\"#DejaVuSans-110\"/>\n       <use x=\"530.126953\" xlink:href=\"#DejaVuSans-115\"/>\n      </g>\n     </g>\n    </g>\n    <g id=\"xtick_11\">\n     <g id=\"line2d_11\">\n      <g>\n       <use style=\"stroke:#000000;stroke-width:0.8;\" x=\"215.059569\" xlink:href=\"#m9511e8af38\" y=\"224.748984\"/>\n      </g>\n     </g>\n     <g id=\"text_11\">\n      <!-- acknowledgements -->\n      <g transform=\"translate(166.462694 239.347421)scale(0.1 -0.1)\">\n       <defs>\n        <path d=\"M 9.078125 75.984375 \nL 18.109375 75.984375 \nL 18.109375 31.109375 \nL 44.921875 54.6875 \nL 56.390625 54.6875 \nL 27.390625 29.109375 \nL 57.625 0 \nL 45.90625 0 \nL 18.109375 26.703125 \nL 18.109375 0 \nL 9.078125 0 \nz\n\" id=\"DejaVuSans-107\"/>\n       </defs>\n       <use xlink:href=\"#DejaVuSans-97\"/>\n       <use x=\"61.279297\" xlink:href=\"#DejaVuSans-99\"/>\n       <use x=\"116.259766\" xlink:href=\"#DejaVuSans-107\"/>\n       <use x=\"174.169922\" xlink:href=\"#DejaVuSans-110\"/>\n       <use x=\"237.548828\" xlink:href=\"#DejaVuSans-111\"/>\n       <use x=\"298.730469\" xlink:href=\"#DejaVuSans-119\"/>\n       <use x=\"380.517578\" xlink:href=\"#DejaVuSans-108\"/>\n       <use x=\"408.300781\" xlink:href=\"#DejaVuSans-101\"/>\n       <use x=\"469.824219\" xlink:href=\"#DejaVuSans-100\"/>\n       <use x=\"533.300781\" xlink:href=\"#DejaVuSans-103\"/>\n       <use x=\"596.777344\" xlink:href=\"#DejaVuSans-101\"/>\n       <use x=\"658.300781\" xlink:href=\"#DejaVuSans-109\"/>\n       <use x=\"755.712891\" xlink:href=\"#DejaVuSans-101\"/>\n       <use x=\"817.236328\" xlink:href=\"#DejaVuSans-110\"/>\n       <use x=\"880.615234\" xlink:href=\"#DejaVuSans-116\"/>\n       <use x=\"919.824219\" xlink:href=\"#DejaVuSans-115\"/>\n      </g>\n     </g>\n    </g>\n    <g id=\"xtick_12\">\n     <g id=\"line2d_12\">\n      <g>\n       <use style=\"stroke:#000000;stroke-width:0.8;\" x=\"231.078708\" xlink:href=\"#m9511e8af38\" y=\"224.748984\"/>\n      </g>\n     </g>\n     <g id=\"text_12\">\n      <!-- references -->\n      <g transform=\"translate(204.603708 239.347421)scale(0.1 -0.1)\">\n       <use xlink:href=\"#DejaVuSans-114\"/>\n       <use x=\"38.863281\" xlink:href=\"#DejaVuSans-101\"/>\n       <use x=\"100.386719\" xlink:href=\"#DejaVuSans-102\"/>\n       <use x=\"135.591797\" xlink:href=\"#DejaVuSans-101\"/>\n       <use x=\"197.115234\" xlink:href=\"#DejaVuSans-114\"/>\n       <use x=\"235.978516\" xlink:href=\"#DejaVuSans-101\"/>\n       <use x=\"297.501953\" xlink:href=\"#DejaVuSans-110\"/>\n       <use x=\"360.880859\" xlink:href=\"#DejaVuSans-99\"/>\n       <use x=\"415.861328\" xlink:href=\"#DejaVuSans-101\"/>\n       <use x=\"477.384766\" xlink:href=\"#DejaVuSans-115\"/>\n      </g>\n     </g>\n    </g>\n    <g id=\"xtick_13\">\n     <g id=\"line2d_13\">\n      <g>\n       <use style=\"stroke:#000000;stroke-width:0.8;\" x=\"247.097847\" xlink:href=\"#m9511e8af38\" y=\"224.748984\"/>\n      </g>\n     </g>\n     <g id=\"text_13\">\n      <!-- annexes -->\n      <g transform=\"translate(226.222847 239.347421)scale(0.1 -0.1)\">\n       <defs>\n        <path d=\"M 54.890625 54.6875 \nL 35.109375 28.078125 \nL 55.90625 0 \nL 45.3125 0 \nL 29.390625 21.484375 \nL 13.484375 0 \nL 2.875 0 \nL 24.125 28.609375 \nL 4.6875 54.6875 \nL 15.28125 54.6875 \nL 29.78125 35.203125 \nL 44.28125 54.6875 \nz\n\" id=\"DejaVuSans-120\"/>\n       </defs>\n       <use xlink:href=\"#DejaVuSans-97\"/>\n       <use x=\"61.279297\" xlink:href=\"#DejaVuSans-110\"/>\n       <use x=\"124.658203\" xlink:href=\"#DejaVuSans-110\"/>\n       <use x=\"188.037109\" xlink:href=\"#DejaVuSans-101\"/>\n       <use x=\"247.810547\" xlink:href=\"#DejaVuSans-120\"/>\n       <use x=\"303.865234\" xlink:href=\"#DejaVuSans-101\"/>\n       <use x=\"365.388672\" xlink:href=\"#DejaVuSans-115\"/>\n      </g>\n     </g>\n    </g>\n    <g id=\"xtick_14\">\n     <g id=\"line2d_14\">\n      <g>\n       <use style=\"stroke:#000000;stroke-width:0.8;\" x=\"263.116986\" xlink:href=\"#m9511e8af38\" y=\"224.748984\"/>\n      </g>\n     </g>\n     <g id=\"text_14\">\n      <!-- introduccion -->\n      <g transform=\"translate(232.138079 239.347421)scale(0.1 -0.1)\">\n       <use xlink:href=\"#DejaVuSans-105\"/>\n       <use x=\"27.783203\" xlink:href=\"#DejaVuSans-110\"/>\n       <use x=\"91.162109\" xlink:href=\"#DejaVuSans-116\"/>\n       <use x=\"130.371094\" xlink:href=\"#DejaVuSans-114\"/>\n       <use x=\"169.234375\" xlink:href=\"#DejaVuSans-111\"/>\n       <use x=\"230.416016\" xlink:href=\"#DejaVuSans-100\"/>\n       <use x=\"293.892578\" xlink:href=\"#DejaVuSans-117\"/>\n       <use x=\"357.271484\" xlink:href=\"#DejaVuSans-99\"/>\n       <use x=\"412.251953\" xlink:href=\"#DejaVuSans-99\"/>\n       <use x=\"467.232422\" xlink:href=\"#DejaVuSans-105\"/>\n       <use x=\"495.015625\" xlink:href=\"#DejaVuSans-111\"/>\n       <use x=\"556.197266\" xlink:href=\"#DejaVuSans-110\"/>\n      </g>\n     </g>\n    </g>\n    <g id=\"xtick_15\">\n     <g id=\"line2d_15\">\n      <g>\n       <use style=\"stroke:#000000;stroke-width:0.8;\" x=\"279.136124\" xlink:href=\"#m9511e8af38\" y=\"224.748984\"/>\n      </g>\n     </g>\n     <g id=\"text_15\">\n      <!-- france -->\n      <g transform=\"translate(263.261906 239.347421)scale(0.1 -0.1)\">\n       <use xlink:href=\"#DejaVuSans-102\"/>\n       <use x=\"35.205078\" xlink:href=\"#DejaVuSans-114\"/>\n       <use x=\"76.318359\" xlink:href=\"#DejaVuSans-97\"/>\n       <use x=\"137.597656\" xlink:href=\"#DejaVuSans-110\"/>\n       <use x=\"200.976562\" xlink:href=\"#DejaVuSans-99\"/>\n       <use x=\"255.957031\" xlink:href=\"#DejaVuSans-101\"/>\n      </g>\n     </g>\n    </g>\n    <g id=\"xtick_16\">\n     <g id=\"line2d_16\">\n      <g>\n       <use style=\"stroke:#000000;stroke-width:0.8;\" x=\"295.155263\" xlink:href=\"#m9511e8af38\" y=\"224.748984\"/>\n      </g>\n     </g>\n     <g id=\"text_16\">\n      <!-- postface -->\n      <g transform=\"translate(273.706826 239.347421)scale(0.1 -0.1)\">\n       <use xlink:href=\"#DejaVuSans-112\"/>\n       <use x=\"63.476562\" xlink:href=\"#DejaVuSans-111\"/>\n       <use x=\"124.658203\" xlink:href=\"#DejaVuSans-115\"/>\n       <use x=\"176.757812\" xlink:href=\"#DejaVuSans-116\"/>\n       <use x=\"215.966797\" xlink:href=\"#DejaVuSans-102\"/>\n       <use x=\"251.171875\" xlink:href=\"#DejaVuSans-97\"/>\n       <use x=\"312.451172\" xlink:href=\"#DejaVuSans-99\"/>\n       <use x=\"367.431641\" xlink:href=\"#DejaVuSans-101\"/>\n      </g>\n     </g>\n    </g>\n    <g id=\"xtick_17\">\n     <g id=\"line2d_17\">\n      <g>\n       <use style=\"stroke:#000000;stroke-width:0.8;\" x=\"311.174402\" xlink:href=\"#m9511e8af38\" y=\"224.748984\"/>\n      </g>\n     </g>\n     <g id=\"text_17\">\n      <!-- index -->\n      <g transform=\"translate(297.493933 239.347421)scale(0.1 -0.1)\">\n       <use xlink:href=\"#DejaVuSans-105\"/>\n       <use x=\"27.783203\" xlink:href=\"#DejaVuSans-110\"/>\n       <use x=\"91.162109\" xlink:href=\"#DejaVuSans-100\"/>\n       <use x=\"154.638672\" xlink:href=\"#DejaVuSans-101\"/>\n       <use x=\"214.412109\" xlink:href=\"#DejaVuSans-120\"/>\n      </g>\n     </g>\n    </g>\n    <g id=\"xtick_18\">\n     <g id=\"line2d_18\">\n      <g>\n       <use style=\"stroke:#000000;stroke-width:0.8;\" x=\"327.193541\" xlink:href=\"#m9511e8af38\" y=\"224.748984\"/>\n      </g>\n     </g>\n     <g id=\"text_18\">\n      <!-- idees -->\n      <g transform=\"translate(313.872447 239.347421)scale(0.1 -0.1)\">\n       <use xlink:href=\"#DejaVuSans-105\"/>\n       <use x=\"27.783203\" xlink:href=\"#DejaVuSans-100\"/>\n       <use x=\"91.259766\" xlink:href=\"#DejaVuSans-101\"/>\n       <use x=\"152.783203\" xlink:href=\"#DejaVuSans-101\"/>\n       <use x=\"214.306641\" xlink:href=\"#DejaVuSans-115\"/>\n      </g>\n     </g>\n    </g>\n    <g id=\"xtick_19\">\n     <g id=\"line2d_19\">\n      <g>\n       <use style=\"stroke:#000000;stroke-width:0.8;\" x=\"343.212679\" xlink:href=\"#m9511e8af38\" y=\"224.748984\"/>\n      </g>\n     </g>\n     <g id=\"text_19\">\n      <!-- sources -->\n      <g transform=\"translate(324.006429 239.347421)scale(0.1 -0.1)\">\n       <use xlink:href=\"#DejaVuSans-115\"/>\n       <use x=\"52.099609\" xlink:href=\"#DejaVuSans-111\"/>\n       <use x=\"113.28125\" xlink:href=\"#DejaVuSans-117\"/>\n       <use x=\"176.660156\" xlink:href=\"#DejaVuSans-114\"/>\n       <use x=\"215.523438\" xlink:href=\"#DejaVuSans-99\"/>\n       <use x=\"270.503906\" xlink:href=\"#DejaVuSans-101\"/>\n       <use x=\"332.027344\" xlink:href=\"#DejaVuSans-115\"/>\n      </g>\n     </g>\n    </g>\n    <g id=\"xtick_20\">\n     <g id=\"line2d_20\">\n      <g>\n       <use style=\"stroke:#000000;stroke-width:0.8;\" x=\"359.231818\" xlink:href=\"#m9511e8af38\" y=\"224.748984\"/>\n      </g>\n     </g>\n     <g id=\"text_20\">\n      <!-- erratum -->\n      <g transform=\"translate(339.068537 239.347421)scale(0.1 -0.1)\">\n       <use xlink:href=\"#DejaVuSans-101\"/>\n       <use x=\"61.523438\" xlink:href=\"#DejaVuSans-114\"/>\n       <use x=\"100.886719\" xlink:href=\"#DejaVuSans-114\"/>\n       <use x=\"142\" xlink:href=\"#DejaVuSans-97\"/>\n       <use x=\"203.279297\" xlink:href=\"#DejaVuSans-116\"/>\n       <use x=\"242.488281\" xlink:href=\"#DejaVuSans-117\"/>\n       <use x=\"305.867188\" xlink:href=\"#DejaVuSans-109\"/>\n      </g>\n     </g>\n    </g>\n   </g>\n   <g id=\"matplotlib.axis_2\">\n    <g id=\"ytick_1\">\n     <g id=\"line2d_21\">\n      <defs>\n       <path d=\"M 0 0 \nL -3.5 0 \n\" id=\"ma9c499cd49\" style=\"stroke:#000000;stroke-width:0.8;\"/>\n      </defs>\n      <g>\n       <use style=\"stroke:#000000;stroke-width:0.8;\" x=\"39.65\" xlink:href=\"#ma9c499cd49\" y=\"217.445931\"/>\n      </g>\n     </g>\n     <g id=\"text_21\">\n      <!-- 0 -->\n      <g transform=\"translate(26.2875 221.24515)scale(0.1 -0.1)\">\n       <defs>\n        <path d=\"M 31.78125 66.40625 \nQ 24.171875 66.40625 20.328125 58.90625 \nQ 16.5 51.421875 16.5 36.375 \nQ 16.5 21.390625 20.328125 13.890625 \nQ 24.171875 6.390625 31.78125 6.390625 \nQ 39.453125 6.390625 43.28125 13.890625 \nQ 47.125 21.390625 47.125 36.375 \nQ 47.125 51.421875 43.28125 58.90625 \nQ 39.453125 66.40625 31.78125 66.40625 \nz\nM 31.78125 74.21875 \nQ 44.046875 74.21875 50.515625 64.515625 \nQ 56.984375 54.828125 56.984375 36.375 \nQ 56.984375 17.96875 50.515625 8.265625 \nQ 44.046875 -1.421875 31.78125 -1.421875 \nQ 19.53125 -1.421875 13.0625 8.265625 \nQ 6.59375 17.96875 6.59375 36.375 \nQ 6.59375 54.828125 13.0625 64.515625 \nQ 19.53125 74.21875 31.78125 74.21875 \nz\n\" id=\"DejaVuSans-48\"/>\n       </defs>\n       <use xlink:href=\"#DejaVuSans-48\"/>\n      </g>\n     </g>\n    </g>\n    <g id=\"ytick_2\">\n     <g id=\"line2d_22\">\n      <g>\n       <use style=\"stroke:#000000;stroke-width:0.8;\" x=\"39.65\" xlink:href=\"#ma9c499cd49\" y=\"191.640092\"/>\n      </g>\n     </g>\n     <g id=\"text_22\">\n      <!-- 200 -->\n      <g transform=\"translate(13.5625 195.439311)scale(0.1 -0.1)\">\n       <defs>\n        <path d=\"M 19.1875 8.296875 \nL 53.609375 8.296875 \nL 53.609375 0 \nL 7.328125 0 \nL 7.328125 8.296875 \nQ 12.9375 14.109375 22.625 23.890625 \nQ 32.328125 33.6875 34.8125 36.53125 \nQ 39.546875 41.84375 41.421875 45.53125 \nQ 43.3125 49.21875 43.3125 52.78125 \nQ 43.3125 58.59375 39.234375 62.25 \nQ 35.15625 65.921875 28.609375 65.921875 \nQ 23.96875 65.921875 18.8125 64.3125 \nQ 13.671875 62.703125 7.8125 59.421875 \nL 7.8125 69.390625 \nQ 13.765625 71.78125 18.9375 73 \nQ 24.125 74.21875 28.421875 74.21875 \nQ 39.75 74.21875 46.484375 68.546875 \nQ 53.21875 62.890625 53.21875 53.421875 \nQ 53.21875 48.921875 51.53125 44.890625 \nQ 49.859375 40.875 45.40625 35.40625 \nQ 44.1875 33.984375 37.640625 27.21875 \nQ 31.109375 20.453125 19.1875 8.296875 \nz\n\" id=\"DejaVuSans-50\"/>\n       </defs>\n       <use xlink:href=\"#DejaVuSans-50\"/>\n       <use x=\"63.623047\" xlink:href=\"#DejaVuSans-48\"/>\n       <use x=\"127.246094\" xlink:href=\"#DejaVuSans-48\"/>\n      </g>\n     </g>\n    </g>\n    <g id=\"ytick_3\">\n     <g id=\"line2d_23\">\n      <g>\n       <use style=\"stroke:#000000;stroke-width:0.8;\" x=\"39.65\" xlink:href=\"#ma9c499cd49\" y=\"165.834253\"/>\n      </g>\n     </g>\n     <g id=\"text_23\">\n      <!-- 400 -->\n      <g transform=\"translate(13.5625 169.633472)scale(0.1 -0.1)\">\n       <defs>\n        <path d=\"M 37.796875 64.3125 \nL 12.890625 25.390625 \nL 37.796875 25.390625 \nz\nM 35.203125 72.90625 \nL 47.609375 72.90625 \nL 47.609375 25.390625 \nL 58.015625 25.390625 \nL 58.015625 17.1875 \nL 47.609375 17.1875 \nL 47.609375 0 \nL 37.796875 0 \nL 37.796875 17.1875 \nL 4.890625 17.1875 \nL 4.890625 26.703125 \nz\n\" id=\"DejaVuSans-52\"/>\n       </defs>\n       <use xlink:href=\"#DejaVuSans-52\"/>\n       <use x=\"63.623047\" xlink:href=\"#DejaVuSans-48\"/>\n       <use x=\"127.246094\" xlink:href=\"#DejaVuSans-48\"/>\n      </g>\n     </g>\n    </g>\n    <g id=\"ytick_4\">\n     <g id=\"line2d_24\">\n      <g>\n       <use style=\"stroke:#000000;stroke-width:0.8;\" x=\"39.65\" xlink:href=\"#ma9c499cd49\" y=\"140.028414\"/>\n      </g>\n     </g>\n     <g id=\"text_24\">\n      <!-- 600 -->\n      <g transform=\"translate(13.5625 143.827633)scale(0.1 -0.1)\">\n       <defs>\n        <path d=\"M 33.015625 40.375 \nQ 26.375 40.375 22.484375 35.828125 \nQ 18.609375 31.296875 18.609375 23.390625 \nQ 18.609375 15.53125 22.484375 10.953125 \nQ 26.375 6.390625 33.015625 6.390625 \nQ 39.65625 6.390625 43.53125 10.953125 \nQ 47.40625 15.53125 47.40625 23.390625 \nQ 47.40625 31.296875 43.53125 35.828125 \nQ 39.65625 40.375 33.015625 40.375 \nz\nM 52.59375 71.296875 \nL 52.59375 62.3125 \nQ 48.875 64.0625 45.09375 64.984375 \nQ 41.3125 65.921875 37.59375 65.921875 \nQ 27.828125 65.921875 22.671875 59.328125 \nQ 17.53125 52.734375 16.796875 39.40625 \nQ 19.671875 43.65625 24.015625 45.921875 \nQ 28.375 48.1875 33.59375 48.1875 \nQ 44.578125 48.1875 50.953125 41.515625 \nQ 57.328125 34.859375 57.328125 23.390625 \nQ 57.328125 12.15625 50.6875 5.359375 \nQ 44.046875 -1.421875 33.015625 -1.421875 \nQ 20.359375 -1.421875 13.671875 8.265625 \nQ 6.984375 17.96875 6.984375 36.375 \nQ 6.984375 53.65625 15.1875 63.9375 \nQ 23.390625 74.21875 37.203125 74.21875 \nQ 40.921875 74.21875 44.703125 73.484375 \nQ 48.484375 72.75 52.59375 71.296875 \nz\n\" id=\"DejaVuSans-54\"/>\n       </defs>\n       <use xlink:href=\"#DejaVuSans-54\"/>\n       <use x=\"63.623047\" xlink:href=\"#DejaVuSans-48\"/>\n       <use x=\"127.246094\" xlink:href=\"#DejaVuSans-48\"/>\n      </g>\n     </g>\n    </g>\n    <g id=\"ytick_5\">\n     <g id=\"line2d_25\">\n      <g>\n       <use style=\"stroke:#000000;stroke-width:0.8;\" x=\"39.65\" xlink:href=\"#ma9c499cd49\" y=\"114.222575\"/>\n      </g>\n     </g>\n     <g id=\"text_25\">\n      <!-- 800 -->\n      <g transform=\"translate(13.5625 118.021794)scale(0.1 -0.1)\">\n       <defs>\n        <path d=\"M 31.78125 34.625 \nQ 24.75 34.625 20.71875 30.859375 \nQ 16.703125 27.09375 16.703125 20.515625 \nQ 16.703125 13.921875 20.71875 10.15625 \nQ 24.75 6.390625 31.78125 6.390625 \nQ 38.8125 6.390625 42.859375 10.171875 \nQ 46.921875 13.96875 46.921875 20.515625 \nQ 46.921875 27.09375 42.890625 30.859375 \nQ 38.875 34.625 31.78125 34.625 \nz\nM 21.921875 38.8125 \nQ 15.578125 40.375 12.03125 44.71875 \nQ 8.5 49.078125 8.5 55.328125 \nQ 8.5 64.0625 14.71875 69.140625 \nQ 20.953125 74.21875 31.78125 74.21875 \nQ 42.671875 74.21875 48.875 69.140625 \nQ 55.078125 64.0625 55.078125 55.328125 \nQ 55.078125 49.078125 51.53125 44.71875 \nQ 48 40.375 41.703125 38.8125 \nQ 48.828125 37.15625 52.796875 32.3125 \nQ 56.78125 27.484375 56.78125 20.515625 \nQ 56.78125 9.90625 50.3125 4.234375 \nQ 43.84375 -1.421875 31.78125 -1.421875 \nQ 19.734375 -1.421875 13.25 4.234375 \nQ 6.78125 9.90625 6.78125 20.515625 \nQ 6.78125 27.484375 10.78125 32.3125 \nQ 14.796875 37.15625 21.921875 38.8125 \nz\nM 18.3125 54.390625 \nQ 18.3125 48.734375 21.84375 45.5625 \nQ 25.390625 42.390625 31.78125 42.390625 \nQ 38.140625 42.390625 41.71875 45.5625 \nQ 45.3125 48.734375 45.3125 54.390625 \nQ 45.3125 60.0625 41.71875 63.234375 \nQ 38.140625 66.40625 31.78125 66.40625 \nQ 25.390625 66.40625 21.84375 63.234375 \nQ 18.3125 60.0625 18.3125 54.390625 \nz\n\" id=\"DejaVuSans-56\"/>\n       </defs>\n       <use xlink:href=\"#DejaVuSans-56\"/>\n       <use x=\"63.623047\" xlink:href=\"#DejaVuSans-48\"/>\n       <use x=\"127.246094\" xlink:href=\"#DejaVuSans-48\"/>\n      </g>\n     </g>\n    </g>\n    <g id=\"ytick_6\">\n     <g id=\"line2d_26\">\n      <g>\n       <use style=\"stroke:#000000;stroke-width:0.8;\" x=\"39.65\" xlink:href=\"#ma9c499cd49\" y=\"88.416736\"/>\n      </g>\n     </g>\n     <g id=\"text_26\">\n      <!-- 1000 -->\n      <g transform=\"translate(7.2 92.215955)scale(0.1 -0.1)\">\n       <defs>\n        <path d=\"M 12.40625 8.296875 \nL 28.515625 8.296875 \nL 28.515625 63.921875 \nL 10.984375 60.40625 \nL 10.984375 69.390625 \nL 28.421875 72.90625 \nL 38.28125 72.90625 \nL 38.28125 8.296875 \nL 54.390625 8.296875 \nL 54.390625 0 \nL 12.40625 0 \nz\n\" id=\"DejaVuSans-49\"/>\n       </defs>\n       <use xlink:href=\"#DejaVuSans-49\"/>\n       <use x=\"63.623047\" xlink:href=\"#DejaVuSans-48\"/>\n       <use x=\"127.246094\" xlink:href=\"#DejaVuSans-48\"/>\n       <use x=\"190.869141\" xlink:href=\"#DejaVuSans-48\"/>\n      </g>\n     </g>\n    </g>\n    <g id=\"ytick_7\">\n     <g id=\"line2d_27\">\n      <g>\n       <use style=\"stroke:#000000;stroke-width:0.8;\" x=\"39.65\" xlink:href=\"#ma9c499cd49\" y=\"62.610897\"/>\n      </g>\n     </g>\n     <g id=\"text_27\">\n      <!-- 1200 -->\n      <g transform=\"translate(7.2 66.410116)scale(0.1 -0.1)\">\n       <use xlink:href=\"#DejaVuSans-49\"/>\n       <use x=\"63.623047\" xlink:href=\"#DejaVuSans-50\"/>\n       <use x=\"127.246094\" xlink:href=\"#DejaVuSans-48\"/>\n       <use x=\"190.869141\" xlink:href=\"#DejaVuSans-48\"/>\n      </g>\n     </g>\n    </g>\n    <g id=\"ytick_8\">\n     <g id=\"line2d_28\">\n      <g>\n       <use style=\"stroke:#000000;stroke-width:0.8;\" x=\"39.65\" xlink:href=\"#ma9c499cd49\" y=\"36.805058\"/>\n      </g>\n     </g>\n     <g id=\"text_28\">\n      <!-- 1400 -->\n      <g transform=\"translate(7.2 40.604277)scale(0.1 -0.1)\">\n       <use xlink:href=\"#DejaVuSans-49\"/>\n       <use x=\"63.623047\" xlink:href=\"#DejaVuSans-52\"/>\n       <use x=\"127.246094\" xlink:href=\"#DejaVuSans-48\"/>\n       <use x=\"190.869141\" xlink:href=\"#DejaVuSans-48\"/>\n      </g>\n     </g>\n    </g>\n    <g id=\"ytick_9\">\n     <g id=\"line2d_29\">\n      <g>\n       <use style=\"stroke:#000000;stroke-width:0.8;\" x=\"39.65\" xlink:href=\"#ma9c499cd49\" y=\"10.999219\"/>\n      </g>\n     </g>\n     <g id=\"text_29\">\n      <!-- 1600 -->\n      <g transform=\"translate(7.2 14.798437)scale(0.1 -0.1)\">\n       <use xlink:href=\"#DejaVuSans-49\"/>\n       <use x=\"63.623047\" xlink:href=\"#DejaVuSans-54\"/>\n       <use x=\"127.246094\" xlink:href=\"#DejaVuSans-48\"/>\n       <use x=\"190.869141\" xlink:href=\"#DejaVuSans-48\"/>\n      </g>\n     </g>\n    </g>\n   </g>\n   <g id=\"line2d_30\">\n    <path clip-path=\"url(#pfd506a12be)\" d=\"M 54.868182 17.19262 \nL 70.887321 157.963472 \nL 86.906459 170.221246 \nL 102.925598 181.188727 \nL 118.944737 196.414172 \nL 134.963876 197.059318 \nL 150.983014 197.833494 \nL 167.002153 198.736698 \nL 183.021292 208.542917 \nL 199.040431 208.800975 \nL 215.059569 209.317092 \nL 231.078708 212.026705 \nL 247.097847 212.929909 \nL 263.116986 213.446026 \nL 279.136124 213.833114 \nL 295.155263 213.833114 \nL 311.174402 213.962143 \nL 327.193541 214.091172 \nL 343.212679 214.607289 \nL 359.231818 214.865347 \n\" style=\"fill:none;stroke:#1f77b4;stroke-linecap:square;stroke-width:1.5;\"/>\n   </g>\n   <g id=\"line2d_31\">\n    <path clip-path=\"url(#pfd506a12be)\" d=\"M 215.059569 224.748984 \nL 215.059569 7.308984 \n\" style=\"fill:none;stroke:#ff0000;stroke-linecap:square;stroke-width:1.5;\"/>\n   </g>\n   <g id=\"patch_3\">\n    <path d=\"M 39.65 224.748984 \nL 39.65 7.308984 \n\" style=\"fill:none;stroke:#000000;stroke-linecap:square;stroke-linejoin:miter;stroke-width:0.8;\"/>\n   </g>\n   <g id=\"patch_4\">\n    <path d=\"M 374.45 224.748984 \nL 374.45 7.308984 \n\" style=\"fill:none;stroke:#000000;stroke-linecap:square;stroke-linejoin:miter;stroke-width:0.8;\"/>\n   </g>\n   <g id=\"patch_5\">\n    <path d=\"M 39.65 224.748984 \nL 374.45 224.748984 \n\" style=\"fill:none;stroke:#000000;stroke-linecap:square;stroke-linejoin:miter;stroke-width:0.8;\"/>\n   </g>\n   <g id=\"patch_6\">\n    <path d=\"M 39.65 7.308984 \nL 374.45 7.308984 \n\" style=\"fill:none;stroke:#000000;stroke-linecap:square;stroke-linejoin:miter;stroke-width:0.8;\"/>\n   </g>\n  </g>\n </g>\n <defs>\n  <clipPath id=\"pfd506a12be\">\n   <rect height=\"217.44\" width=\"334.8\" x=\"39.65\" y=\"7.308984\"/>\n  </clipPath>\n </defs>\n</svg>\n",
      "image/png": "[encoded data removed]"
     },
     "metadata": {
      "needs_background": "light"
     }
    }
   ],
   "source": [
    "from collections import Counter\n",
    "import matplotlib.pyplot as plt\n",
    "\n",
    "count = Counter(words)\n",
    "bar = [x[0] for x in count.most_common(20)]\n",
    "heigth = [x[1] for x in count.most_common(20)]\n",
    "plt.plot(bar, heigth)#, orientation=\"vertical\")\n",
    "plt.axvline(x=10, color = \"r\")\n",
    "plt.plot()\n",
    "plt.show()"
   ]
  },
  {
   "cell_type": "code",
   "execution_count": 67,
   "metadata": {},
   "outputs": [
    {
     "output_type": "execute_result",
     "data": {
      "text/plain": [
       "[('introduction', 1552),\n",
       " ('editorial', 461),\n",
       " ('preface', 366),\n",
       " ('conclusion', 281),\n",
       " ('presentation', 163),\n",
       " ('reply', 158),\n",
       " ('foreword', 152),\n",
       " ('bibliographie', 145),\n",
       " ('remerciements', 69),\n",
       " ('conclusions', 67),\n",
       " ('acknowledgements', 63),\n",
       " ('references', 42),\n",
       " ('annexes', 35),\n",
       " ('introduccion', 31),\n",
       " ('france', 28),\n",
       " ('postface', 28),\n",
       " ('index', 27),\n",
       " ('idees', 26),\n",
       " ('sources', 22),\n",
       " ('erratum', 20),\n",
       " ('liminaire', 20),\n",
       " ('response', 18),\n",
       " ('finance', 18),\n",
       " ('corrigendum', 18),\n",
       " ('prologo', 16),\n",
       " ('predislovie', 16),\n",
       " ('manufacturing', 16),\n",
       " ('energy', 16),\n",
       " ('mining', 16),\n",
       " ('bibliography', 15),\n",
       " ('transport', 15),\n",
       " ('livres', 14),\n",
       " ('abbreviations', 14),\n",
       " ('overview', 14),\n",
       " ('epilogue', 13),\n",
       " ('glossaire', 13),\n",
       " ('acronyms', 13),\n",
       " ('abreviations', 13),\n",
       " ('discussion', 12),\n",
       " ('resumen', 12),\n",
       " ('glossary', 10),\n",
       " ('reziume', 9),\n",
       " ('population', 9),\n",
       " ('perspectives', 9),\n",
       " ('bibliografia', 9),\n",
       " ('commentary', 9),\n",
       " ('ouverture', 8),\n",
       " ('tmhyd', 8),\n",
       " ('background', 8),\n",
       " ('summary', 8)]"
      ]
     },
     "metadata": {},
     "execution_count": 67
    }
   ],
   "source": [
    "count.most_common(50)"
   ]
  },
  {
   "cell_type": "code",
   "execution_count": 69,
   "metadata": {},
   "outputs": [
    {
     "output_type": "execute_result",
     "data": {
      "text/plain": [
       "[{'sourceUid': 'hal$tel-01023059',\n",
       "  'similarityRate': 0.8909,\n",
       "  'source': 'hal',\n",
       "  'type': 'Thèse',\n",
       "  'idConditor': 'hG_b90JGut6Xd3VAgLnudGW9Q'}]"
      ]
     },
     "metadata": {},
     "execution_count": 69
    }
   ],
   "source": [
    "notice[\"nearDuplicates\"]"
   ]
  },
  {
   "cell_type": "code",
   "execution_count": null,
   "metadata": {},
   "outputs": [],
   "source": []
  }
 ]
}