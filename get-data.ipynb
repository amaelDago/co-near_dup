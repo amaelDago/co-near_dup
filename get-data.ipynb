{
 "metadata": {
  "language_info": {
   "codemirror_mode": {
    "name": "ipython",
    "version": 3
   },
   "file_extension": ".py",
   "mimetype": "text/x-python",
   "name": "python",
   "nbconvert_exporter": "python",
   "pygments_lexer": "ipython3",
   "version": "3.8.5"
  },
  "orig_nbformat": 2,
  "kernelspec": {
   "name": "python385jvsc74a57bd0fbbb205bcf0e6e6dc058da4caac1dea5690b364b8e6e7e3faad64b2e01ee6bd0",
   "display_name": "Python 3.8.5 64-bit ('base': conda)"
  },
  "metadata": {
   "interpreter": {
    "hash": "fbbb205bcf0e6e6dc058da4caac1dea5690b364b8e6e7e3faad64b2e01ee6bd0"
   }
  }
 },
 "nbformat": 4,
 "nbformat_minor": 2,
 "cells": [
  {
   "cell_type": "code",
   "execution_count": 21,
   "metadata": {},
   "outputs": [],
   "source": [
    "import json\n",
    "import dvc.api\n",
    "\n",
    "with dvc.api.open(\n",
    "        'data/database/database.json',\n",
    "        repo='https://github.com/amaelDago/co-near_dup' ) as fd:\n",
    "\n",
    "        temp = fd.read()\n",
    "        data = json.loads(temp)\n"
   ]
  },
  {
   "cell_type": "code",
   "execution_count": 25,
   "metadata": {},
   "outputs": [
    {
     "output_type": "error",
     "ename": "ImportError",
     "evalue": "cannot import name 'checkNotice' from 'utils' (/home/dago/Documents/TDM/sprint-5/doublons-incertains/co-near_dup/utils.py)",
     "traceback": [
      "\u001b[0;31m---------------------------------------------------------------------------\u001b[0m",
      "\u001b[0;31mImportError\u001b[0m                               Traceback (most recent call last)",
      "\u001b[0;32m<ipython-input-25-04841801dfe9>\u001b[0m in \u001b[0;36m<module>\u001b[0;34m\u001b[0m\n\u001b[0;32m----> 1\u001b[0;31m \u001b[0;32mfrom\u001b[0m \u001b[0mutils\u001b[0m \u001b[0;32mimport\u001b[0m \u001b[0mcheckNotice\u001b[0m\u001b[0;34m\u001b[0m\u001b[0;34m\u001b[0m\u001b[0m\n\u001b[0m",
      "\u001b[0;31mImportError\u001b[0m: cannot import name 'checkNotice' from 'utils' (/home/dago/Documents/TDM/sprint-5/doublons-incertains/co-near_dup/utils.py)"
     ]
    }
   ],
   "source": [
    "from utils import checkNotice"
   ]
  },
  {
   "source": [
    "data"
   ],
   "cell_type": "markdown",
   "metadata": {}
  },
  {
   "cell_type": "code",
   "execution_count": 37,
   "metadata": {},
   "outputs": [],
   "source": [
    "import pandas as pd\n",
    "df = pd.DataFrame(data.values())\n",
    "\n",
    "def get_notice_from_sourceUid(sourceUid, df = df): \n",
    "    if not isinstance(sourceUid, str) : \n",
    "        sourceUid = str(sourceUid)\n",
    "    n_serie = df[df.sourceUid == sourceUid]\n",
    "    t = n_serie.T.to_json()\n",
    "    t_json = list(json.loads(t).values())[0]\n",
    "    return t_json"
   ]
  },
  {
   "cell_type": "code",
   "execution_count": 39,
   "metadata": {},
   "outputs": [],
   "source": [
    "n1, n2 = [get_notice_from_sourceUid(x) for x in [\"pubmed$27993150\", \"crossref$10.1186/s13075-016-1114-y\"]]"
   ]
  },
  {
   "cell_type": "code",
   "execution_count": 69,
   "metadata": {},
   "outputs": [
    {
     "output_type": "execute_result",
     "data": {
      "text/plain": [
       "{'hasDoi': True,\n",
       " 'sourceId': '10.1186/s13075-016-1114-y',\n",
       " 'documentType': ['Journal article'],\n",
       " 'researcherId': [],\n",
       " 'teiBlob': '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',\n",
       " 'isbn': [],\n",
       " 'orcId': ['0000-0002-3414-1667'],\n",
       " 'source': 'crossref',\n",
       " 'title': {'default': 'Rheumatology training experience across Europe: analysis of core competences',\n",
       "  'monography': '',\n",
       "  'journal': 'Arthritis Research & Therapy',\n",
       "  'en': '',\n",
       "  'fr': '',\n",
       "  'meeting': ''},\n",
       " 'idHal': None,\n",
       " 'hasFulltext': False,\n",
       " 'isni': [],\n",
       " 'idChain': '!crossref:HFVh6mJUdA3Q8_Rmn2qw_opYr!hal:HUrdKq2l77NlmASOLnFcnReXn!pubmed:Khz0d8fBt6dOYgKXx7pRyuGJG!',\n",
       " 'halAuthorId': [],\n",
       " 'isDuplicate': True,\n",
       " 'publicationDate': '2016',\n",
       " 'duplicates': [{'sessionName': 'HAL_2020-01-28_2016_IK20200128',\n",
       "   'rules': ['Article : 1ID:doi+TiC'],\n",
       "   'source': 'hal',\n",
       "   'idConditor': 'HUrdKq2l77NlmASOLnFcnReXn'},\n",
       "  {'sessionName': 'PUBMED_2020-01-30_2016_IK20200128',\n",
       "   'rules': ['Article : 1ID:doi+TiC'],\n",
       "   'source': 'pubmed',\n",
       "   'idConditor': 'Khz0d8fBt6dOYgKXx7pRyuGJG'}],\n",
       " 'first3AuthorNamesWithInitials': 'Sivera F Ramiro S Cikes N',\n",
       " 'sessionName': 'CROSSREF_2020-01-29_2016_IK20200128',\n",
       " 'typeConditor': 'Article',\n",
       " 'halId': None,\n",
       " 'isNearDuplicate': True,\n",
       " 'eissn': ['1478-6362'],\n",
       " 'isDeduplicable': True,\n",
       " 'creationDate': '2020-01-29 14:58:50',\n",
       " 'rnsr': [],\n",
       " 'viaf': [],\n",
       " 'idConditor': 'HFVh6mJUdA3Q8_Rmn2qw_opYr',\n",
       " 'nearDuplicates': [{'similarityRate': 1,\n",
       "   'source': 'pubmed',\n",
       "   'type': 'Article',\n",
       "   'idConditor': 'bcSFq3PVayzVlfXDsfRbcIwI4'},\n",
       "  {'similarityRate': 0.9705,\n",
       "   'source': 'crossref',\n",
       "   'type': 'Article',\n",
       "   'idConditor': 'OIQH2NbtLUkZjLfbv_5tYHrxz'}],\n",
       " 'xissn': ['1478-6362'],\n",
       " 'sourceUid': 'crossref$10.1186/s13075-016-1114-y',\n",
       " 'issn': [],\n",
       " 'first3AuthorNames': 'Sivera Francisca Ramiro Sofia Cikes Nada',\n",
       " 'authorNames': 'Sivera Francisca Ramiro Sofia Cikes Nada Cutolo Maurizio Dougados Maxime Gossec Laure Kvien Tore K. Lundberg Ingrid E. Mandl Peter Moorthy Arumugam Panchal Sonia da Silva José A. P. Bijlsma Johannes W.',\n",
       " 'nearDuplicatesDetectedBySimilarity': [{'similarityRate': 1,\n",
       "   'source': 'pubmed',\n",
       "   'type': 'Article',\n",
       "   'idConditor': 'bcSFq3PVayzVlfXDsfRbcIwI4'},\n",
       "  {'similarityRate': 0.9705,\n",
       "   'source': 'crossref',\n",
       "   'type': 'Article',\n",
       "   'idConditor': 'OIQH2NbtLUkZjLfbv_5tYHrxz'},\n",
       "  {'similarityRate': 0.827,\n",
       "   'source': 'pubmed',\n",
       "   'type': 'Article',\n",
       "   'idConditor': 'Khz0d8fBt6dOYgKXx7pRyuGJG'},\n",
       "  {'similarityRate': 0.7805,\n",
       "   'source': 'hal',\n",
       "   'type': 'Article',\n",
       "   'idConditor': 'HUrdKq2l77NlmASOLnFcnReXn'}],\n",
       " 'xPublicationDate': ['2016', '2016'],\n",
       " '_score': 2.2745862,\n",
       " '_sort': [3156741],\n",
       " 'pageRange': None,\n",
       " 'volume': '18',\n",
       " 'abstract': None,\n",
       " 'doi': '10.1186/s13075-016-1114-y',\n",
       " 'fulltextPath': None,\n",
       " 'reportNumber': None,\n",
       " 'localRef': None,\n",
       " 'issue': '1',\n",
       " 'arxiv': None,\n",
       " 'electronicPublicationDate': '2016',\n",
       " 'inspire': None,\n",
       " 'hasTransDuplicate': False,\n",
       " 'duplicateRules': ['Article : 1ID:doi+TiC'],\n",
       " 'nnt': None,\n",
       " 'ensam': None,\n",
       " 'ird': None,\n",
       " 'sciencespo': None,\n",
       " 'patentNumber': None,\n",
       " 'bibCode': None,\n",
       " 'irstea': None,\n",
       " 'oatao': None,\n",
       " 'pii': '1114',\n",
       " 'specialIssue': None,\n",
       " 'pmId': None,\n",
       " 'pmc': None,\n",
       " 'okina': None,\n",
       " 'supplement': None,\n",
       " 'part': None,\n",
       " 'ppn': None,\n",
       " 'ineris': None,\n",
       " 'cern': None}"
      ]
     },
     "metadata": {},
     "execution_count": 69
    }
   ],
   "source": [
    "n2"
   ]
  },
  {
   "cell_type": "code",
   "execution_count": 71,
   "metadata": {},
   "outputs": [
    {
     "output_type": "error",
     "ename": "ImportError",
     "evalue": "cannot import name 'checkPR' from 'utils' (/home/dago/Documents/TDM/sprint-5/doublons-incertains/co-near_dup/utils.py)",
     "traceback": [
      "\u001b[0;31m---------------------------------------------------------------------------\u001b[0m",
      "\u001b[0;31mImportError\u001b[0m                               Traceback (most recent call last)",
      "\u001b[0;32m<ipython-input-71-6cd92d501810>\u001b[0m in \u001b[0;36m<module>\u001b[0;34m\u001b[0m\n\u001b[0;32m----> 1\u001b[0;31m \u001b[0;32mfrom\u001b[0m \u001b[0mutils\u001b[0m \u001b[0;32mimport\u001b[0m \u001b[0mcheckPR\u001b[0m\u001b[0;34m\u001b[0m\u001b[0;34m\u001b[0m\u001b[0m\n\u001b[0m",
      "\u001b[0;31mImportError\u001b[0m: cannot import name 'checkPR' from 'utils' (/home/dago/Documents/TDM/sprint-5/doublons-incertains/co-near_dup/utils.py)"
     ]
    }
   ],
   "source": [
    "from utils import \n"
   ]
  },
  {
   "cell_type": "code",
   "execution_count": 65,
   "metadata": {},
   "outputs": [],
   "source": [
    "# Def settlement\n",
    "def getSettlement(notice) :\n",
    "    tb = notice['teiBlob']\n",
    "    tb_decoded = base64.b64decode(tb).decode('utf8')\n",
    "    soup = BeautifulSoup(tb_decoded, \"xml\")\n",
    "    t = soup.find(\"meeting\")\n",
    "    if t :\n",
    "        return t\n",
    "    else : \n",
    "        return \"\"\n"
   ]
  },
  {
   "cell_type": "code",
   "execution_count": 70,
   "metadata": {},
   "outputs": [
    {
     "output_type": "execute_result",
     "data": {
      "text/plain": [
       "''"
      ]
     },
     "metadata": {},
     "execution_count": 70
    }
   ],
   "source": [
    "from bs4 import BeautifulSoup\n",
    "import base64\n",
    "\n",
    "getSettlement(n1)\n"
   ]
  },
  {
   "cell_type": "code",
   "execution_count": 53,
   "metadata": {},
   "outputs": [
    {
     "output_type": "error",
     "ename": "NameError",
     "evalue": "name 'checkNotice' is not defined",
     "traceback": [
      "\u001b[0;31m---------------------------------------------------------------------------\u001b[0m",
      "\u001b[0;31mNameError\u001b[0m                                 Traceback (most recent call last)",
      "\u001b[0;32m<ipython-input-53-c81d23156372>\u001b[0m in \u001b[0;36m<module>\u001b[0;34m\u001b[0m\n\u001b[0;32m----> 1\u001b[0;31m \u001b[0mcheckNotice\u001b[0m\u001b[0;34m(\u001b[0m\u001b[0mn1\u001b[0m\u001b[0;34m,\u001b[0m\u001b[0mn2\u001b[0m\u001b[0;34m)\u001b[0m\u001b[0;34m\u001b[0m\u001b[0;34m\u001b[0m\u001b[0m\n\u001b[0m",
      "\u001b[0;31mNameError\u001b[0m: name 'checkNotice' is not defined"
     ]
    }
   ],
   "source": [
    "checkNotice(n1,n2)"
   ]
  },
  {
   "cell_type": "code",
   "execution_count": 72,
   "metadata": {},
   "outputs": [
    {
     "output_type": "error",
     "ename": "ImportError",
     "evalue": "cannot import name 'checkPR' from 'utils' (/home/dago/Documents/TDM/sprint-5/doublons-incertains/co-near_dup/utils.py)",
     "traceback": [
      "\u001b[0;31m---------------------------------------------------------------------------\u001b[0m",
      "\u001b[0;31mImportError\u001b[0m                               Traceback (most recent call last)",
      "\u001b[0;32m<ipython-input-72-6cd92d501810>\u001b[0m in \u001b[0;36m<module>\u001b[0;34m\u001b[0m\n\u001b[0;32m----> 1\u001b[0;31m \u001b[0;32mfrom\u001b[0m \u001b[0mutils\u001b[0m \u001b[0;32mimport\u001b[0m \u001b[0mcheckPR\u001b[0m\u001b[0;34m\u001b[0m\u001b[0;34m\u001b[0m\u001b[0m\n\u001b[0m",
      "\u001b[0;31mImportError\u001b[0m: cannot import name 'checkPR' from 'utils' (/home/dago/Documents/TDM/sprint-5/doublons-incertains/co-near_dup/utils.py)"
     ]
    }
   ],
   "source": [
    "from utils import checkPR"
   ]
  },
  {
   "cell_type": "code",
   "execution_count": null,
   "metadata": {},
   "outputs": [],
   "source": []
  }
 ]
}